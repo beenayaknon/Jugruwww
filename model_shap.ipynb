{
 "cells": [
  {
   "cell_type": "markdown",
   "metadata": {},
   "source": [
    "RandomForestClassifier/XGBClassifier/MLPClassifier with Shap"
   ]
  },
  {
   "cell_type": "code",
   "execution_count": null,
   "metadata": {},
   "outputs": [],
   "source": [
    "import pandas as pd\n",
    "from sklearn.preprocessing import StandardScaler\n",
    "import numpy as np\n",
    "import matplotlib.pyplot as plt\n",
    "from sklearn.ensemble import RandomForestClassifier\n",
    "from sklearn.preprocessing import LabelEncoder\n",
    "from sklearn.metrics import accuracy_score, classification_report\n",
    "\n",
    "import shap\n",
    "from xgboost import XGBClassifier, DMatrix\n",
    "from matplotlib.colors import LinearSegmentedColormap\n",
    "\n",
    "from sklearn.neural_network import MLPClassifier\n"
   ]
  },
  {
   "cell_type": "code",
   "execution_count": 2,
   "metadata": {},
   "outputs": [],
   "source": [
    "# Load datasets\n",
    "df_train = pd.read_json('dataset/for_modeling/test.json')\n",
    "df_val = pd.read_json('dataset/for_modeling/validation.json')\n",
    "df_test = pd.read_json('dataset/for_modeling/test.json')"
   ]
  },
  {
   "cell_type": "code",
   "execution_count": 3,
   "metadata": {},
   "outputs": [],
   "source": [
    "# Categories\n",
    "categories = [\n",
    "    'Generic policy', 'Reporting mechanism', 'Information on maintainer', \n",
    "    'Scope of practice', 'Projects practice', 'History of vulnerability', \n",
    "    'User guideline', 'Additional information',\n",
    "]\n",
    "\n",
    "for category in categories:\n",
    "    df_train[category] = df_train['SecurityPolicy_content_category'].apply(lambda x: 1 if category in x else 0)\n",
    "    df_val[category] = df_val['SecurityPolicy_content_category'].apply(lambda x: 1 if category in x else 0)\n",
    "    df_test[category] = df_test['SecurityPolicy_content_category'].apply(lambda x: 1 if category in x else 0)\n",
    "\n",
    "# Features\n",
    "selected_features = ['num_commits', 'project_age_days', 'num_contributors', \n",
    "                     'num_issues', 'num_pull', 'num_opening_issue', 'project_size(kB)', \n",
    "                     'num_stargazers', 'num_watchers', 'num_forks', 'num_subscribers']\n",
    "\n",
    "# Change category to be trained here\n",
    "X_train, y_train = df_train[selected_features], df_train['Generic policy']\n",
    "X_val, y_val = df_val[selected_features], df_val['Generic policy']\n",
    "X_test, y_test = df_test[selected_features], df_test['Generic policy']"
   ]
  },
  {
   "cell_type": "code",
   "execution_count": 4,
   "metadata": {},
   "outputs": [],
   "source": [
    "# Encode target variables\n",
    "le = LabelEncoder()\n",
    "y_train = le.fit_transform(y_train)\n",
    "y_val = le.transform(y_val)\n",
    "y_test = le.transform(y_test)"
   ]
  },
  {
   "cell_type": "markdown",
   "metadata": {},
   "source": [
    "Random forest Classification"
   ]
  },
  {
   "cell_type": "code",
   "execution_count": null,
   "metadata": {},
   "outputs": [],
   "source": [
    "# Train Random forest\n",
    "rf_clf = RandomForestClassifier(n_estimators=100, max_depth=None)\n",
    "rf_clf.fit(X_train, y_train)\n",
    "\n",
    "# Validate RF\n",
    "y_val_pred = rf_clf.predict(X_val)\n",
    "val_accuracy = accuracy_score(y_val, y_val_pred)\n",
    "print(f'Validation Accuracy: {val_accuracy:.2f}')\n",
    "print('Validation Report:')\n",
    "print(classification_report(y_val, y_val_pred))\n",
    "\n",
    "# Test RF\n",
    "y_test_pred = rf_clf.predict(X_test)\n",
    "test_accuracy = accuracy_score(y_test, y_test_pred)\n",
    "print(f'Test Accuracy: {test_accuracy:.2f}')\n",
    "print('Test Report:')\n",
    "print(classification_report(y_test, y_test_pred))\n"
   ]
  },
  {
   "cell_type": "code",
   "execution_count": null,
   "metadata": {},
   "outputs": [],
   "source": [
    "# Shap RF\n",
    "explainer = shap.KernelExplainer(rf_clf.predict, shap.kmeans(X_train, 10))\n",
    "shap_values = explainer.shap_values(X_test)\n",
    "\n",
    "cmap = LinearSegmentedColormap.from_list(\"custom\", [\"#f3baba\", \"#006C6C\"])\n",
    "shap.summary_plot(shap_values, X_test, cmap=cmap, show=False)\n",
    "# plt.title(\"Generic policy\", fontsize=20)\n",
    "plt.xlabel(\"SHAP value\")"
   ]
  },
  {
   "cell_type": "markdown",
   "metadata": {},
   "source": [
    "XGBoost Classification"
   ]
  },
  {
   "cell_type": "code",
   "execution_count": null,
   "metadata": {},
   "outputs": [],
   "source": [
    "xg_clf = XGBClassifier(n_estimators=2, max_depth=2, learning_rate=1, objective='binary:logistic', use_label_encoder=False)\n",
    "xg_clf.fit(X_train, y_train)\n",
    "\n",
    "# Validate XGB\n",
    "y_val_pred = xg_clf.predict(X_val)\n",
    "val_accuracy = accuracy_score(y_val, y_val_pred)\n",
    "print(f'Validation Accuracy: {val_accuracy:.2f}')\n",
    "print('Validation Report:')\n",
    "print(classification_report(y_val, y_val_pred))\n",
    "\n",
    "# Test XGB\n",
    "y_test_pred = xg_clf.predict(X_test)\n",
    "test_accuracy = accuracy_score(y_test, y_test_pred)\n",
    "print(f'Test Accuracy: {test_accuracy:.2f}')\n",
    "print('Test Report:')\n",
    "print(classification_report(y_test, y_test_pred))"
   ]
  },
  {
   "cell_type": "code",
   "execution_count": null,
   "metadata": {},
   "outputs": [],
   "source": [
    "# Shap XGB\n",
    "explainer = shap.TreeExplainer(xg_clf)\n",
    "shap_values = explainer.shap_values(X_test)\n",
    "\n",
    "cmap = LinearSegmentedColormap.from_list(\"custom\", [\"#f3baba\", \"#006C6C\"])\n",
    "shap.summary_plot(shap_values, X_test, cmap=cmap, show=False)\n",
    "# plt.title(\"Generic policy\", fontsize=20)\n",
    "plt.xlabel(\"SHAP value\")"
   ]
  },
  {
   "cell_type": "markdown",
   "metadata": {},
   "source": [
    "NN MLPClassifier"
   ]
  },
  {
   "cell_type": "code",
   "execution_count": null,
   "metadata": {},
   "outputs": [],
   "source": [
    "mlp_clf = MLPClassifier(hidden_layer_sizes=(100,),activation='logistic', max_iter=500)\n",
    "mlp_clf.fit(X_train, y_train)\n",
    "\n",
    "# Validate RF\n",
    "y_val_pred = mlp_clf.predict(X_val)\n",
    "val_accuracy = accuracy_score(y_val, y_val_pred)\n",
    "print(f'Validation Accuracy: {val_accuracy:.2f}')\n",
    "print('Validation Report:')\n",
    "print(classification_report(y_val, y_val_pred))\n",
    "\n",
    "# Test RF\n",
    "y_test_pred = mlp_clf.predict(X_test)\n",
    "test_accuracy = accuracy_score(y_test, y_test_pred)\n",
    "print(f'Test Accuracy: {test_accuracy:.2f}')\n",
    "print('Test Report:')\n",
    "print(classification_report(y_test, y_test_pred))"
   ]
  }
 ],
 "metadata": {
  "kernelspec": {
   "display_name": "base",
   "language": "python",
   "name": "python3"
  },
  "language_info": {
   "codemirror_mode": {
    "name": "ipython",
    "version": 3
   },
   "file_extension": ".py",
   "mimetype": "text/x-python",
   "name": "python",
   "nbconvert_exporter": "python",
   "pygments_lexer": "ipython3",
   "version": "3.11.5"
  }
 },
 "nbformat": 4,
 "nbformat_minor": 2
}
