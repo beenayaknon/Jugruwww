{
 "cells": [
  {
   "cell_type": "code",
   "execution_count": 20,
   "metadata": {},
   "outputs": [],
   "source": [
    "# pip install charmap"
   ]
  },
  {
   "cell_type": "code",
   "execution_count": 21,
   "metadata": {},
   "outputs": [],
   "source": [
    "import pandas as pd\n",
    "import shap\n",
    "import matplotlib.pyplot as plt\n",
    "from sklearn.model_selection import train_test_split, StratifiedShuffleSplit\n",
    "from sklearn.svm import LinearSVC\n",
    "from sklearn.ensemble import RandomForestClassifier\n",
    "from xgboost import XGBClassifier, DMatrix\n",
    "\n",
    "import json\n",
    "from matplotlib.colors import LinearSegmentedColormap\n",
    "from sklearn.metrics import classification_report"
   ]
  },
  {
   "cell_type": "code",
   "execution_count": 22,
   "metadata": {},
   "outputs": [
    {
     "name": "stdout",
     "output_type": "stream",
     "text": [
      "Training set distribution and count:\n",
      "has_generic_policy\n",
      "True     0.687204\n",
      "False    0.312796\n",
      "Name: proportion, dtype: float64\n",
      "Total projects in Training set: 211\n",
      "Validation set distribution and count:\n",
      "has_generic_policy\n",
      "True     0.683333\n",
      "False    0.316667\n",
      "Name: proportion, dtype: float64\n",
      "Total projects in Validation set: 60\n",
      "Test set distribution and count:\n",
      "has_generic_policy\n",
      "True     0.677419\n",
      "False    0.322581\n",
      "Name: proportion, dtype: float64\n",
      "Total projects in Test set: 31\n"
     ]
    }
   ],
   "source": [
    "import pandas as pd\n",
    "import json\n",
    "from sklearn.model_selection import train_test_split\n",
    "\n",
    "# Load your dataset\n",
    "with open('dataset/haveMD_302.json', 'r', encoding='utf-8') as f:\n",
    "    data = json.load(f)\n",
    "\n",
    "df = pd.DataFrame(data)\n",
    "\n",
    "# Add a new column to classify if 'Generic policy' is present or not\n",
    "df['has_generic_policy'] = df['SecurityPolicy_content_category'].apply(\n",
    "    lambda x: 'Generic policy' in x if isinstance(x, list) else False\n",
    ")\n",
    "\n",
    "# Separate data into features (X) and target (y)\n",
    "X = df.drop('has_generic_policy', axis=1)\n",
    "y = df['has_generic_policy']\n",
    "\n",
    "# Stratified train-test split 70-30\n",
    "train_df, temp_df = train_test_split(df, test_size=0.3, stratify=y, random_state=42)\n",
    "\n",
    "# Split temp_df into validation and test sets 20-10\n",
    "validation_df, test_df = train_test_split(temp_df, test_size=(1/3), stratify=temp_df['has_generic_policy'], random_state=42)\n",
    "\n",
    "# Function to save DataFrame to JSON without escaping characters and with UTF-8 encoding\n",
    "def save_json_without_escape(filepath, dataframe):\n",
    "    with open(filepath, 'w', encoding='utf-8') as f:\n",
    "        json.dump(dataframe.to_dict(orient='records'), f, ensure_ascii=False, indent=4)\n",
    "\n",
    "# Save datasets to JSON files\n",
    "save_json_without_escape('train_dataset.json', train_df)\n",
    "save_json_without_escape('validation_dataset.json', validation_df)\n",
    "save_json_without_escape('test_dataset.json', test_df)\n",
    "\n",
    "# Print the counts and distributions for verification\n",
    "print('Training set distribution and count:')\n",
    "print(train_df['has_generic_policy'].value_counts(normalize=True))\n",
    "print(f\"Total projects in Training set: {len(train_df)}\")\n",
    "\n",
    "print('Validation set distribution and count:')\n",
    "print(validation_df['has_generic_policy'].value_counts(normalize=True))\n",
    "print(f\"Total projects in Validation set: {len(validation_df)}\")\n",
    "\n",
    "print('Test set distribution and count:')\n",
    "print(test_df['has_generic_policy'].value_counts(normalize=True))\n",
    "print(f\"Total projects in Test set: {len(test_df)}\")\n"
   ]
  },
  {
   "cell_type": "code",
   "execution_count": null,
   "metadata": {},
   "outputs": [],
   "source": []
  },
  {
   "cell_type": "code",
   "execution_count": null,
   "metadata": {},
   "outputs": [],
   "source": []
  }
 ],
 "metadata": {
  "kernelspec": {
   "display_name": "Python 3",
   "language": "python",
   "name": "python3"
  },
  "language_info": {
   "codemirror_mode": {
    "name": "ipython",
    "version": 3
   },
   "file_extension": ".py",
   "mimetype": "text/x-python",
   "name": "python",
   "nbconvert_exporter": "python",
   "pygments_lexer": "ipython3",
   "version": "3.10.11"
  }
 },
 "nbformat": 4,
 "nbformat_minor": 2
}
