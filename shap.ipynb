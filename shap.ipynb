{
 "cells": [
  {
   "cell_type": "code",
   "execution_count": 696,
   "metadata": {},
   "outputs": [],
   "source": [
    "from sklearn.ensemble import RandomForestClassifier\n",
    "from sklearn.ensemble import AdaBoostClassifier\n",
    "from sklearn.tree import DecisionTreeClassifier\n",
    "from sklearn.model_selection import train_test_split\n",
    "from sklearn.tree import DecisionTreeClassifier\n",
    "from sklearn.linear_model import SGDClassifier\n",
    "from sklearn.model_selection import train_test_split\n",
    "import pandas as pd\n",
    "import shap\n",
    "import os\n",
    "import plotly.graph_objects as go\n",
    "from shap.plots import waterfall, beeswarm\n",
    "from shap import Explanation, KernelExplainer\n",
    "import numpy as np\n",
    "from matplotlib.colors import LinearSegmentedColormap\n",
    "import matplotlib.colors as mcolors\n",
    "from matplotlib import cm\n",
    "import matplotlib.pyplot as plt\n",
    "from sklearn.base import BaseEstimator\n",
    "from sklearn.metrics import accuracy_score, classification_report, roc_auc_score, r2_score\n",
    "# from xgboost import XGBClassifier\n",
    "from sklearn.ensemble import HistGradientBoostingClassifier\n",
    "from sklearn.neural_network import MLPClassifier\n",
    "from sklearn.svm import SVC\n",
    "from sklearn.discriminant_analysis import LinearDiscriminantAnalysis\n",
    "from sklearn.ensemble import ExtraTreesClassifier\n",
    "from sklearn.naive_bayes import BernoulliNB\n",
    "from sklearn.ensemble import AdaBoostClassifier\n",
    "from sklearn.neighbors import KNeighborsClassifier\n",
    "# from imblearn.over_sampling import SMOTE"
   ]
  },
  {
   "cell_type": "code",
   "execution_count": 697,
   "metadata": {},
   "outputs": [
    {
     "name": "stdout",
     "output_type": "stream",
     "text": [
      "AdaBoostClassifier(algorithm='SAMME',\n",
      "                   estimator=DecisionTreeClassifier(max_depth=10),\n",
      "                   learning_rate=0.010381491760996881, n_estimators=362,\n",
      "                   random_state=1)\n"
     ]
    },
    {
     "name": "stderr",
     "output_type": "stream",
     "text": [
      "/Library/Frameworks/Python.framework/Versions/3.13/lib/python3.13/site-packages/sklearn/utils/validation.py:1408: DataConversionWarning:\n",
      "\n",
      "A column-vector y was passed when a 1d array was expected. Please change the shape of y to (n_samples, ), for example using ravel().\n",
      "\n",
      "/Library/Frameworks/Python.framework/Versions/3.13/lib/python3.13/site-packages/sklearn/ensemble/_weight_boosting.py:519: FutureWarning:\n",
      "\n",
      "The parameter 'algorithm' is deprecated in 1.6 and has no effect. It will be removed in version 1.8.\n",
      "\n"
     ]
    },
    {
     "name": "stdout",
     "output_type": "stream",
     "text": [
      "AUC - ROC Score: 0.56\n",
      "Accuracy: 0.5409836065573771\n",
      "Classification report:\n",
      "              precision    recall  f1-score   support\n",
      "\n",
      "           0       0.55      0.62      0.58        63\n",
      "           1       0.53      0.46      0.49        59\n",
      "\n",
      "    accuracy                           0.54       122\n",
      "   macro avg       0.54      0.54      0.54       122\n",
      "weighted avg       0.54      0.54      0.54       122\n",
      "\n"
     ]
    }
   ],
   "source": [
    "\n",
    "feature_types = {\n",
    "    \"project_feature\": [\"num_commits\", \"project_age_days\", \"num_issues\", \"num_pull\", \n",
    "                        \"num_stargazers\", \"num_watchers\", \"num_forks\", \"num_subscribers\", \n",
    "                        \"num_contributors\", \"project_size(kB)\"],\n",
    "    \"security_practice\": [\"ssf0_Binary-Artifacts\", \"ssf1_Branch-Protection\",\n",
    "                          \"ssf3_CII-Best-Practices\", \"ssf7_Dependency-Update-Tool\",\n",
    "                          \"ssf8_Fuzzing\", \"ssf9_License\", \"ssf10_Maintained\", \"ssf13_SAST\",\n",
    "                          \"ssf17_Vulnerabilities\"],\n",
    "    \"project_quality\": ['num_sonarQube_BUG_HIGH', 'num_sonarQube_BUG_MEDIUM', 'num_sonarQube_BUG_LOW', 'num_sonarQube_BUG_BLOCKER',\n",
    "            'num_sonarQube_VULNERABILITY_HIGH', 'num_sonarQube_VULNERABILITY_MEDIUM', 'num_sonarQube_VULNERABILITY_LOW',\n",
    "            'num_sonarQube_VULNERABILITY_BLOCKER', 'num_sonarQube_CODE_SMELL_HIGH', 'num_sonarQube_CODE_SMELL_MEDIUM',\n",
    "            'num_sonarQube_CODE_SMELL_LOW', 'num_sonarQube_CODE_SMELL_BLOCKER'],\n",
    "}\n",
    "\n",
    "# Define features and target\n",
    "# เปลี่ยนฟีเจ้อจรงนี้้ 👇👇👇👇\n",
    "feature = \"project_quality\"\n",
    "# เปลี่ยนcategoryจรงนี้้ 👇👇👇👇\n",
    "cate = \"Generic policy\"\n",
    "\n",
    "# Split the dataset into training and testing sets\n",
    "# X_train, X_test, y_train, y_test = train_test_split(X, y, test_size=0.3)\n",
    "X_train = pd.read_csv(f\"auto/{cate}_{feature}_X_train.csv\")\n",
    "X_test = pd.read_csv(f\"auto/{cate}_{feature}_X_test.csv\")\n",
    "y_train = pd.read_csv(f\"auto/{cate}_{feature}_y_train.csv\")\n",
    "y_test = pd.read_csv(f\"auto/{cate}_{feature}_y_test.csv\")\n",
    "        \n",
    "# Train the RandomForestClassifier with given parameters\n",
    "### Generic policy ###\n",
    "if feature == \"project_feature\" and cate == \"Generic policy\":\n",
    "    model = RandomForestClassifier(\n",
    "        max_features=1, min_samples_leaf=6, min_samples_split=7,\n",
    "        n_estimators=512, n_jobs=1, random_state=1, warm_start=True\n",
    "    )\n",
    "elif feature == \"security_practice\" and cate == \"Generic policy\":\n",
    "    model = RandomForestClassifier(\n",
    "        bootstrap=False, max_features=1, min_samples_leaf=3,\n",
    "        min_samples_split=14, n_estimators=512, n_jobs=1,\n",
    "        random_state=1, warm_start=True\n",
    "    )\n",
    "elif feature == \"project_quality\" and cate == \"Generic policy\":\n",
    "    model = AdaBoostClassifier(algorithm='SAMME',\n",
    "                   estimator=DecisionTreeClassifier(max_depth=10),\n",
    "                   learning_rate=0.010381491760996881, n_estimators=362,\n",
    "                   random_state=1)\n",
    "### Reporting mechanism ###\n",
    "elif feature == \"project_feature\" and cate == \"Reporting mechanism\":\n",
    "    model = ExtraTreesClassifier(bootstrap=True, criterion='entropy', max_features=1,\n",
    "                     min_samples_split=7, n_estimators=512, n_jobs=1,\n",
    "                     random_state=1, warm_start=True)\n",
    "elif feature == \"security_practice\" and cate == \"Reporting mechanism\":\n",
    "    model = HistGradientBoostingClassifier(early_stopping=True,\n",
    "                               l2_regularization=8.908183652101429e-05,\n",
    "                               learning_rate=0.19911994270380215,\n",
    "                               max_iter=512, max_leaf_nodes=955,\n",
    "                               min_samples_leaf=33, n_iter_no_change=2,\n",
    "                               random_state=1, validation_fraction=None,\n",
    "                               warm_start=True)\n",
    "elif feature == \"project_quality\" and cate == \"Reporting mechanism\":\n",
    "    model = KNeighborsClassifier(n_neighbors=2, p=1, weights='distance') ####🥶🥶🥶🥶🥶\n",
    "### Scope of practice ###\n",
    "elif feature == \"project_feature\" and cate == \"Scope of practice\":\n",
    "    model = RandomForestClassifier(max_features=15, min_samples_leaf=5,\n",
    "                       min_samples_split=20, n_estimators=512, n_jobs=1,\n",
    "                       random_state=1, warm_start=True)\n",
    "elif feature == \"security_practice\" and cate == \"Scope of practice\":\n",
    "    model = AdaBoostClassifier(estimator=DecisionTreeClassifier(max_depth=9),\n",
    "                   learning_rate=1.9701455892241493, n_estimators=101,\n",
    "                   random_state=1)\n",
    "elif feature == \"project_quality\" and cate == \"Scope of practice\":\n",
    "    model = RandomForestClassifier(bootstrap=False, criterion='entropy', max_features=4,\n",
    "                       min_samples_leaf=7, n_estimators=512, n_jobs=1,\n",
    "                       random_state=1, warm_start=True)\n",
    "### User guideline ###\n",
    "elif feature == \"project_feature\" and cate == \"User guideline\":\n",
    "    model = ExtraTreesClassifier(criterion='entropy', max_features=2, n_estimators=512,\n",
    "                     n_jobs=1, random_state=1, warm_start=True)\n",
    "elif feature == \"security_practice\" and cate == \"User guideline\":\n",
    "    model = HistGradientBoostingClassifier(early_stopping=True,\n",
    "                               l2_regularization=0.1144885415414585,\n",
    "                               learning_rate=0.35651231429733377, \n",
    "                               max_iter=128, max_leaf_nodes=570,\n",
    "                               min_samples_leaf=52, n_iter_no_change=20,\n",
    "                               random_state=1,\n",
    "                               validation_fraction=0.26745137407982933,\n",
    "                               warm_start=True)\n",
    "elif feature == \"project_quality\" and cate == \"User guideline\":\n",
    "    model = AdaBoostClassifier(estimator=DecisionTreeClassifier(max_depth=2),\n",
    "                   learning_rate=0.16884660398877008, n_estimators=144,\n",
    "                   random_state=1)\n",
    "else:\n",
    "    raise ValueError(\"Invalid feature or category selection.\")\n",
    "\n",
    "print(model)\n",
    "\n",
    "model.fit(X_train, y_train)\n",
    "\n",
    "# AUC\n",
    "# Predict the probabilities for the test set\n",
    "y_probs = model.predict_proba(X_test)[:, 1]\n",
    "# Predict the classes for the test set\n",
    "y_pred = model.predict(X_test)\n",
    "\n",
    "# Calculate the AUC - ROC score\n",
    "roc_auc = roc_auc_score(y_test, y_probs) \n",
    "\n",
    "# Calculate other metrics\n",
    "accuracy = accuracy_score(y_test, y_pred)\n",
    "\n",
    "print(f\"AUC - ROC Score: {roc_auc:.2f}\")\n",
    "\n",
    "accuracy = accuracy_score(y_test, y_pred)\n",
    "report = classification_report(y_pred, y_test)\n",
    "print(f\"Accuracy: {accuracy}\")\n",
    "print(\"Classification report:\")\n",
    "print(report)"
   ]
  },
  {
   "cell_type": "markdown",
   "metadata": {},
   "source": [
    "how to read graph: https://www.aidancooper.co.uk/a-non-technical-guide-to-interpreting-shap-analyses/"
   ]
  },
  {
   "cell_type": "markdown",
   "metadata": {},
   "source": [
    "tree explainer: https://medium.com/analytics-vidhya/shap-part-3-tree-shap-3af9bcd7cd9b"
   ]
  },
  {
   "cell_type": "markdown",
   "metadata": {},
   "source": [
    "shap index 0 or 1: https://github.com/shap/shap/issues/1252"
   ]
  },
  {
   "cell_type": "markdown",
   "metadata": {},
   "source": [
    "readability shap: https://medium.com/towards-data-science/how-to-easily-customize-shap-plots-in-python-fdff9c0483f2"
   ]
  },
  {
   "cell_type": "markdown",
   "metadata": {},
   "source": [
    "TreeExplainer (Optimized for Trees)"
   ]
  },
  {
   "cell_type": "code",
   "execution_count": 698,
   "metadata": {},
   "outputs": [
    {
     "ename": "AttributeError",
     "evalue": "'AdaBoostClassifier' object has no attribute 'base_estimator_'",
     "output_type": "error",
     "traceback": [
      "\u001b[31m---------------------------------------------------------------------------\u001b[39m",
      "\u001b[31mAttributeError\u001b[39m                            Traceback (most recent call last)",
      "\u001b[36mCell\u001b[39m\u001b[36m \u001b[39m\u001b[32mIn[698]\u001b[39m\u001b[32m, line 5\u001b[39m\n\u001b[32m      1\u001b[39m \u001b[38;5;66;03m# 1. TreeExplainer (Optimized for Trees)\u001b[39;00m\n\u001b[32m      2\u001b[39m \u001b[38;5;66;03m# tree_explainer = shap.TreeExplainer(model, X_test)\u001b[39;00m\n\u001b[32m      3\u001b[39m \u001b[38;5;66;03m# shap_values_tree = tree_explainer(X_test)\u001b[39;00m\n\u001b[32m----> \u001b[39m\u001b[32m5\u001b[39m explainer = \u001b[43mshap\u001b[49m\u001b[43m.\u001b[49m\u001b[43mTreeExplainer\u001b[49m\u001b[43m(\u001b[49m\u001b[43mmodel\u001b[49m\u001b[43m)\u001b[49m\n\u001b[32m      6\u001b[39m shap_values_tree = explainer.shap_values(X_test)\n",
      "\u001b[36mFile \u001b[39m\u001b[32m/Library/Frameworks/Python.framework/Versions/3.13/lib/python3.13/site-packages/shap/explainers/_tree.py:239\u001b[39m, in \u001b[36mTreeExplainer.__init__\u001b[39m\u001b[34m(self, model, data, model_output, feature_perturbation, feature_names, approximate, link, linearize_link)\u001b[39m\n\u001b[32m    237\u001b[39m \u001b[38;5;28mself\u001b[39m.feature_perturbation = feature_perturbation\n\u001b[32m    238\u001b[39m \u001b[38;5;28mself\u001b[39m.expected_value = \u001b[38;5;28;01mNone\u001b[39;00m\n\u001b[32m--> \u001b[39m\u001b[32m239\u001b[39m \u001b[38;5;28mself\u001b[39m.model = \u001b[43mTreeEnsemble\u001b[49m\u001b[43m(\u001b[49m\u001b[43mmodel\u001b[49m\u001b[43m,\u001b[49m\u001b[43m \u001b[49m\u001b[38;5;28;43mself\u001b[39;49m\u001b[43m.\u001b[49m\u001b[43mdata\u001b[49m\u001b[43m,\u001b[49m\u001b[43m \u001b[49m\u001b[38;5;28;43mself\u001b[39;49m\u001b[43m.\u001b[49m\u001b[43mdata_missing\u001b[49m\u001b[43m,\u001b[49m\u001b[43m \u001b[49m\u001b[43mmodel_output\u001b[49m\u001b[43m)\u001b[49m\n\u001b[32m    240\u001b[39m \u001b[38;5;28mself\u001b[39m.model_output = model_output\n\u001b[32m    241\u001b[39m \u001b[38;5;66;03m# self.model_output = self.model.model_output # this allows the TreeEnsemble to translate model outputs types by how it loads the model\u001b[39;00m\n\u001b[32m    242\u001b[39m \n\u001b[32m    243\u001b[39m \u001b[38;5;66;03m# check for unsupported combinations of feature_perturbation and model_outputs\u001b[39;00m\n",
      "\u001b[36mFile \u001b[39m\u001b[32m/Library/Frameworks/Python.framework/Versions/3.13/lib/python3.13/site-packages/shap/explainers/_tree.py:1169\u001b[39m, in \u001b[36mTreeEnsemble.__init__\u001b[39m\u001b[34m(self, model, data, data_missing, model_output)\u001b[39m\n\u001b[32m   1163\u001b[39m     \u001b[38;5;28mself\u001b[39m.input_dtype = np.float64\n\u001b[32m   1164\u001b[39m     \u001b[38;5;28mself\u001b[39m.trees = [\n\u001b[32m   1165\u001b[39m         SingleTree(e.tree_, normalize=\u001b[38;5;28;01mTrue\u001b[39;00m, scaling=weight, data=data, data_missing=data_missing)\n\u001b[32m   1166\u001b[39m         \u001b[38;5;28;01mfor\u001b[39;00m e, weight \u001b[38;5;129;01min\u001b[39;00m \u001b[38;5;28mzip\u001b[39m(model.estimators_, model.estimator_weights_ / \u001b[38;5;28msum\u001b[39m(model.estimator_weights_))\n\u001b[32m   1167\u001b[39m     ]\n\u001b[32m   1168\u001b[39m     \u001b[38;5;28mself\u001b[39m.objective = objective_name_map.get(\n\u001b[32m-> \u001b[39m\u001b[32m1169\u001b[39m         \u001b[43mmodel\u001b[49m\u001b[43m.\u001b[49m\u001b[43mbase_estimator_\u001b[49m.criterion, \u001b[38;5;28;01mNone\u001b[39;00m\n\u001b[32m   1170\u001b[39m     )  \u001b[38;5;66;03m# This line is done to get the decision criteria, for example gini.\u001b[39;00m\n\u001b[32m   1171\u001b[39m     \u001b[38;5;28mself\u001b[39m.tree_output = \u001b[33m\"\u001b[39m\u001b[33mprobability\u001b[39m\u001b[33m\"\u001b[39m\n\u001b[32m   1173\u001b[39m \u001b[38;5;28;01melif\u001b[39;00m \u001b[33m\"\u001b[39m\u001b[33mpyspark.ml\u001b[39m\u001b[33m\"\u001b[39m \u001b[38;5;129;01min\u001b[39;00m \u001b[38;5;28mstr\u001b[39m(\u001b[38;5;28mtype\u001b[39m(model)):\n",
      "\u001b[31mAttributeError\u001b[39m: 'AdaBoostClassifier' object has no attribute 'base_estimator_'"
     ]
    }
   ],
   "source": [
    "# 1. TreeExplainer (Optimized for Trees)\n",
    "# tree_explainer = shap.TreeExplainer(model, X_test)\n",
    "# shap_values_tree = tree_explainer(X_test)\n",
    "\n",
    "explainer = shap.TreeExplainer(model)\n",
    "shap_values_tree = explainer.shap_values(X_test)\n"
   ]
  },
  {
   "cell_type": "code",
   "execution_count": null,
   "metadata": {},
   "outputs": [
    {
     "name": "stdout",
     "output_type": "stream",
     "text": [
      "[[[-1.51310366e-04  1.51310366e-04]\n",
      "  [ 4.57103486e-02 -4.57103486e-02]\n",
      "  [ 8.02624247e-03 -8.02624247e-03]\n",
      "  [-6.17828175e-02  6.17828175e-02]\n",
      "  [-1.49969005e-03  1.49969005e-03]]\n",
      "\n",
      " [[-1.15041755e-03  1.15041755e-03]\n",
      "  [ 3.23888753e-02 -3.23888753e-02]\n",
      "  [-4.32563764e-02  4.32563764e-02]\n",
      "  [-6.93995889e-02  6.93995889e-02]\n",
      "  [-9.43555562e-03  9.43555562e-03]]\n",
      "\n",
      " [[ 1.09180434e-03 -1.09180434e-03]\n",
      "  [ 1.18871111e-02 -1.18871111e-02]\n",
      "  [ 1.75114347e-02 -1.75114347e-02]\n",
      "  [ 2.47646292e-01 -2.47646292e-01]\n",
      "  [-7.60880071e-02  7.60880071e-02]]\n",
      "\n",
      " ...\n",
      "\n",
      " [[-1.51310366e-04  1.51310366e-04]\n",
      "  [ 4.57103486e-02 -4.57103486e-02]\n",
      "  [ 8.02624247e-03 -8.02624247e-03]\n",
      "  [-6.17828175e-02  6.17828175e-02]\n",
      "  [-1.49969005e-03  1.49969005e-03]]\n",
      "\n",
      " [[-1.15041755e-03  1.15041755e-03]\n",
      "  [ 3.23888753e-02 -3.23888753e-02]\n",
      "  [-4.32563764e-02  4.32563764e-02]\n",
      "  [-6.93995889e-02  6.93995889e-02]\n",
      "  [-9.43555562e-03  9.43555562e-03]]\n",
      "\n",
      " [[ 1.97052486e-03 -1.97052486e-03]\n",
      "  [ 3.08857628e-02 -3.08857628e-02]\n",
      "  [ 1.56252789e-02 -1.56252789e-02]\n",
      "  [-1.61233988e-02  1.61233988e-02]\n",
      "  [-4.37450832e-02  4.37450832e-02]]]\n"
     ]
    }
   ],
   "source": [
    "print(shap_values_tree)"
   ]
  },
  {
   "cell_type": "code",
   "execution_count": null,
   "metadata": {},
   "outputs": [],
   "source": [
    "# import os\n",
    "# import pandas as pd\n",
    "# import numpy as np\n",
    "# import json\n",
    "\n",
    "# # Define directory and file path\n",
    "# directory = \"raw_shap\"  # Remove leading \"/\"\n",
    "# file_path = f\"{directory}/{cate}_{feature}_shap.csv\"\n",
    "\n",
    "# # Ensure the directory exists\n",
    "# os.makedirs(directory, exist_ok=True)\n",
    "\n",
    "# # Convert SHAP values to a 2D format\n",
    "# num_samples, num_features, num_classes = shap_values_tree.shape  # Get dimensions\n",
    "# reshaped_values = shap_values_tree.reshape(num_samples, num_features * num_classes)\n",
    "\n",
    "# # Create column names dynamically\n",
    "# columns = [f\"Feature_{i}_Class_{j}\" for i in range(num_features) for j in range(num_classes)]\n",
    "\n",
    "# # Convert to DataFrame\n",
    "# df = pd.DataFrame(reshaped_values, columns=columns)\n",
    "\n",
    "# # Save to CSV\n",
    "# df.to_csv(file_path, index=False)\n",
    "\n",
    "# print(f\"SHAP values saved as CSV at {file_path}\")\n"
   ]
  },
  {
   "cell_type": "code",
   "execution_count": null,
   "metadata": {},
   "outputs": [
    {
     "name": "stdout",
     "output_type": "stream",
     "text": [
      "ssf9_License                   0.083048\n",
      "ssf7_Dependency-Update-Tool    0.060012\n",
      "ssf10_Maintained               0.032186\n",
      "ssf8_Fuzzing                   0.011838\n",
      "ssf3_CII-Best-Practices        0.007155\n",
      "dtype: float64\n"
     ]
    }
   ],
   "source": [
    "shap_df = pd.DataFrame(shap_values_tree[:, :, 1], columns=X_test.columns)\n",
    "\n",
    "# Compute and print raw mean SHAP values\n",
    "mean_shap_raw = shap_df.abs().mean(0).sort_values(ascending=False)\n",
    "print(mean_shap_raw)"
   ]
  },
  {
   "cell_type": "code",
   "execution_count": null,
   "metadata": {},
   "outputs": [
    {
     "name": "stdout",
     "output_type": "stream",
     "text": [
      "ssf7_Dependency-Update-Tool    0.009730\n",
      "ssf10_Maintained               0.006968\n",
      "ssf3_CII-Best-Practices       -0.001553\n",
      "ssf8_Fuzzing                  -0.003105\n",
      "ssf9_License                  -0.007415\n",
      "dtype: float64\n"
     ]
    }
   ],
   "source": [
    "shap_df = pd.DataFrame(shap_values_tree[:, :, 1], columns=X_test.columns)\n",
    "\n",
    "# Compute and print raw mean SHAP values\n",
    "mean_shap_raw = shap_df.mean(0).sort_values(ascending=False)\n",
    "print(mean_shap_raw)"
   ]
  },
  {
   "cell_type": "code",
   "execution_count": null,
   "metadata": {},
   "outputs": [
    {
     "data": {
      "image/png": "[encoded data removed]",
      "text/plain": [
       "<Figure size 800x350 with 2 Axes>"
      ]
     },
     "metadata": {},
     "output_type": "display_data"
    },
    {
     "data": {
      "image/png": "[encoded data removed]",
      "text/plain": [
       "<Figure size 800x350 with 1 Axes>"
      ]
     },
     "metadata": {},
     "output_type": "display_data"
    }
   ],
   "source": [
    "\n",
    "custom_cmap = mcolors.LinearSegmentedColormap.from_list(\"pink_skyblue\", [\"mediumturquoise\", \"crimson\"])\n",
    "\n",
    "# # Set the file path to save the image\n",
    "# save_directory = \"shap\"  # Change this to your desired directory\n",
    "# os.makedirs(save_directory, exist_ok=True)  # Ensure the directory exists\n",
    "# save_path = os.path.join(save_directory, f\"{cate}_{feature}_summary_plot.png\")  # File name\n",
    "\n",
    "# Create the SHAP summary plot\n",
    "shap.summary_plot(shap_values_tree[:, :, 1], X_test, cmap=custom_cmap)\n",
    "\n",
    "# # Save the plot after SHAP generates it\n",
    "# plt.savefig(save_path, dpi=300, bbox_inches='tight')\n",
    "\n",
    "# # Show the plot (optional)\n",
    "# plt.show()\n",
    "\n",
    "# Generate the bar summary plot\n",
    "shap.summary_plot(shap_values_tree[:, :, 1], X_test, plot_type=\"bar\", show=True)\n"
   ]
  },
  {
   "cell_type": "code",
   "execution_count": null,
   "metadata": {},
   "outputs": [
    {
     "name": "stdout",
     "output_type": "stream",
     "text": [
      "   ssf3_CII-Best-Practices_Class_0  ssf3_CII-Best-Practices_Class_1  \\\n",
      "0                        -0.000151                         0.000151   \n",
      "1                        -0.001150                         0.001150   \n",
      "2                         0.001092                        -0.001092   \n",
      "3                         0.003564                        -0.003564   \n",
      "4                        -0.009802                         0.009802   \n",
      "\n",
      "   ssf7_Dependency-Update-Tool_Class_0  ssf7_Dependency-Update-Tool_Class_1  \\\n",
      "0                             0.045710                            -0.045710   \n",
      "1                             0.032389                            -0.032389   \n",
      "2                             0.011887                            -0.011887   \n",
      "3                            -0.029383                             0.029383   \n",
      "4                            -0.150021                             0.150021   \n",
      "\n",
      "   ssf8_Fuzzing_Class_0  ssf8_Fuzzing_Class_1  ssf9_License_Class_0  \\\n",
      "0              0.008026             -0.008026             -0.061783   \n",
      "1             -0.043256              0.043256             -0.069400   \n",
      "2              0.017511             -0.017511              0.247646   \n",
      "3              0.018056             -0.018056              0.324443   \n",
      "4              0.000424             -0.000424             -0.095359   \n",
      "\n",
      "   ssf9_License_Class_1  ssf10_Maintained_Class_0  ssf10_Maintained_Class_1  \n",
      "0              0.061783                 -0.001500                  0.001500  \n",
      "1              0.069400                 -0.009436                  0.009436  \n",
      "2             -0.247646                 -0.076088                  0.076088  \n",
      "3             -0.324443                  0.017865                 -0.017865  \n",
      "4              0.095359                 -0.022053                  0.022053  \n"
     ]
    }
   ],
   "source": [
    "# Get feature names from X_test\n",
    "feature_names = X_test.columns.tolist()  # Extract actual feature names\n",
    "\n",
    "# Convert SHAP values to a 2D format\n",
    "num_samples, num_features, num_classes = shap_values_tree.shape  # Get dimensions\n",
    "reshaped_values = shap_values_tree.reshape(num_samples, num_features * num_classes)\n",
    "\n",
    "# Create dynamic column names using real feature names\n",
    "columns = [f\"{feature_names[i]}_Class_{j}\" for i in range(num_features) for j in range(num_classes)]\n",
    "\n",
    "# Convert to DataFrame\n",
    "df = pd.DataFrame(reshaped_values, columns=columns)\n",
    "\n",
    "# Display first few rows\n",
    "print(df.head())"
   ]
  },
  {
   "cell_type": "code",
   "execution_count": null,
   "metadata": {},
   "outputs": [
    {
     "name": "stdout",
     "output_type": "stream",
     "text": [
      "   ssf3_CII-Best-Practices  ssf7_Dependency-Update-Tool  ssf8_Fuzzing  \\\n",
      "0                 0.000151                    -0.045710     -0.008026   \n",
      "1                 0.001150                    -0.032389      0.043256   \n",
      "2                -0.001092                    -0.011887     -0.017511   \n",
      "3                -0.003564                     0.029383     -0.018056   \n",
      "4                 0.009802                     0.150021     -0.000424   \n",
      "\n",
      "   ssf9_License  ssf10_Maintained  \n",
      "0      0.061783          0.001500  \n",
      "1      0.069400          0.009436  \n",
      "2     -0.247646          0.076088  \n",
      "3     -0.324443         -0.017865  \n",
      "4      0.095359          0.022053  \n"
     ]
    }
   ],
   "source": [
    "# Select only columns corresponding to Class 1\n",
    "class_1_columns = [col for col in columns if \"_Class_1\" in col]  # Filter Class 1 columns\n",
    "df_class_1 = df[class_1_columns]  # Select only Class 1 SHAP values\n",
    "\n",
    "# Rename columns to remove \"_Class_1\" suffix for clarity\n",
    "df_class_1.columns = [col.replace(\"_Class_1\", \"\") for col in df_class_1.columns]\n",
    "\n",
    "# Display first few rows\n",
    "print(df_class_1.head())"
   ]
  },
  {
   "cell_type": "code",
   "execution_count": null,
   "metadata": {},
   "outputs": [
    {
     "data": {
      "application/vnd.plotly.v1+json": {
       "config": {
        "plotlyServerURL": "https://plot.ly"
       },
       "data": [
        {
         "marker": {
          "color": [
           "crimson",
           "crimson",
           "mediumturquoise",
           "mediumturquoise",
           "crimson"
          ]
         },
         "orientation": "h",
         "text": [
          "-0.002",
          "-0.003",
          "+0.007",
          "+0.010",
          "-0.007"
         ],
         "textposition": "outside",
         "type": "bar",
         "x": {
          "bdata": "+srCDmJxWb8FTaYZ925pv82y1jLFinw/AKMlxFbtgz8ArVywGF9+vw==",
          "dtype": "f8"
         },
         "y": [
          "ssf3_CII-Best-Practices",
          "ssf8_Fuzzing",
          "ssf10_Maintained",
          "ssf7_Dependency-Update-Tool",
          "ssf9_License"
         ]
        }
       ],
       "layout": {
        "font": {
         "size": 16
        },
        "height": 500,
        "showlegend": false,
        "template": {
         "data": {
          "bar": [
           {
            "error_x": {
             "color": "#2a3f5f"
            },
            "error_y": {
             "color": "#2a3f5f"
            },
            "marker": {
             "line": {
              "color": "white",
              "width": 0.5
             },
             "pattern": {
              "fillmode": "overlay",
              "size": 10,
              "solidity": 0.2
             }
            },
            "type": "bar"
           }
          ],
          "barpolar": [
           {
            "marker": {
             "line": {
              "color": "white",
              "width": 0.5
             },
             "pattern": {
              "fillmode": "overlay",
              "size": 10,
              "solidity": 0.2
             }
            },
            "type": "barpolar"
           }
          ],
          "carpet": [
           {
            "aaxis": {
             "endlinecolor": "#2a3f5f",
             "gridcolor": "#C8D4E3",
             "linecolor": "#C8D4E3",
             "minorgridcolor": "#C8D4E3",
             "startlinecolor": "#2a3f5f"
            },
            "baxis": {
             "endlinecolor": "#2a3f5f",
             "gridcolor": "#C8D4E3",
             "linecolor": "#C8D4E3",
             "minorgridcolor": "#C8D4E3",
             "startlinecolor": "#2a3f5f"
            },
            "type": "carpet"
           }
          ],
          "choropleth": [
           {
            "colorbar": {
             "outlinewidth": 0,
             "ticks": ""
            },
            "type": "choropleth"
           }
          ],
          "contour": [
           {
            "colorbar": {
             "outlinewidth": 0,
             "ticks": ""
            },
            "colorscale": [
             [
              0,
              "#0d0887"
             ],
             [
              0.1111111111111111,
              "#46039f"
             ],
             [
              0.2222222222222222,
              "#7201a8"
             ],
             [
              0.3333333333333333,
              "#9c179e"
             ],
             [
              0.4444444444444444,
              "#bd3786"
             ],
             [
              0.5555555555555556,
              "#d8576b"
             ],
             [
              0.6666666666666666,
              "#ed7953"
             ],
             [
              0.7777777777777778,
              "#fb9f3a"
             ],
             [
              0.8888888888888888,
              "#fdca26"
             ],
             [
              1,
              "#f0f921"
             ]
            ],
            "type": "contour"
           }
          ],
          "contourcarpet": [
           {
            "colorbar": {
             "outlinewidth": 0,
             "ticks": ""
            },
            "type": "contourcarpet"
           }
          ],
          "heatmap": [
           {
            "colorbar": {
             "outlinewidth": 0,
             "ticks": ""
            },
            "colorscale": [
             [
              0,
              "#0d0887"
             ],
             [
              0.1111111111111111,
              "#46039f"
             ],
             [
              0.2222222222222222,
              "#7201a8"
             ],
             [
              0.3333333333333333,
              "#9c179e"
             ],
             [
              0.4444444444444444,
              "#bd3786"
             ],
             [
              0.5555555555555556,
              "#d8576b"
             ],
             [
              0.6666666666666666,
              "#ed7953"
             ],
             [
              0.7777777777777778,
              "#fb9f3a"
             ],
             [
              0.8888888888888888,
              "#fdca26"
             ],
             [
              1,
              "#f0f921"
             ]
            ],
            "type": "heatmap"
           }
          ],
          "histogram": [
           {
            "marker": {
             "pattern": {
              "fillmode": "overlay",
              "size": 10,
              "solidity": 0.2
             }
            },
            "type": "histogram"
           }
          ],
          "histogram2d": [
           {
            "colorbar": {
             "outlinewidth": 0,
             "ticks": ""
            },
            "colorscale": [
             [
              0,
              "#0d0887"
             ],
             [
              0.1111111111111111,
              "#46039f"
             ],
             [
              0.2222222222222222,
              "#7201a8"
             ],
             [
              0.3333333333333333,
              "#9c179e"
             ],
             [
              0.4444444444444444,
              "#bd3786"
             ],
             [
              0.5555555555555556,
              "#d8576b"
             ],
             [
              0.6666666666666666,
              "#ed7953"
             ],
             [
              0.7777777777777778,
              "#fb9f3a"
             ],
             [
              0.8888888888888888,
              "#fdca26"
             ],
             [
              1,
              "#f0f921"
             ]
            ],
            "type": "histogram2d"
           }
          ],
          "histogram2dcontour": [
           {
            "colorbar": {
             "outlinewidth": 0,
             "ticks": ""
            },
            "colorscale": [
             [
              0,
              "#0d0887"
             ],
             [
              0.1111111111111111,
              "#46039f"
             ],
             [
              0.2222222222222222,
              "#7201a8"
             ],
             [
              0.3333333333333333,
              "#9c179e"
             ],
             [
              0.4444444444444444,
              "#bd3786"
             ],
             [
              0.5555555555555556,
              "#d8576b"
             ],
             [
              0.6666666666666666,
              "#ed7953"
             ],
             [
              0.7777777777777778,
              "#fb9f3a"
             ],
             [
              0.8888888888888888,
              "#fdca26"
             ],
             [
              1,
              "#f0f921"
             ]
            ],
            "type": "histogram2dcontour"
           }
          ],
          "mesh3d": [
           {
            "colorbar": {
             "outlinewidth": 0,
             "ticks": ""
            },
            "type": "mesh3d"
           }
          ],
          "parcoords": [
           {
            "line": {
             "colorbar": {
              "outlinewidth": 0,
              "ticks": ""
             }
            },
            "type": "parcoords"
           }
          ],
          "pie": [
           {
            "automargin": true,
            "type": "pie"
           }
          ],
          "scatter": [
           {
            "fillpattern": {
             "fillmode": "overlay",
             "size": 10,
             "solidity": 0.2
            },
            "type": "scatter"
           }
          ],
          "scatter3d": [
           {
            "line": {
             "colorbar": {
              "outlinewidth": 0,
              "ticks": ""
             }
            },
            "marker": {
             "colorbar": {
              "outlinewidth": 0,
              "ticks": ""
             }
            },
            "type": "scatter3d"
           }
          ],
          "scattercarpet": [
           {
            "marker": {
             "colorbar": {
              "outlinewidth": 0,
              "ticks": ""
             }
            },
            "type": "scattercarpet"
           }
          ],
          "scattergeo": [
           {
            "marker": {
             "colorbar": {
              "outlinewidth": 0,
              "ticks": ""
             }
            },
            "type": "scattergeo"
           }
          ],
          "scattergl": [
           {
            "marker": {
             "colorbar": {
              "outlinewidth": 0,
              "ticks": ""
             }
            },
            "type": "scattergl"
           }
          ],
          "scattermap": [
           {
            "marker": {
             "colorbar": {
              "outlinewidth": 0,
              "ticks": ""
             }
            },
            "type": "scattermap"
           }
          ],
          "scattermapbox": [
           {
            "marker": {
             "colorbar": {
              "outlinewidth": 0,
              "ticks": ""
             }
            },
            "type": "scattermapbox"
           }
          ],
          "scatterpolar": [
           {
            "marker": {
             "colorbar": {
              "outlinewidth": 0,
              "ticks": ""
             }
            },
            "type": "scatterpolar"
           }
          ],
          "scatterpolargl": [
           {
            "marker": {
             "colorbar": {
              "outlinewidth": 0,
              "ticks": ""
             }
            },
            "type": "scatterpolargl"
           }
          ],
          "scatterternary": [
           {
            "marker": {
             "colorbar": {
              "outlinewidth": 0,
              "ticks": ""
             }
            },
            "type": "scatterternary"
           }
          ],
          "surface": [
           {
            "colorbar": {
             "outlinewidth": 0,
             "ticks": ""
            },
            "colorscale": [
             [
              0,
              "#0d0887"
             ],
             [
              0.1111111111111111,
              "#46039f"
             ],
             [
              0.2222222222222222,
              "#7201a8"
             ],
             [
              0.3333333333333333,
              "#9c179e"
             ],
             [
              0.4444444444444444,
              "#bd3786"
             ],
             [
              0.5555555555555556,
              "#d8576b"
             ],
             [
              0.6666666666666666,
              "#ed7953"
             ],
             [
              0.7777777777777778,
              "#fb9f3a"
             ],
             [
              0.8888888888888888,
              "#fdca26"
             ],
             [
              1,
              "#f0f921"
             ]
            ],
            "type": "surface"
           }
          ],
          "table": [
           {
            "cells": {
             "fill": {
              "color": "#EBF0F8"
             },
             "line": {
              "color": "white"
             }
            },
            "header": {
             "fill": {
              "color": "#C8D4E3"
             },
             "line": {
              "color": "white"
             }
            },
            "type": "table"
           }
          ]
         },
         "layout": {
          "annotationdefaults": {
           "arrowcolor": "#2a3f5f",
           "arrowhead": 0,
           "arrowwidth": 1
          },
          "autotypenumbers": "strict",
          "coloraxis": {
           "colorbar": {
            "outlinewidth": 0,
            "ticks": ""
           }
          },
          "colorscale": {
           "diverging": [
            [
             0,
             "#8e0152"
            ],
            [
             0.1,
             "#c51b7d"
            ],
            [
             0.2,
             "#de77ae"
            ],
            [
             0.3,
             "#f1b6da"
            ],
            [
             0.4,
             "#fde0ef"
            ],
            [
             0.5,
             "#f7f7f7"
            ],
            [
             0.6,
             "#e6f5d0"
            ],
            [
             0.7,
             "#b8e186"
            ],
            [
             0.8,
             "#7fbc41"
            ],
            [
             0.9,
             "#4d9221"
            ],
            [
             1,
             "#276419"
            ]
           ],
           "sequential": [
            [
             0,
             "#0d0887"
            ],
            [
             0.1111111111111111,
             "#46039f"
            ],
            [
             0.2222222222222222,
             "#7201a8"
            ],
            [
             0.3333333333333333,
             "#9c179e"
            ],
            [
             0.4444444444444444,
             "#bd3786"
            ],
            [
             0.5555555555555556,
             "#d8576b"
            ],
            [
             0.6666666666666666,
             "#ed7953"
            ],
            [
             0.7777777777777778,
             "#fb9f3a"
            ],
            [
             0.8888888888888888,
             "#fdca26"
            ],
            [
             1,
             "#f0f921"
            ]
           ],
           "sequentialminus": [
            [
             0,
             "#0d0887"
            ],
            [
             0.1111111111111111,
             "#46039f"
            ],
            [
             0.2222222222222222,
             "#7201a8"
            ],
            [
             0.3333333333333333,
             "#9c179e"
            ],
            [
             0.4444444444444444,
             "#bd3786"
            ],
            [
             0.5555555555555556,
             "#d8576b"
            ],
            [
             0.6666666666666666,
             "#ed7953"
            ],
            [
             0.7777777777777778,
             "#fb9f3a"
            ],
            [
             0.8888888888888888,
             "#fdca26"
            ],
            [
             1,
             "#f0f921"
            ]
           ]
          },
          "colorway": [
           "#636efa",
           "#EF553B",
           "#00cc96",
           "#ab63fa",
           "#FFA15A",
           "#19d3f3",
           "#FF6692",
           "#B6E880",
           "#FF97FF",
           "#FECB52"
          ],
          "font": {
           "color": "#2a3f5f"
          },
          "geo": {
           "bgcolor": "white",
           "lakecolor": "white",
           "landcolor": "white",
           "showlakes": true,
           "showland": true,
           "subunitcolor": "#C8D4E3"
          },
          "hoverlabel": {
           "align": "left"
          },
          "hovermode": "closest",
          "mapbox": {
           "style": "light"
          },
          "paper_bgcolor": "white",
          "plot_bgcolor": "white",
          "polar": {
           "angularaxis": {
            "gridcolor": "#EBF0F8",
            "linecolor": "#EBF0F8",
            "ticks": ""
           },
           "bgcolor": "white",
           "radialaxis": {
            "gridcolor": "#EBF0F8",
            "linecolor": "#EBF0F8",
            "ticks": ""
           }
          },
          "scene": {
           "xaxis": {
            "backgroundcolor": "white",
            "gridcolor": "#DFE8F3",
            "gridwidth": 2,
            "linecolor": "#EBF0F8",
            "showbackground": true,
            "ticks": "",
            "zerolinecolor": "#EBF0F8"
           },
           "yaxis": {
            "backgroundcolor": "white",
            "gridcolor": "#DFE8F3",
            "gridwidth": 2,
            "linecolor": "#EBF0F8",
            "showbackground": true,
            "ticks": "",
            "zerolinecolor": "#EBF0F8"
           },
           "zaxis": {
            "backgroundcolor": "white",
            "gridcolor": "#DFE8F3",
            "gridwidth": 2,
            "linecolor": "#EBF0F8",
            "showbackground": true,
            "ticks": "",
            "zerolinecolor": "#EBF0F8"
           }
          },
          "shapedefaults": {
           "line": {
            "color": "#2a3f5f"
           }
          },
          "ternary": {
           "aaxis": {
            "gridcolor": "#DFE8F3",
            "linecolor": "#A2B1C6",
            "ticks": ""
           },
           "baxis": {
            "gridcolor": "#DFE8F3",
            "linecolor": "#A2B1C6",
            "ticks": ""
           },
           "bgcolor": "white",
           "caxis": {
            "gridcolor": "#DFE8F3",
            "linecolor": "#A2B1C6",
            "ticks": ""
           }
          },
          "title": {
           "x": 0.05
          },
          "xaxis": {
           "automargin": true,
           "gridcolor": "#EBF0F8",
           "linecolor": "#EBF0F8",
           "ticks": "",
           "title": {
            "standoff": 15
           },
           "zerolinecolor": "#EBF0F8",
           "zerolinewidth": 2
          },
          "yaxis": {
           "automargin": true,
           "gridcolor": "#EBF0F8",
           "linecolor": "#EBF0F8",
           "ticks": "",
           "title": {
            "standoff": 15
           },
           "zerolinecolor": "#EBF0F8",
           "zerolinewidth": 2
          }
         }
        },
        "title": {
         "font": {
          "size": 20
         },
         "text": "Generic policy:security_practice"
        },
        "width": 1400,
        "xaxis": {
         "range": [
          -0.1,
          0.1
         ],
         "tickfont": {
          "size": 16
         },
         "title": {
          "font": {
           "size": 18
          },
          "text": "Mean SHAP Value (Average Impact on Model Output)"
         },
         "zeroline": true,
         "zerolinecolor": "black",
         "zerolinewidth": 2
        },
        "yaxis": {
         "tickfont": {
          "size": 16
         },
         "title": {
          "font": {
           "size": 19
          },
          "text": "Features"
         }
        }
       }
      }
     },
     "metadata": {},
     "output_type": "display_data"
    }
   ],
   "source": [
    "\n",
    "\n",
    "# Compute absolute mean SHAP values for correct sorting\n",
    "df_mean = df_class_1.abs().mean(numeric_only=True).reset_index()  \n",
    "df_mean.columns = ['Feature', 'Mean |SHAP Value|']  # Calculate absolute mean SHAP values\n",
    "df_mean = df_mean.sort_values(by=\"Mean |SHAP Value|\", ascending=True)  # Sort by absolute impact\n",
    "\n",
    "# Compute actual mean SHAP values for correct bar direction\n",
    "df_signed_mean = df_class_1.mean(numeric_only=True).reset_index()\n",
    "df_signed_mean.columns = ['Feature', 'Mean SHAP Value']\n",
    "\n",
    "# Merge absolute and signed values while maintaining the correct order\n",
    "df_final = df_mean.merge(df_signed_mean, on=\"Feature\")\n",
    "\n",
    "# Re-sort after merging to maintain correct order\n",
    "df_final = df_final.sort_values(by=\"Mean |SHAP Value|\", ascending=True)\n",
    "\n",
    "# Assign colors: pink for positive, skyblue for negative values\n",
    "df_final[\"Color\"] = df_final[\"Mean SHAP Value\"].apply(lambda x: \"mediumturquoise\" if x >= 0 else \"crimson\")\n",
    "\n",
    "# Creating the horizontal bar plot with correct sorting and left/right direction\n",
    "fig = go.Figure()\n",
    "\n",
    "fig.add_trace(go.Bar(\n",
    "    x=df_final[\"Mean SHAP Value\"],  # Use signed values for correct left/right effect\n",
    "    y=df_final[\"Feature\"],  # Order is already sorted by absolute SHAP values\n",
    "    orientation='h',\n",
    "    marker=dict(color=df_final[\"Color\"]),\n",
    "    text=[f\"{v:+.3f}\" for v in df_final[\"Mean SHAP Value\"]],  # ✅ Show signed values (+/-) correctly\n",
    "    textposition=\"outside\"\n",
    "))\n",
    "\n",
    "# Updating layout to ensure zero-centered importance plot\n",
    "fig.update_layout(\n",
    "    title=f\"{cate}:{feature}\",\n",
    "    title_font_size=20,\n",
    "    xaxis_title=\"Mean SHAP Value (Average Impact on Model Output)\",\n",
    "    xaxis_title_font_size=18, \n",
    "    yaxis_title=\"Features\",\n",
    "    yaxis_title_font_size=19,\n",
    "    template=\"plotly_white\",\n",
    "    font=dict(size=16),  # Increase overall font size\n",
    "    xaxis=dict(\n",
    "        tickfont=dict(size=16),  # Increase x-axis tick label font size\n",
    "        zeroline=True,  # Add a reference line at 0\n",
    "        zerolinecolor=\"black\",\n",
    "        zerolinewidth=2,\n",
    "        range=[-0.1, 0.1]\n",
    "    ),\n",
    "    yaxis=dict(\n",
    "        tickfont=dict(size=16)  # Increase y-axis tick label font size\n",
    "    ),\n",
    "    showlegend=False,  # No legend needed\n",
    "    width=1400,  # Set figure width\n",
    "    height=500,  # Set figure height\n",
    ")\n",
    "\n",
    "# Show the plot\n",
    "fig.show()\n",
    "\n",
    "# # Ensure the \"shap\" directory exists before saving\n",
    "# directory = \"shap\"\n",
    "# os.makedirs(directory, exist_ok=True)  # Create folder if it doesn't exist\n",
    "\n",
    "# # Define save path\n",
    "# save_path = f\"{directory}/{cate}_{feature}_plot.png\"\n",
    "\n",
    "# # Save the figure as an image\n",
    "# fig.write_image(save_path)\n",
    "# print(f\"Figure saved successfully at: {save_path}\")\n"
   ]
  },
  {
   "cell_type": "code",
   "execution_count": null,
   "metadata": {},
   "outputs": [
    {
     "data": {
      "application/vnd.plotly.v1+json": {
       "config": {
        "plotlyServerURL": "https://plot.ly"
       },
       "data": [
        {
         "marker": {
          "color": [
           "crimson",
           "crimson",
           "mediumturquoise",
           "mediumturquoise",
           "crimson"
          ]
         },
         "orientation": "h",
         "text": [
          "0.007",
          "0.012",
          "0.032",
          "0.060",
          "0.083"
         ],
         "textposition": "outside",
         "type": "bar",
         "x": {
          "bdata": "tqMg7wNPfT8YOTr/kz6IP+fE+r+veqA/nZ6BtNy5rj+3etRlp0K1Pw==",
          "dtype": "f8"
         },
         "y": [
          "ssf3_CII-Best-Practices",
          "ssf8_Fuzzing",
          "ssf10_Maintained",
          "ssf7_Dependency-Update-Tool",
          "ssf9_License"
         ]
        }
       ],
       "layout": {
        "font": {
         "size": 16
        },
        "height": 500,
        "showlegend": false,
        "template": {
         "data": {
          "bar": [
           {
            "error_x": {
             "color": "#2a3f5f"
            },
            "error_y": {
             "color": "#2a3f5f"
            },
            "marker": {
             "line": {
              "color": "white",
              "width": 0.5
             },
             "pattern": {
              "fillmode": "overlay",
              "size": 10,
              "solidity": 0.2
             }
            },
            "type": "bar"
           }
          ],
          "barpolar": [
           {
            "marker": {
             "line": {
              "color": "white",
              "width": 0.5
             },
             "pattern": {
              "fillmode": "overlay",
              "size": 10,
              "solidity": 0.2
             }
            },
            "type": "barpolar"
           }
          ],
          "carpet": [
           {
            "aaxis": {
             "endlinecolor": "#2a3f5f",
             "gridcolor": "#C8D4E3",
             "linecolor": "#C8D4E3",
             "minorgridcolor": "#C8D4E3",
             "startlinecolor": "#2a3f5f"
            },
            "baxis": {
             "endlinecolor": "#2a3f5f",
             "gridcolor": "#C8D4E3",
             "linecolor": "#C8D4E3",
             "minorgridcolor": "#C8D4E3",
             "startlinecolor": "#2a3f5f"
            },
            "type": "carpet"
           }
          ],
          "choropleth": [
           {
            "colorbar": {
             "outlinewidth": 0,
             "ticks": ""
            },
            "type": "choropleth"
           }
          ],
          "contour": [
           {
            "colorbar": {
             "outlinewidth": 0,
             "ticks": ""
            },
            "colorscale": [
             [
              0,
              "#0d0887"
             ],
             [
              0.1111111111111111,
              "#46039f"
             ],
             [
              0.2222222222222222,
              "#7201a8"
             ],
             [
              0.3333333333333333,
              "#9c179e"
             ],
             [
              0.4444444444444444,
              "#bd3786"
             ],
             [
              0.5555555555555556,
              "#d8576b"
             ],
             [
              0.6666666666666666,
              "#ed7953"
             ],
             [
              0.7777777777777778,
              "#fb9f3a"
             ],
             [
              0.8888888888888888,
              "#fdca26"
             ],
             [
              1,
              "#f0f921"
             ]
            ],
            "type": "contour"
           }
          ],
          "contourcarpet": [
           {
            "colorbar": {
             "outlinewidth": 0,
             "ticks": ""
            },
            "type": "contourcarpet"
           }
          ],
          "heatmap": [
           {
            "colorbar": {
             "outlinewidth": 0,
             "ticks": ""
            },
            "colorscale": [
             [
              0,
              "#0d0887"
             ],
             [
              0.1111111111111111,
              "#46039f"
             ],
             [
              0.2222222222222222,
              "#7201a8"
             ],
             [
              0.3333333333333333,
              "#9c179e"
             ],
             [
              0.4444444444444444,
              "#bd3786"
             ],
             [
              0.5555555555555556,
              "#d8576b"
             ],
             [
              0.6666666666666666,
              "#ed7953"
             ],
             [
              0.7777777777777778,
              "#fb9f3a"
             ],
             [
              0.8888888888888888,
              "#fdca26"
             ],
             [
              1,
              "#f0f921"
             ]
            ],
            "type": "heatmap"
           }
          ],
          "histogram": [
           {
            "marker": {
             "pattern": {
              "fillmode": "overlay",
              "size": 10,
              "solidity": 0.2
             }
            },
            "type": "histogram"
           }
          ],
          "histogram2d": [
           {
            "colorbar": {
             "outlinewidth": 0,
             "ticks": ""
            },
            "colorscale": [
             [
              0,
              "#0d0887"
             ],
             [
              0.1111111111111111,
              "#46039f"
             ],
             [
              0.2222222222222222,
              "#7201a8"
             ],
             [
              0.3333333333333333,
              "#9c179e"
             ],
             [
              0.4444444444444444,
              "#bd3786"
             ],
             [
              0.5555555555555556,
              "#d8576b"
             ],
             [
              0.6666666666666666,
              "#ed7953"
             ],
             [
              0.7777777777777778,
              "#fb9f3a"
             ],
             [
              0.8888888888888888,
              "#fdca26"
             ],
             [
              1,
              "#f0f921"
             ]
            ],
            "type": "histogram2d"
           }
          ],
          "histogram2dcontour": [
           {
            "colorbar": {
             "outlinewidth": 0,
             "ticks": ""
            },
            "colorscale": [
             [
              0,
              "#0d0887"
             ],
             [
              0.1111111111111111,
              "#46039f"
             ],
             [
              0.2222222222222222,
              "#7201a8"
             ],
             [
              0.3333333333333333,
              "#9c179e"
             ],
             [
              0.4444444444444444,
              "#bd3786"
             ],
             [
              0.5555555555555556,
              "#d8576b"
             ],
             [
              0.6666666666666666,
              "#ed7953"
             ],
             [
              0.7777777777777778,
              "#fb9f3a"
             ],
             [
              0.8888888888888888,
              "#fdca26"
             ],
             [
              1,
              "#f0f921"
             ]
            ],
            "type": "histogram2dcontour"
           }
          ],
          "mesh3d": [
           {
            "colorbar": {
             "outlinewidth": 0,
             "ticks": ""
            },
            "type": "mesh3d"
           }
          ],
          "parcoords": [
           {
            "line": {
             "colorbar": {
              "outlinewidth": 0,
              "ticks": ""
             }
            },
            "type": "parcoords"
           }
          ],
          "pie": [
           {
            "automargin": true,
            "type": "pie"
           }
          ],
          "scatter": [
           {
            "fillpattern": {
             "fillmode": "overlay",
             "size": 10,
             "solidity": 0.2
            },
            "type": "scatter"
           }
          ],
          "scatter3d": [
           {
            "line": {
             "colorbar": {
              "outlinewidth": 0,
              "ticks": ""
             }
            },
            "marker": {
             "colorbar": {
              "outlinewidth": 0,
              "ticks": ""
             }
            },
            "type": "scatter3d"
           }
          ],
          "scattercarpet": [
           {
            "marker": {
             "colorbar": {
              "outlinewidth": 0,
              "ticks": ""
             }
            },
            "type": "scattercarpet"
           }
          ],
          "scattergeo": [
           {
            "marker": {
             "colorbar": {
              "outlinewidth": 0,
              "ticks": ""
             }
            },
            "type": "scattergeo"
           }
          ],
          "scattergl": [
           {
            "marker": {
             "colorbar": {
              "outlinewidth": 0,
              "ticks": ""
             }
            },
            "type": "scattergl"
           }
          ],
          "scattermap": [
           {
            "marker": {
             "colorbar": {
              "outlinewidth": 0,
              "ticks": ""
             }
            },
            "type": "scattermap"
           }
          ],
          "scattermapbox": [
           {
            "marker": {
             "colorbar": {
              "outlinewidth": 0,
              "ticks": ""
             }
            },
            "type": "scattermapbox"
           }
          ],
          "scatterpolar": [
           {
            "marker": {
             "colorbar": {
              "outlinewidth": 0,
              "ticks": ""
             }
            },
            "type": "scatterpolar"
           }
          ],
          "scatterpolargl": [
           {
            "marker": {
             "colorbar": {
              "outlinewidth": 0,
              "ticks": ""
             }
            },
            "type": "scatterpolargl"
           }
          ],
          "scatterternary": [
           {
            "marker": {
             "colorbar": {
              "outlinewidth": 0,
              "ticks": ""
             }
            },
            "type": "scatterternary"
           }
          ],
          "surface": [
           {
            "colorbar": {
             "outlinewidth": 0,
             "ticks": ""
            },
            "colorscale": [
             [
              0,
              "#0d0887"
             ],
             [
              0.1111111111111111,
              "#46039f"
             ],
             [
              0.2222222222222222,
              "#7201a8"
             ],
             [
              0.3333333333333333,
              "#9c179e"
             ],
             [
              0.4444444444444444,
              "#bd3786"
             ],
             [
              0.5555555555555556,
              "#d8576b"
             ],
             [
              0.6666666666666666,
              "#ed7953"
             ],
             [
              0.7777777777777778,
              "#fb9f3a"
             ],
             [
              0.8888888888888888,
              "#fdca26"
             ],
             [
              1,
              "#f0f921"
             ]
            ],
            "type": "surface"
           }
          ],
          "table": [
           {
            "cells": {
             "fill": {
              "color": "#EBF0F8"
             },
             "line": {
              "color": "white"
             }
            },
            "header": {
             "fill": {
              "color": "#C8D4E3"
             },
             "line": {
              "color": "white"
             }
            },
            "type": "table"
           }
          ]
         },
         "layout": {
          "annotationdefaults": {
           "arrowcolor": "#2a3f5f",
           "arrowhead": 0,
           "arrowwidth": 1
          },
          "autotypenumbers": "strict",
          "coloraxis": {
           "colorbar": {
            "outlinewidth": 0,
            "ticks": ""
           }
          },
          "colorscale": {
           "diverging": [
            [
             0,
             "#8e0152"
            ],
            [
             0.1,
             "#c51b7d"
            ],
            [
             0.2,
             "#de77ae"
            ],
            [
             0.3,
             "#f1b6da"
            ],
            [
             0.4,
             "#fde0ef"
            ],
            [
             0.5,
             "#f7f7f7"
            ],
            [
             0.6,
             "#e6f5d0"
            ],
            [
             0.7,
             "#b8e186"
            ],
            [
             0.8,
             "#7fbc41"
            ],
            [
             0.9,
             "#4d9221"
            ],
            [
             1,
             "#276419"
            ]
           ],
           "sequential": [
            [
             0,
             "#0d0887"
            ],
            [
             0.1111111111111111,
             "#46039f"
            ],
            [
             0.2222222222222222,
             "#7201a8"
            ],
            [
             0.3333333333333333,
             "#9c179e"
            ],
            [
             0.4444444444444444,
             "#bd3786"
            ],
            [
             0.5555555555555556,
             "#d8576b"
            ],
            [
             0.6666666666666666,
             "#ed7953"
            ],
            [
             0.7777777777777778,
             "#fb9f3a"
            ],
            [
             0.8888888888888888,
             "#fdca26"
            ],
            [
             1,
             "#f0f921"
            ]
           ],
           "sequentialminus": [
            [
             0,
             "#0d0887"
            ],
            [
             0.1111111111111111,
             "#46039f"
            ],
            [
             0.2222222222222222,
             "#7201a8"
            ],
            [
             0.3333333333333333,
             "#9c179e"
            ],
            [
             0.4444444444444444,
             "#bd3786"
            ],
            [
             0.5555555555555556,
             "#d8576b"
            ],
            [
             0.6666666666666666,
             "#ed7953"
            ],
            [
             0.7777777777777778,
             "#fb9f3a"
            ],
            [
             0.8888888888888888,
             "#fdca26"
            ],
            [
             1,
             "#f0f921"
            ]
           ]
          },
          "colorway": [
           "#636efa",
           "#EF553B",
           "#00cc96",
           "#ab63fa",
           "#FFA15A",
           "#19d3f3",
           "#FF6692",
           "#B6E880",
           "#FF97FF",
           "#FECB52"
          ],
          "font": {
           "color": "#2a3f5f"
          },
          "geo": {
           "bgcolor": "white",
           "lakecolor": "white",
           "landcolor": "white",
           "showlakes": true,
           "showland": true,
           "subunitcolor": "#C8D4E3"
          },
          "hoverlabel": {
           "align": "left"
          },
          "hovermode": "closest",
          "mapbox": {
           "style": "light"
          },
          "paper_bgcolor": "white",
          "plot_bgcolor": "white",
          "polar": {
           "angularaxis": {
            "gridcolor": "#EBF0F8",
            "linecolor": "#EBF0F8",
            "ticks": ""
           },
           "bgcolor": "white",
           "radialaxis": {
            "gridcolor": "#EBF0F8",
            "linecolor": "#EBF0F8",
            "ticks": ""
           }
          },
          "scene": {
           "xaxis": {
            "backgroundcolor": "white",
            "gridcolor": "#DFE8F3",
            "gridwidth": 2,
            "linecolor": "#EBF0F8",
            "showbackground": true,
            "ticks": "",
            "zerolinecolor": "#EBF0F8"
           },
           "yaxis": {
            "backgroundcolor": "white",
            "gridcolor": "#DFE8F3",
            "gridwidth": 2,
            "linecolor": "#EBF0F8",
            "showbackground": true,
            "ticks": "",
            "zerolinecolor": "#EBF0F8"
           },
           "zaxis": {
            "backgroundcolor": "white",
            "gridcolor": "#DFE8F3",
            "gridwidth": 2,
            "linecolor": "#EBF0F8",
            "showbackground": true,
            "ticks": "",
            "zerolinecolor": "#EBF0F8"
           }
          },
          "shapedefaults": {
           "line": {
            "color": "#2a3f5f"
           }
          },
          "ternary": {
           "aaxis": {
            "gridcolor": "#DFE8F3",
            "linecolor": "#A2B1C6",
            "ticks": ""
           },
           "baxis": {
            "gridcolor": "#DFE8F3",
            "linecolor": "#A2B1C6",
            "ticks": ""
           },
           "bgcolor": "white",
           "caxis": {
            "gridcolor": "#DFE8F3",
            "linecolor": "#A2B1C6",
            "ticks": ""
           }
          },
          "title": {
           "x": 0.05
          },
          "xaxis": {
           "automargin": true,
           "gridcolor": "#EBF0F8",
           "linecolor": "#EBF0F8",
           "ticks": "",
           "title": {
            "standoff": 15
           },
           "zerolinecolor": "#EBF0F8",
           "zerolinewidth": 2
          },
          "yaxis": {
           "automargin": true,
           "gridcolor": "#EBF0F8",
           "linecolor": "#EBF0F8",
           "ticks": "",
           "title": {
            "standoff": 15
           },
           "zerolinecolor": "#EBF0F8",
           "zerolinewidth": 2
          }
         }
        },
        "title": {
         "font": {
          "size": 20
         },
         "text": "Generic policy:security_practice"
        },
        "width": 1200,
        "xaxis": {
         "range": [
          0,
          0.1
         ],
         "tickfont": {
          "size": 16
         },
         "title": {
          "font": {
           "size": 18
          },
          "text": "Mean SHAP Value (Average Impact on Model Output)"
         }
        },
        "yaxis": {
         "tickfont": {
          "size": 16
         },
         "title": {
          "font": {
           "size": 19
          },
          "text": "Features"
         }
        }
       }
      }
     },
     "metadata": {},
     "output_type": "display_data"
    },
    {
     "name": "stdout",
     "output_type": "stream",
     "text": [
      "Figure saved successfully at: shap/Generic policy_security_practice_bar_right_plot.png\n"
     ]
    }
   ],
   "source": [
    "import pandas as pd\n",
    "import plotly.graph_objects as go\n",
    "\n",
    "# Compute absolute mean SHAP values for correct sorting\n",
    "df_mean = df_class_1.abs().mean(numeric_only=True).reset_index()  # Use absolute values for sorting\n",
    "df_mean.columns = ['Feature', 'Mean |SHAP Value|']\n",
    "df_mean = df_mean.sort_values(by=\"Mean |SHaAP Value|\", ascending=True)  # Sort by absolute impact\n",
    "\n",
    "# Compute actual mean SHAP values for correct bar coloring\n",
    "df_signed_mean = df_class_1.mean(numeric_only=True).reset_index()\n",
    "df_signed_mean.columns = ['Feature', 'Mean SHAP Value']\n",
    "\n",
    "# Merge both to get proper ordering and sign information\n",
    "df_final = df_mean.merge(df_signed_mean, on=\"Feature\")\n",
    "\n",
    "# Assign colors: red for positive, blue for negative values\n",
    "df_final[\"Color\"] = df_final[\"Mean SHAP Value\"].apply(lambda x: \"mediumturquoise\" if x >= 0 else \"crimson\")\n",
    "\n",
    "# Creating the horizontal bar plot with correct order\n",
    "fig = go.Figure()\n",
    "\n",
    "fig.add_trace(go.Bar(\n",
    "    x=df_final[\"Mean |SHAP Value|\"],\n",
    "    y=df_final[\"Feature\"],\n",
    "    orientation='h',\n",
    "    marker=dict(color=df_final[\"Color\"]),\n",
    "    text=[f\"{v:.3f}\" for v in df_final[\"Mean |SHAP Value|\"]],  # Annotate absolute SHAP values\n",
    "    textposition=\"outside\"\n",
    "))\n",
    "\n",
    "# Updating layout to match SHAP importance plot style\n",
    "fig.update_layout(\n",
    "\n",
    "    title=f\"{cate}:{feature}\",\n",
    "    title_font_size=20,\n",
    "    xaxis_title=\"Mean SHAP Value (Average Impact on Model Output)\",\n",
    "    xaxis_title_font_size=18, \n",
    "    yaxis_title=\"Features\",\n",
    "    yaxis_title_font_size=19,\n",
    "    template=\"plotly_white\",\n",
    "    font=dict(size=16),  # Increase overall font size\n",
    "    xaxis=dict(\n",
    "        range=[0, 0.1],\n",
    "        tickfont=dict(size=16),  # Increase x-axis tick label font size\n",
    "    ),\n",
    "    yaxis=dict(\n",
    "        tickfont=dict(size=16)  # Increase y-axis tick label font size\n",
    "    ),\n",
    "    showlegend=False,  # No legend needed\n",
    "    width=1200,  # Set figure width\n",
    "    height=500,  # Set figure height\n",
    ")\n",
    "\n",
    "# Show the plot\n",
    "fig.show()\n",
    "# Ensure the \"shap\" directory exists before saving\n",
    "directory = \"shap\"\n",
    "os.makedirs(directory, exist_ok=True)  # Create folder if it doesn't exist\n",
    "\n",
    "# Define save path\n",
    "save_path = f\"{directory}/{cate}_{feature}_bar_right_plot.png\"\n",
    "\n",
    "# Save the figure as an image\n",
    "fig.write_image(save_path)\n",
    "print(f\"Figure saved successfully at: {save_path}\")"
   ]
  },
  {
   "cell_type": "code",
   "execution_count": null,
   "metadata": {},
   "outputs": [
    {
     "data": {
      "application/vnd.plotly.v1+json": {
       "config": {
        "plotlyServerURL": "https://plot.ly"
       },
       "data": [
        {
         "marker": {
          "color": [
           "crimson",
           "crimson",
           "mediumturquoise",
           "mediumturquoise",
           "crimson"
          ]
         },
         "orientation": "h",
         "text": [
          "0.007",
          "0.012",
          "0.032",
          "0.060",
          "0.083"
         ],
         "textposition": "outside",
         "type": "bar",
         "x": {
          "bdata": "tqMg7wNPfT8YOTr/kz6IP+fE+r+veqA/nZ6BtNy5rj+3etRlp0K1Pw==",
          "dtype": "f8"
         },
         "y": [
          "ssf3_CII-Best-Practices",
          "ssf8_Fuzzing",
          "ssf10_Maintained",
          "ssf7_Dependency-Update-Tool",
          "ssf9_License"
         ]
        }
       ],
       "layout": {
        "font": {
         "size": 16
        },
        "height": 500,
        "showlegend": false,
        "template": {
         "data": {
          "bar": [
           {
            "error_x": {
             "color": "#2a3f5f"
            },
            "error_y": {
             "color": "#2a3f5f"
            },
            "marker": {
             "line": {
              "color": "white",
              "width": 0.5
             },
             "pattern": {
              "fillmode": "overlay",
              "size": 10,
              "solidity": 0.2
             }
            },
            "type": "bar"
           }
          ],
          "barpolar": [
           {
            "marker": {
             "line": {
              "color": "white",
              "width": 0.5
             },
             "pattern": {
              "fillmode": "overlay",
              "size": 10,
              "solidity": 0.2
             }
            },
            "type": "barpolar"
           }
          ],
          "carpet": [
           {
            "aaxis": {
             "endlinecolor": "#2a3f5f",
             "gridcolor": "#C8D4E3",
             "linecolor": "#C8D4E3",
             "minorgridcolor": "#C8D4E3",
             "startlinecolor": "#2a3f5f"
            },
            "baxis": {
             "endlinecolor": "#2a3f5f",
             "gridcolor": "#C8D4E3",
             "linecolor": "#C8D4E3",
             "minorgridcolor": "#C8D4E3",
             "startlinecolor": "#2a3f5f"
            },
            "type": "carpet"
           }
          ],
          "choropleth": [
           {
            "colorbar": {
             "outlinewidth": 0,
             "ticks": ""
            },
            "type": "choropleth"
           }
          ],
          "contour": [
           {
            "colorbar": {
             "outlinewidth": 0,
             "ticks": ""
            },
            "colorscale": [
             [
              0,
              "#0d0887"
             ],
             [
              0.1111111111111111,
              "#46039f"
             ],
             [
              0.2222222222222222,
              "#7201a8"
             ],
             [
              0.3333333333333333,
              "#9c179e"
             ],
             [
              0.4444444444444444,
              "#bd3786"
             ],
             [
              0.5555555555555556,
              "#d8576b"
             ],
             [
              0.6666666666666666,
              "#ed7953"
             ],
             [
              0.7777777777777778,
              "#fb9f3a"
             ],
             [
              0.8888888888888888,
              "#fdca26"
             ],
             [
              1,
              "#f0f921"
             ]
            ],
            "type": "contour"
           }
          ],
          "contourcarpet": [
           {
            "colorbar": {
             "outlinewidth": 0,
             "ticks": ""
            },
            "type": "contourcarpet"
           }
          ],
          "heatmap": [
           {
            "colorbar": {
             "outlinewidth": 0,
             "ticks": ""
            },
            "colorscale": [
             [
              0,
              "#0d0887"
             ],
             [
              0.1111111111111111,
              "#46039f"
             ],
             [
              0.2222222222222222,
              "#7201a8"
             ],
             [
              0.3333333333333333,
              "#9c179e"
             ],
             [
              0.4444444444444444,
              "#bd3786"
             ],
             [
              0.5555555555555556,
              "#d8576b"
             ],
             [
              0.6666666666666666,
              "#ed7953"
             ],
             [
              0.7777777777777778,
              "#fb9f3a"
             ],
             [
              0.8888888888888888,
              "#fdca26"
             ],
             [
              1,
              "#f0f921"
             ]
            ],
            "type": "heatmap"
           }
          ],
          "histogram": [
           {
            "marker": {
             "pattern": {
              "fillmode": "overlay",
              "size": 10,
              "solidity": 0.2
             }
            },
            "type": "histogram"
           }
          ],
          "histogram2d": [
           {
            "colorbar": {
             "outlinewidth": 0,
             "ticks": ""
            },
            "colorscale": [
             [
              0,
              "#0d0887"
             ],
             [
              0.1111111111111111,
              "#46039f"
             ],
             [
              0.2222222222222222,
              "#7201a8"
             ],
             [
              0.3333333333333333,
              "#9c179e"
             ],
             [
              0.4444444444444444,
              "#bd3786"
             ],
             [
              0.5555555555555556,
              "#d8576b"
             ],
             [
              0.6666666666666666,
              "#ed7953"
             ],
             [
              0.7777777777777778,
              "#fb9f3a"
             ],
             [
              0.8888888888888888,
              "#fdca26"
             ],
             [
              1,
              "#f0f921"
             ]
            ],
            "type": "histogram2d"
           }
          ],
          "histogram2dcontour": [
           {
            "colorbar": {
             "outlinewidth": 0,
             "ticks": ""
            },
            "colorscale": [
             [
              0,
              "#0d0887"
             ],
             [
              0.1111111111111111,
              "#46039f"
             ],
             [
              0.2222222222222222,
              "#7201a8"
             ],
             [
              0.3333333333333333,
              "#9c179e"
             ],
             [
              0.4444444444444444,
              "#bd3786"
             ],
             [
              0.5555555555555556,
              "#d8576b"
             ],
             [
              0.6666666666666666,
              "#ed7953"
             ],
             [
              0.7777777777777778,
              "#fb9f3a"
             ],
             [
              0.8888888888888888,
              "#fdca26"
             ],
             [
              1,
              "#f0f921"
             ]
            ],
            "type": "histogram2dcontour"
           }
          ],
          "mesh3d": [
           {
            "colorbar": {
             "outlinewidth": 0,
             "ticks": ""
            },
            "type": "mesh3d"
           }
          ],
          "parcoords": [
           {
            "line": {
             "colorbar": {
              "outlinewidth": 0,
              "ticks": ""
             }
            },
            "type": "parcoords"
           }
          ],
          "pie": [
           {
            "automargin": true,
            "type": "pie"
           }
          ],
          "scatter": [
           {
            "fillpattern": {
             "fillmode": "overlay",
             "size": 10,
             "solidity": 0.2
            },
            "type": "scatter"
           }
          ],
          "scatter3d": [
           {
            "line": {
             "colorbar": {
              "outlinewidth": 0,
              "ticks": ""
             }
            },
            "marker": {
             "colorbar": {
              "outlinewidth": 0,
              "ticks": ""
             }
            },
            "type": "scatter3d"
           }
          ],
          "scattercarpet": [
           {
            "marker": {
             "colorbar": {
              "outlinewidth": 0,
              "ticks": ""
             }
            },
            "type": "scattercarpet"
           }
          ],
          "scattergeo": [
           {
            "marker": {
             "colorbar": {
              "outlinewidth": 0,
              "ticks": ""
             }
            },
            "type": "scattergeo"
           }
          ],
          "scattergl": [
           {
            "marker": {
             "colorbar": {
              "outlinewidth": 0,
              "ticks": ""
             }
            },
            "type": "scattergl"
           }
          ],
          "scattermap": [
           {
            "marker": {
             "colorbar": {
              "outlinewidth": 0,
              "ticks": ""
             }
            },
            "type": "scattermap"
           }
          ],
          "scattermapbox": [
           {
            "marker": {
             "colorbar": {
              "outlinewidth": 0,
              "ticks": ""
             }
            },
            "type": "scattermapbox"
           }
          ],
          "scatterpolar": [
           {
            "marker": {
             "colorbar": {
              "outlinewidth": 0,
              "ticks": ""
             }
            },
            "type": "scatterpolar"
           }
          ],
          "scatterpolargl": [
           {
            "marker": {
             "colorbar": {
              "outlinewidth": 0,
              "ticks": ""
             }
            },
            "type": "scatterpolargl"
           }
          ],
          "scatterternary": [
           {
            "marker": {
             "colorbar": {
              "outlinewidth": 0,
              "ticks": ""
             }
            },
            "type": "scatterternary"
           }
          ],
          "surface": [
           {
            "colorbar": {
             "outlinewidth": 0,
             "ticks": ""
            },
            "colorscale": [
             [
              0,
              "#0d0887"
             ],
             [
              0.1111111111111111,
              "#46039f"
             ],
             [
              0.2222222222222222,
              "#7201a8"
             ],
             [
              0.3333333333333333,
              "#9c179e"
             ],
             [
              0.4444444444444444,
              "#bd3786"
             ],
             [
              0.5555555555555556,
              "#d8576b"
             ],
             [
              0.6666666666666666,
              "#ed7953"
             ],
             [
              0.7777777777777778,
              "#fb9f3a"
             ],
             [
              0.8888888888888888,
              "#fdca26"
             ],
             [
              1,
              "#f0f921"
             ]
            ],
            "type": "surface"
           }
          ],
          "table": [
           {
            "cells": {
             "fill": {
              "color": "#EBF0F8"
             },
             "line": {
              "color": "white"
             }
            },
            "header": {
             "fill": {
              "color": "#C8D4E3"
             },
             "line": {
              "color": "white"
             }
            },
            "type": "table"
           }
          ]
         },
         "layout": {
          "annotationdefaults": {
           "arrowcolor": "#2a3f5f",
           "arrowhead": 0,
           "arrowwidth": 1
          },
          "autotypenumbers": "strict",
          "coloraxis": {
           "colorbar": {
            "outlinewidth": 0,
            "ticks": ""
           }
          },
          "colorscale": {
           "diverging": [
            [
             0,
             "#8e0152"
            ],
            [
             0.1,
             "#c51b7d"
            ],
            [
             0.2,
             "#de77ae"
            ],
            [
             0.3,
             "#f1b6da"
            ],
            [
             0.4,
             "#fde0ef"
            ],
            [
             0.5,
             "#f7f7f7"
            ],
            [
             0.6,
             "#e6f5d0"
            ],
            [
             0.7,
             "#b8e186"
            ],
            [
             0.8,
             "#7fbc41"
            ],
            [
             0.9,
             "#4d9221"
            ],
            [
             1,
             "#276419"
            ]
           ],
           "sequential": [
            [
             0,
             "#0d0887"
            ],
            [
             0.1111111111111111,
             "#46039f"
            ],
            [
             0.2222222222222222,
             "#7201a8"
            ],
            [
             0.3333333333333333,
             "#9c179e"
            ],
            [
             0.4444444444444444,
             "#bd3786"
            ],
            [
             0.5555555555555556,
             "#d8576b"
            ],
            [
             0.6666666666666666,
             "#ed7953"
            ],
            [
             0.7777777777777778,
             "#fb9f3a"
            ],
            [
             0.8888888888888888,
             "#fdca26"
            ],
            [
             1,
             "#f0f921"
            ]
           ],
           "sequentialminus": [
            [
             0,
             "#0d0887"
            ],
            [
             0.1111111111111111,
             "#46039f"
            ],
            [
             0.2222222222222222,
             "#7201a8"
            ],
            [
             0.3333333333333333,
             "#9c179e"
            ],
            [
             0.4444444444444444,
             "#bd3786"
            ],
            [
             0.5555555555555556,
             "#d8576b"
            ],
            [
             0.6666666666666666,
             "#ed7953"
            ],
            [
             0.7777777777777778,
             "#fb9f3a"
            ],
            [
             0.8888888888888888,
             "#fdca26"
            ],
            [
             1,
             "#f0f921"
            ]
           ]
          },
          "colorway": [
           "#636efa",
           "#EF553B",
           "#00cc96",
           "#ab63fa",
           "#FFA15A",
           "#19d3f3",
           "#FF6692",
           "#B6E880",
           "#FF97FF",
           "#FECB52"
          ],
          "font": {
           "color": "#2a3f5f"
          },
          "geo": {
           "bgcolor": "white",
           "lakecolor": "white",
           "landcolor": "white",
           "showlakes": true,
           "showland": true,
           "subunitcolor": "#C8D4E3"
          },
          "hoverlabel": {
           "align": "left"
          },
          "hovermode": "closest",
          "mapbox": {
           "style": "light"
          },
          "paper_bgcolor": "white",
          "plot_bgcolor": "white",
          "polar": {
           "angularaxis": {
            "gridcolor": "#EBF0F8",
            "linecolor": "#EBF0F8",
            "ticks": ""
           },
           "bgcolor": "white",
           "radialaxis": {
            "gridcolor": "#EBF0F8",
            "linecolor": "#EBF0F8",
            "ticks": ""
           }
          },
          "scene": {
           "xaxis": {
            "backgroundcolor": "white",
            "gridcolor": "#DFE8F3",
            "gridwidth": 2,
            "linecolor": "#EBF0F8",
            "showbackground": true,
            "ticks": "",
            "zerolinecolor": "#EBF0F8"
           },
           "yaxis": {
            "backgroundcolor": "white",
            "gridcolor": "#DFE8F3",
            "gridwidth": 2,
            "linecolor": "#EBF0F8",
            "showbackground": true,
            "ticks": "",
            "zerolinecolor": "#EBF0F8"
           },
           "zaxis": {
            "backgroundcolor": "white",
            "gridcolor": "#DFE8F3",
            "gridwidth": 2,
            "linecolor": "#EBF0F8",
            "showbackground": true,
            "ticks": "",
            "zerolinecolor": "#EBF0F8"
           }
          },
          "shapedefaults": {
           "line": {
            "color": "#2a3f5f"
           }
          },
          "ternary": {
           "aaxis": {
            "gridcolor": "#DFE8F3",
            "linecolor": "#A2B1C6",
            "ticks": ""
           },
           "baxis": {
            "gridcolor": "#DFE8F3",
            "linecolor": "#A2B1C6",
            "ticks": ""
           },
           "bgcolor": "white",
           "caxis": {
            "gridcolor": "#DFE8F3",
            "linecolor": "#A2B1C6",
            "ticks": ""
           }
          },
          "title": {
           "x": 0.05
          },
          "xaxis": {
           "automargin": true,
           "gridcolor": "#EBF0F8",
           "linecolor": "#EBF0F8",
           "ticks": "",
           "title": {
            "standoff": 15
           },
           "zerolinecolor": "#EBF0F8",
           "zerolinewidth": 2
          },
          "yaxis": {
           "automargin": true,
           "gridcolor": "#EBF0F8",
           "linecolor": "#EBF0F8",
           "ticks": "",
           "title": {
            "standoff": 15
           },
           "zerolinecolor": "#EBF0F8",
           "zerolinewidth": 2
          }
         }
        },
        "title": {
         "font": {
          "size": 20
         },
         "text": "Generic policy:security_practice"
        },
        "width": 1300,
        "xaxis": {
         "autorange": "reversed",
         "range": [
          0,
          0.1
         ],
         "tickfont": {
          "size": 16
         },
         "title": {
          "font": {
           "size": 18
          },
          "text": "Mean SHAP Value (Average Impact on Model Output)"
         }
        },
        "yaxis": {
         "tickfont": {
          "size": 16
         },
         "title": {
          "font": {
           "size": 19
          },
          "text": "Features"
         }
        }
       }
      }
     },
     "metadata": {},
     "output_type": "display_data"
    },
    {
     "name": "stdout",
     "output_type": "stream",
     "text": [
      "Figure saved successfully at: shap/Generic policy_security_practice_bar_right_plot.png\n"
     ]
    }
   ],
   "source": [
    "import pandas as pd\n",
    "import plotly.graph_objects as go\n",
    "\n",
    "# Compute absolute mean SHAP values for correct sorting\n",
    "df_mean = df_class_1.abs().mean(numeric_only=True).reset_index()  # Use absolute values for sorting\n",
    "df_mean.columns = ['Feature', 'Mean |SHAP Value|']\n",
    "df_mean = df_mean.sort_values(by=\"Mean |SHAP Value|\", ascending=True)  # Sort by absolute impact\n",
    "\n",
    "# Compute actual mean SHAP values for correct bar coloring\n",
    "df_signed_mean = df_class_1.mean(numeric_only=True).reset_index()\n",
    "df_signed_mean.columns = ['Feature', 'Mean SHAP Value']\n",
    "\n",
    "# Merge both to get proper ordering and sign information\n",
    "df_final = df_mean.merge(df_signed_mean, on=\"Feature\")\n",
    "\n",
    "# Assign colors: red for positive, blue for negative values\n",
    "df_final[\"Color\"] = df_final[\"Mean SHAP Value\"].apply(lambda x: \"mediumturquoise\" if x >= 0 else \"crimson\")\n",
    "\n",
    "# Creating the horizontal bar plot with correct order\n",
    "fig = go.Figure()\n",
    "\n",
    "fig.add_trace(go.Bar(\n",
    "    x=df_final[\"Mean |SHAP Value|\"],\n",
    "    y=df_final[\"Feature\"],\n",
    "    orientation='h',\n",
    "    marker=dict(color=df_final[\"Color\"]),\n",
    "    text=[f\"{v:.3f}\" for v in df_final[\"Mean |SHAP Value|\"]],  # Annotate absolute SHAP values\n",
    "    textposition=\"outside\"\n",
    "))\n",
    "\n",
    "# Updating layout to match SHAP importance plot style\n",
    "fig.update_layout(\n",
    "    title=f\"{cate}:{feature}\",\n",
    "    title_font_size=20,\n",
    "    xaxis_title=\"Mean SHAP Value (Average Impact on Model Output)\",\n",
    "    xaxis_title_font_size=18, \n",
    "    yaxis_title=\"Features\",\n",
    "    yaxis_title_font_size=19,\n",
    "    template=\"plotly_white\",\n",
    "    font=dict(size=16),  # Increase overall font size\n",
    "    xaxis=dict(\n",
    "        range=[0, 0.1],\n",
    "        tickfont=dict(size=16),  # Increase x-axis tick label font size\n",
    "        autorange=\"reversed\",\n",
    "    ),\n",
    "    yaxis=dict(\n",
    "        tickfont=dict(size=16)  # Increase y-axis tick label font size\n",
    "    ),\n",
    "    showlegend=False,  # No legend needed\n",
    "    width=1300,  # Set figure width\n",
    "    height=500,  # Set figure height\n",
    ")\n",
    "\n",
    "# Show the plot\n",
    "fig.show()\n",
    "# Ensure the \"shap\" directory exists before saving\n",
    "directory = \"shap\"\n",
    "os.makedirs(directory, exist_ok=True)  # Create folder if it doesn't exist\n",
    "\n",
    "# Define save path\n",
    "save_path = f\"{directory}/{cate}_{feature}_bar_right_plot.png\"\n",
    "\n",
    "# Save the figure as an image\n",
    "fig.write_image(save_path)\n",
    "print(f\"Figure saved successfully at: {save_path}\")"
   ]
  },
  {
   "cell_type": "markdown",
   "metadata": {},
   "source": [
    "KernelExplainer (Model-Agnostic)"
   ]
  },
  {
   "cell_type": "markdown",
   "metadata": {},
   "source": []
  },
  {
   "cell_type": "code",
   "execution_count": null,
   "metadata": {},
   "outputs": [],
   "source": [
    "# # 2. KernelExplainer (Model-Agnostic)\n",
    "# kernel_explainer = shap.KernelExplainer(model.predict, X_train)  # Use a small sample for efficiency\n",
    "# shap_values_kernel = kernel_explainer.shap_values(X_test)"
   ]
  },
  {
   "cell_type": "code",
   "execution_count": null,
   "metadata": {},
   "outputs": [],
   "source": [
    "# print(shap_values_kernel)"
   ]
  },
  {
   "cell_type": "code",
   "execution_count": null,
   "metadata": {},
   "outputs": [],
   "source": [
    "# shap.summary_plot(shap_values_kernel, X_test)"
   ]
  }
 ],
 "metadata": {
  "kernelspec": {
   "display_name": "Python 3",
   "language": "python",
   "name": "python3"
  },
  "language_info": {
   "codemirror_mode": {
    "name": "ipython",
    "version": 3
   },
   "file_extension": ".py",
   "mimetype": "text/x-python",
   "name": "python",
   "nbconvert_exporter": "python",
   "pygments_lexer": "ipython3",
   "version": "3.13.2"
  }
 },
 "nbformat": 4,
 "nbformat_minor": 2
}
