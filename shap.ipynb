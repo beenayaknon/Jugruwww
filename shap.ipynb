{
 "cells": [
  {
   "cell_type": "code",
   "execution_count": 225,
   "metadata": {},
   "outputs": [],
   "source": [
    "from sklearn.ensemble import RandomForestClassifier\n",
    "from sklearn.ensemble import AdaBoostClassifier\n",
    "from sklearn.tree import DecisionTreeClassifier\n",
    "from sklearn.model_selection import train_test_split\n",
    "from sklearn.tree import DecisionTreeClassifier\n",
    "from sklearn.linear_model import SGDClassifier\n",
    "from sklearn.model_selection import train_test_split\n",
    "import pandas as pd\n",
    "import shap\n",
    "import os\n",
    "import plotly.graph_objects as go\n",
    "from shap.plots import waterfall, beeswarm\n",
    "from shap import Explanation, KernelExplainer\n",
    "import numpy as np\n",
    "from matplotlib.colors import LinearSegmentedColormap\n",
    "import matplotlib.colors as mcolors\n",
    "from matplotlib import cm\n",
    "import matplotlib.pyplot as plt\n",
    "from sklearn.base import BaseEstimator\n",
    "from sklearn.metrics import accuracy_score, classification_report, roc_auc_score, r2_score\n",
    "# from xgboost import XGBClassifier\n",
    "from sklearn.ensemble import HistGradientBoostingClassifier\n",
    "from sklearn.neural_network import MLPClassifier\n",
    "from sklearn.svm import SVC\n",
    "from sklearn.discriminant_analysis import LinearDiscriminantAnalysis\n",
    "from sklearn.ensemble import ExtraTreesClassifier\n",
    "from sklearn.naive_bayes import BernoulliNB\n",
    "from sklearn.ensemble import AdaBoostClassifier\n",
    "from sklearn.neighbors import KNeighborsClassifier\n",
    "# from imblearn.over_sampling import SMOTE"
   ]
  },
  {
   "cell_type": "code",
   "execution_count": 226,
   "metadata": {},
   "outputs": [
    {
     "name": "stdout",
     "output_type": "stream",
     "text": [
      "AdaBoostClassifier(estimator=DecisionTreeClassifier(max_depth=2),\n",
      "                   learning_rate=0.16884660398877008, n_estimators=144,\n",
      "                   random_state=1)\n",
      "AUC - ROC Score: 0.71\n",
      "Accuracy: 0.6339869281045751\n",
      "Classification report:\n",
      "              precision    recall  f1-score   support\n",
      "\n",
      "           0       0.57      0.69      0.62        67\n",
      "           1       0.71      0.59      0.65        86\n",
      "\n",
      "    accuracy                           0.63       153\n",
      "   macro avg       0.64      0.64      0.63       153\n",
      "weighted avg       0.65      0.63      0.64       153\n",
      "\n"
     ]
    },
    {
     "name": "stderr",
     "output_type": "stream",
     "text": [
      "/Library/Frameworks/Python.framework/Versions/3.13/lib/python3.13/site-packages/sklearn/utils/validation.py:1408: DataConversionWarning:\n",
      "\n",
      "A column-vector y was passed when a 1d array was expected. Please change the shape of y to (n_samples, ), for example using ravel().\n",
      "\n"
     ]
    }
   ],
   "source": [
    "\n",
    "feature_types = {\n",
    "    \"project_feature\": [\"num_commits\", \"project_age_days\", \"num_issues\", \"num_pull\", \n",
    "                        \"num_stargazers\", \"num_watchers\", \"num_forks\", \"num_subscribers\", \n",
    "                        \"num_contributors\", \"project_size(kB)\"],\n",
    "    \"security_practice\": [\"ssf0_Binary-Artifacts\", \"ssf1_Branch-Protection\",\n",
    "                          \"ssf3_CII-Best-Practices\", \"ssf7_Dependency-Update-Tool\",\n",
    "                          \"ssf8_Fuzzing\", \"ssf9_License\", \"ssf10_Maintained\", \"ssf13_SAST\",\n",
    "                          \"ssf17_Vulnerabilities\"],\n",
    "    \"project_quality\": ['num_sonarQube_BUG_HIGH', 'num_sonarQube_BUG_MEDIUM', 'num_sonarQube_BUG_LOW', 'num_sonarQube_BUG_BLOCKER',\n",
    "            'num_sonarQube_VULNERABILITY_HIGH', 'num_sonarQube_VULNERABILITY_MEDIUM', 'num_sonarQube_VULNERABILITY_LOW',\n",
    "            'num_sonarQube_VULNERABILITY_BLOCKER', 'num_sonarQube_CODE_SMELL_HIGH', 'num_sonarQube_CODE_SMELL_MEDIUM',\n",
    "            'num_sonarQube_CODE_SMELL_LOW', 'num_sonarQube_CODE_SMELL_BLOCKER'],\n",
    "}\n",
    "\n",
    "# Define features and target\n",
    "# เปลี่ยนฟีเจ้อจรงนี้้ 👇👇👇👇\n",
    "feature = \"project_quality\"\n",
    "# เปลี่ยนcategoryจรงนี้้ 👇👇👇👇\n",
    "cate = \"User guideline\"\n",
    "# range of the plot\n",
    "model_range = [0, 0.5]\n",
    "model_range1 = [-0.5, 0.5]\n",
    "\n",
    "\n",
    "# Split the dataset into training and testing sets\n",
    "# X_train, X_test, y_train, y_test = train_test_split(X, y, test_size=0.3)\n",
    "X_train = pd.read_csv(f\"auto/{cate}_{feature}_X_train.csv\")\n",
    "X_test = pd.read_csv(f\"auto/{cate}_{feature}_X_test.csv\")\n",
    "y_train = pd.read_csv(f\"auto/{cate}_{feature}_y_train.csv\")\n",
    "y_test = pd.read_csv(f\"auto/{cate}_{feature}_y_test.csv\")\n",
    "        \n",
    "# Train the RandomForestClassifier with given parameters\n",
    "### Generic policy ###\n",
    "if feature == \"project_feature\" and cate == \"Generic policy\":\n",
    "    model = RandomForestClassifier(\n",
    "        max_features=1, min_samples_leaf=6, min_samples_split=7,\n",
    "        n_estimators=512, n_jobs=1, random_state=1, warm_start=True\n",
    "    )\n",
    "    model_type = \"tree\"\n",
    "elif feature == \"security_practice\" and cate == \"Generic policy\":\n",
    "    model = RandomForestClassifier(\n",
    "        bootstrap=False, max_features=1, min_samples_leaf=3,\n",
    "        min_samples_split=14, n_estimators=512, n_jobs=1,\n",
    "        random_state=1, warm_start=True\n",
    "    )\n",
    "    model_type = \"tree\"\n",
    "elif feature == \"project_quality\" and cate == \"Generic policy\":\n",
    "    model = AdaBoostClassifier(algorithm='SAMME',\n",
    "                   estimator=DecisionTreeClassifier(max_depth=10),\n",
    "                   learning_rate=0.010381491760996881, n_estimators=362,\n",
    "                   random_state=1)\n",
    "    model_type = \"ada\"\n",
    "### Reporting mechanism ###\n",
    "elif feature == \"project_feature\" and cate == \"Reporting mechanism\":\n",
    "    model = ExtraTreesClassifier(bootstrap=True, criterion='entropy', max_features=1,\n",
    "                     min_samples_split=7, n_estimators=512, n_jobs=1,\n",
    "                     random_state=1, warm_start=True)\n",
    "    model_type = \"tree\"\n",
    "elif feature == \"security_practice\" and cate == \"Reporting mechanism\":\n",
    "    model = HistGradientBoostingClassifier(early_stopping=True,\n",
    "                               l2_regularization=8.908183652101429e-05,\n",
    "                               learning_rate=0.19911994270380215,\n",
    "                               max_iter=512, max_leaf_nodes=955,\n",
    "                               min_samples_leaf=33, n_iter_no_change=2,\n",
    "                               random_state=1, validation_fraction=None,\n",
    "                               warm_start=True)\n",
    "    model_type = \"hist\"\n",
    "elif feature == \"project_quality\" and cate == \"Reporting mechanism\":\n",
    "    model = KNeighborsClassifier(n_neighbors=2, p=1, weights='distance') ####🥶🥶🥶🥶🥶\n",
    "    model_type = \"kernel\"\n",
    "### Scope of practice ###\n",
    "elif feature == \"project_feature\" and cate == \"Scope of practice\":\n",
    "    model = RandomForestClassifier(max_features=15, min_samples_leaf=5,\n",
    "                       min_samples_split=20, n_estimators=512, n_jobs=1,\n",
    "                       random_state=1, warm_start=True)\n",
    "    model_type = \"tree\"\n",
    "elif feature == \"security_practice\" and cate == \"Scope of practice\":\n",
    "    model = AdaBoostClassifier(estimator=DecisionTreeClassifier(max_depth=9),\n",
    "                   learning_rate=1.9701455892241493, n_estimators=101,\n",
    "                   random_state=1)\n",
    "    model_type = \"ada\"\n",
    "elif feature == \"project_quality\" and cate == \"Scope of practice\":\n",
    "    model = RandomForestClassifier(bootstrap=False, criterion='entropy', max_features=4,\n",
    "                       min_samples_leaf=7, n_estimators=512, n_jobs=1,\n",
    "                       random_state=1, warm_start=True)\n",
    "    model_type = \"tree\"\n",
    "### User guideline ###\n",
    "elif feature == \"project_feature\" and cate == \"User guideline\":\n",
    "    model = ExtraTreesClassifier(criterion='entropy', max_features=2, n_estimators=512,\n",
    "                     n_jobs=1, random_state=1, warm_start=True)\n",
    "    model_type = \"tree\"\n",
    "elif feature == \"security_practice\" and cate == \"User guideline\":\n",
    "    model = HistGradientBoostingClassifier(early_stopping=True,\n",
    "                               l2_regularization=0.1144885415414585,\n",
    "                               learning_rate=0.35651231429733377, \n",
    "                               max_iter=128, max_leaf_nodes=570,\n",
    "                               min_samples_leaf=52, n_iter_no_change=20,\n",
    "                               random_state=1,\n",
    "                               validation_fraction=0.26745137407982933,\n",
    "                               warm_start=True)\n",
    "    model_type = \"hist\"\n",
    "elif feature == \"project_quality\" and cate == \"User guideline\":\n",
    "    model = AdaBoostClassifier(estimator=DecisionTreeClassifier(max_depth=2),\n",
    "                   learning_rate=0.16884660398877008, n_estimators=144,\n",
    "                   random_state=1)\n",
    "    model_type = \"ada\"\n",
    "else:\n",
    "    raise ValueError(\"Invalid feature or category selection.\")\n",
    "\n",
    "print(model)\n",
    "\n",
    "model.fit(X_train, y_train)\n",
    "\n",
    "# AUC\n",
    "# Predict the probabilities for the test set\n",
    "y_probs = model.predict_proba(X_test)[:, 1]\n",
    "# Predict the classes for the test set\n",
    "y_pred = model.predict(X_test)\n",
    "\n",
    "# Calculate the AUC - ROC score\n",
    "roc_auc = roc_auc_score(y_test, y_probs) \n",
    "\n",
    "# Calculate other metrics\n",
    "accuracy = accuracy_score(y_test, y_pred)\n",
    "\n",
    "print(f\"AUC - ROC Score: {roc_auc:.2f}\")\n",
    "\n",
    "accuracy = accuracy_score(y_test, y_pred)\n",
    "report = classification_report(y_pred, y_test)\n",
    "print(f\"Accuracy: {accuracy}\")\n",
    "print(\"Classification report:\")\n",
    "print(report)"
   ]
  },
  {
   "cell_type": "markdown",
   "metadata": {},
   "source": [
    "how to read graph: https://www.aidancooper.co.uk/a-non-technical-guide-to-interpreting-shap-analyses/"
   ]
  },
  {
   "cell_type": "markdown",
   "metadata": {},
   "source": [
    "tree explainer: https://medium.com/analytics-vidhya/shap-part-3-tree-shap-3af9bcd7cd9b"
   ]
  },
  {
   "cell_type": "markdown",
   "metadata": {},
   "source": [
    "shap index 0 or 1: https://github.com/shap/shap/issues/1252"
   ]
  },
  {
   "cell_type": "markdown",
   "metadata": {},
   "source": [
    "readability shap: https://medium.com/towards-data-science/how-to-easily-customize-shap-plots-in-python-fdff9c0483f2"
   ]
  },
  {
   "cell_type": "markdown",
   "metadata": {},
   "source": [
    "TreeExplainer (Optimized for Trees)"
   ]
  },
  {
   "cell_type": "code",
   "execution_count": 227,
   "metadata": {},
   "outputs": [],
   "source": [
    "if model_type == \"tree\":\n",
    "    #### Tree explainer ####\n",
    "    explainer = shap.TreeExplainer(model)\n",
    "    shap_values_tree = explainer.shap_values(X_test)\n",
    "\n",
    "    print(\"Data in SHAP values:\")\n",
    "    print(shap_values_tree) # print data for check\n",
    "\n",
    "    print(\"-\"*40)\n",
    "    ##############################################################################################\n",
    "\n",
    "    #### TMean and Absolute ####\n",
    "    shap_df = pd.DataFrame(shap_values_tree[:, :, 1], columns=X_test.columns)\n",
    "\n",
    "    # Compute and print raw mean SHAP values\n",
    "    abs_mean_shap_raw = shap_df.abs().mean(0).sort_values(ascending=False)\n",
    "    print(\"Absolute Mean SHAP raw:\")\n",
    "    print(abs_mean_shap_raw)\n",
    "    # Compute and print raw mean SHAP values\n",
    "    mean_shap_raw = shap_df.mean(0).sort_values(ascending=False)\n",
    "    print(\"Mean SHAP raw:\")\n",
    "    print(mean_shap_raw)\n",
    "\n",
    "    print(\"-\"*40)\n",
    "    ##############################################################################################\n",
    "\n",
    "    #### Plot by SHAP ####\n",
    "    custom_cmap = mcolors.LinearSegmentedColormap.from_list(\"pink_skyblue\", [\"mediumturquoise\", \"crimson\"])#cmap\n",
    "    shap.summary_plot(shap_values_tree[:, :, 1], X_test, cmap=custom_cmap) # Create the SHAP summary plot\n",
    "    # shap.summary_plot(shap_values_tree[:, :, 1], X_test, plot_type=\"bar\", show=True)\n",
    "    ##############################################################################################\n",
    "\n",
    "    #### get data to plot by me ####\n",
    "    feature_names = X_test.columns.tolist() # Get feature names from X_test\n",
    "\n",
    "    num_samples, num_features, num_classes = shap_values_tree.shape  # Convert SHAP values to a 2D format\n",
    "    reshaped_values = shap_values_tree.reshape(num_samples, num_features * num_classes)\n",
    "\n",
    "    columns = [f\"{feature_names[i]}_Class_{j}\" for i in range(num_features) for j in range(num_classes)] # Create dynamic column names using real feature names\n",
    "\n",
    "    df = pd.DataFrame(reshaped_values, columns=columns)# Convert to DataFrame\n",
    "\n",
    "    # print(df.head()) # Display first few rows\n",
    "\n",
    "    # Select only columns corresponding to Class 1\n",
    "    class_1_columns = [col for col in columns if \"_Class_1\" in col]  # Filter Class 1 columns\n",
    "    df_class_1 = df[class_1_columns]  # Select only Class 1 SHAP values\n",
    "\n",
    "    df_class_1.columns = [col.replace(\"_Class_1\", \"\") for col in df_class_1.columns] # Rename columns to remove \"_Class_1\" suffix for clarity\n",
    "\n",
    "    # Display first few rows\n",
    "    print(df_class_1.head())\n",
    "    print(\"-\"*40)\n",
    "    ##############################################################################################\n",
    "\n",
    "    #### Plot by Me in bar ####\n",
    "    # Compute absolute mean SHAP values for correct sorting\n",
    "    df_mean = df_class_1.abs().mean(numeric_only=True).reset_index()  # Use absolute values for sorting\n",
    "    df_mean.columns = ['Feature', 'Mean |SHAP Value|']\n",
    "    df_mean = df_mean.sort_values(by=\"Mean |SHAP Value|\", ascending=True)  # Sort by absolute impact\n",
    "\n",
    "    # Compute actual mean SHAP values for correct bar coloring\n",
    "    df_signed_mean = df_class_1.mean(numeric_only=True).reset_index()\n",
    "    df_signed_mean.columns = ['Feature', 'Mean SHAP Value']\n",
    "\n",
    "    # Merge both to get proper ordering and sign information\n",
    "    df_final = df_mean.merge(df_signed_mean, on=\"Feature\")\n",
    "\n",
    "    # Assign colors: red for positive, blue for negative values\n",
    "    df_final[\"Color\"] = df_final[\"Mean SHAP Value\"].apply(lambda x: \"mediumturquoise\" if x >= 0 else \"crimson\")\n",
    "\n",
    "    # Creating the horizontal bar plot with correct order\n",
    "    fig = go.Figure()\n",
    "\n",
    "    fig.add_trace(go.Bar(\n",
    "        x=df_final[\"Mean |SHAP Value|\"],\n",
    "        y=df_final[\"Feature\"],\n",
    "        orientation='h',\n",
    "        marker=dict(color=df_final[\"Color\"]),\n",
    "        text=[f\"{v:.3f}\" for v in df_final[\"Mean |SHAP Value|\"]],  # Annotate absolute SHAP values\n",
    "        textposition=\"outside\"\n",
    "    ))\n",
    "\n",
    "    # Updating layout to match SHAP importance plot style\n",
    "    fig.update_layout(\n",
    "\n",
    "        title=f\"{cate}:{feature}\",\n",
    "        title_font_size=24,\n",
    "        xaxis_title=\"Mean SHAP Value (Average Impact on Model Output)\",\n",
    "        xaxis_title_font_size=20, \n",
    "        yaxis_title=\"Features\",\n",
    "        yaxis_title_font_size=21,\n",
    "        template=\"plotly_white\",\n",
    "        font=dict(size=18),  # Increase overall font size\n",
    "        xaxis=dict(\n",
    "            range=model_range,\n",
    "            tickfont=dict(size=18),  # Increase x-axis tick label font size\n",
    "            zeroline=True,  # Keep central reference line\n",
    "            zerolinecolor=\"black\",\n",
    "            zerolinewidth=2,\n",
    "        ),\n",
    "        yaxis=dict(\n",
    "            tickfont=dict(size=18)  # Increase y-axis tick label font size\n",
    "        ),\n",
    "        showlegend=False,  # No legend needed\n",
    "        width=1200,  # Set figure width\n",
    "        height=500,  # Set figure height\n",
    "    )\n",
    "\n",
    "    # Show the plot\n",
    "    fig.show()\n",
    "    # Ensure the \"shap\" directory exists before saving\n",
    "    directory = \"shap\"\n",
    "    os.makedirs(directory, exist_ok=True)  # Create folder if it doesn't exist\n",
    "\n",
    "    # Define save path\n",
    "    save_path = f\"{directory}/{cate}_{feature}_bar_left_plot.png\"\n",
    "\n",
    "    # Save the figure as an image\n",
    "    fig.write_image(save_path)\n",
    "    print(f\"Figure saved successfully at: {save_path}\")\n",
    "    ##############################################################################################\n",
    "        \n",
    "    #### Plot ####\n",
    "    # Compute absolute mean SHAP values for correct sorting\n",
    "    df_mean = df_class_1.abs().mean().reset_index()\n",
    "    df_mean.columns = ['Feature', 'Mean |SHAP Value|']\n",
    "    df_mean = df_mean.sort_values(by=\"Mean |SHAP Value|\", ascending=True)\n",
    "\n",
    "    # Display the data\n",
    "    print(df_signed_mean)\n",
    "\n",
    "    # Compute actual mean SHAP values for correct bar coloring\n",
    "    df_signed_mean = df_class_1.mean(numeric_only=True).reset_index()\n",
    "    df_signed_mean.columns = ['Feature', 'Mean SHAP Value']\n",
    "\n",
    "    # Merge both to get proper ordering and sign information\n",
    "    df_final = df_mean.merge(df_signed_mean, on=\"Feature\")\n",
    "\n",
    "    # Assign colors: red for positive, blue for negative values\n",
    "    df_final[\"Color\"] = df_final[\"Mean SHAP Value\"].apply(lambda x: \"mediumturquoise\" if x >= 0 else \"crimson\")\n",
    "\n",
    "    # Adjust x values: move positive SHAP values to the negative x-axis\n",
    "    df_final[\"Adjusted SHAP Value\"] = df_final.apply(\n",
    "        lambda row: -row[\"Mean |SHAP Value|\"] if row[\"Mean SHAP Value\"] <= 0 else row[\"Mean |SHAP Value|\"], axis=1\n",
    "    )\n",
    "\n",
    "    # Determine max range for better spacing\n",
    "    max_x = max(df_final[\"Mean |SHAP Value|\"]) * 1.2  # Extend the range by 20% for better spacing\n",
    "\n",
    "    # Creating the horizontal bar plot with correct order\n",
    "    fig = go.Figure()\n",
    "    fig.add_trace(go.Bar(\n",
    "        x=df_final[\"Adjusted SHAP Value\"],\n",
    "        y=df_final[\"Feature\"],\n",
    "        orientation='h',\n",
    "        marker=dict(color=df_final[\"Color\"]),\n",
    "        text=[f\"{v:.3f}\" for v in df_final[\"Mean |SHAP Value|\"]],  # Annotate absolute SHAP values\n",
    "        textposition=\"outside\",  # Move text outside to avoid overlap\n",
    "        textfont=dict(size=16),  # Increase font size for visibility\n",
    "    ))\n",
    "\n",
    "    # Updating layout to match SHAP importance plot style\n",
    "    fig.update_layout(\n",
    "        title=f\"{cate}:{feature}\",\n",
    "        title_font_size=24,\n",
    "        xaxis_title=\"Mean SHAP Value (Average Impact on Model Output)\",\n",
    "        xaxis_title_font_size=20,\n",
    "        yaxis_title=\"Features\",\n",
    "        yaxis_title_font_size=21,\n",
    "        template=\"plotly_white\",\n",
    "        font=dict(size=18),\n",
    "        xaxis=dict(\n",
    "            range=model_range1,  # Extend range to avoid label cutting\n",
    "            tickfont=dict(size=18),\n",
    "            zeroline=True,  # Keep central reference line\n",
    "            zerolinecolor=\"black\",\n",
    "            zerolinewidth=2,\n",
    "        ),\n",
    "        yaxis=dict(\n",
    "            tickfont=dict(size=18),\n",
    "            automargin=True  # Automatically adjust margins\n",
    "        ),\n",
    "        showlegend=False,\n",
    "        width=1400,  # Increase width to fit labels better\n",
    "        height=600,  # Increase height for better spacing\n",
    "        margin=dict(l=200, r=50, t=50, b=50),  # Extend left margin for long feature names\n",
    "    )\n",
    "\n",
    "    # Show the plot\n",
    "    fig.show()\n",
    "    # Ensure the \"shap\" directory exists before saving\n",
    "    directory = \"shap\"\n",
    "    os.makedirs(directory, exist_ok=True)  # Create folder if it doesn't exist\n",
    "\n",
    "    # Define save path\n",
    "    save_path = f\"{directory}/{cate}_{feature}_diverging_plot.png\"\n",
    "\n",
    "    # Save the figure as an image\n",
    "    fig.write_image(save_path)\n",
    "    print(f\"Figure saved successfully at: {save_path}\")\n",
    "  "
   ]
  },
  {
   "cell_type": "markdown",
   "metadata": {},
   "source": [
    "Tree: HistGradientBoost"
   ]
  },
  {
   "cell_type": "code",
   "execution_count": 228,
   "metadata": {},
   "outputs": [],
   "source": [
    "if model_type == \"hist\":\n",
    "    #### Tree explainer ####\n",
    "    explainer = shap.TreeExplainer(model)\n",
    "    shap_values_tree = explainer.shap_values(X_test)\n",
    "\n",
    "\n",
    "    # Check if SHAP values are a list (Binary classification case)\n",
    "    if isinstance(shap_values_tree, list):  \n",
    "        shap_values_tree = shap_values_tree[1]  # Use Class 1 SHAP values\n",
    "\n",
    "    # Ensure it's a NumPy array\n",
    "    shap_values_tree = np.array(shap_values_tree)\n",
    "\n",
    "    print(\"SHAP values shape:\", shap_values_tree.shape)  # Debugging\n",
    "\n",
    "    print(\"Data in SHAP values:\")\n",
    "    print(shap_values_tree)  # Print data for check\n",
    "\n",
    "    print(\"-\" * 40)\n",
    "    ##############################################################################################\n",
    "\n",
    "    #### Mean and Absolute Mean SHAP values ####\n",
    "    shap_df = pd.DataFrame(shap_values_tree, columns=X_test.columns)\n",
    "\n",
    "    # Compute absolute mean SHAP values\n",
    "    abs_mean_shap_raw = shap_df.abs().mean(0).sort_values(ascending=False)\n",
    "    print(\"Absolute Mean SHAP raw:\")\n",
    "    print(abs_mean_shap_raw)\n",
    "\n",
    "    # Compute actual mean SHAP values\n",
    "    mean_shap_raw = shap_df.mean(0).sort_values(ascending=False)\n",
    "    print(\"Mean SHAP raw:\")\n",
    "    print(mean_shap_raw)\n",
    "\n",
    "    print(\"-\" * 40)\n",
    "    ##############################################################################################\n",
    "\n",
    "    #### Plot by SHAP ####\n",
    "    custom_cmap = mcolors.LinearSegmentedColormap.from_list(\"pink_skyblue\", [\"mediumturquoise\", \"crimson\"])#cmap\n",
    "    shap.summary_plot(shap_values_tree, X_test, cmap=custom_cmap) # Create the SHAP summary plot\n",
    "\n",
    "    ##############################################################################################\n",
    "\n",
    "    #### Prepare Data for Custom Plot ####\n",
    "    feature_names = X_test.columns.tolist()  # Get feature names from X_test\n",
    "\n",
    "    # Convert SHAP values to DataFrame\n",
    "    df_class_1 = pd.DataFrame(shap_values_tree, columns=feature_names)\n",
    "\n",
    "    # Display first few rows\n",
    "    print(df_class_1.head())\n",
    "    print(\"-\" * 40)\n",
    "    ##############################################################################################\n",
    "\n",
    "    #### Plot by Me ####\n",
    "    # Compute absolute mean SHAP values for correct sorting\n",
    "    df_mean = df_class_1.abs().mean().reset_index()\n",
    "    df_mean.columns = ['Feature', 'Mean |SHAP Value|']\n",
    "    df_mean = df_mean.sort_values(by=\"Mean |SHAP Value|\", ascending=True)  # Sort by absolute impact\n",
    "\n",
    "    # Compute actual mean SHAP values for correct bar coloring\n",
    "    df_signed_mean = df_class_1.mean(numeric_only=True).reset_index()\n",
    "    df_signed_mean.columns = ['Feature', 'Mean SHAP Value']\n",
    "\n",
    "    # Merge both to get proper ordering and sign information\n",
    "    df_final = df_mean.merge(df_signed_mean, on=\"Feature\")\n",
    "\n",
    "    # Assign colors: red for positive, blue for negative values\n",
    "    df_final[\"Color\"] = df_final[\"Mean SHAP Value\"].apply(lambda x: \"mediumturquoise\" if x >= 0 else \"crimson\")\n",
    "\n",
    "    # Creating the horizontal bar plot with correct order\n",
    "    fig = go.Figure()\n",
    "\n",
    "    fig.add_trace(go.Bar(\n",
    "        x=df_final[\"Mean |SHAP Value|\"],\n",
    "        y=df_final[\"Feature\"],\n",
    "        orientation='h',\n",
    "        marker=dict(color=df_final[\"Color\"]),\n",
    "        text=[f\"{v:.3f}\" for v in df_final[\"Mean |SHAP Value|\"]],  # Annotate absolute SHAP values\n",
    "        textposition=\"outside\"\n",
    "    ))\n",
    "\n",
    "    # Updating layout to match SHAP importance plot style\n",
    "    fig.update_layout(\n",
    "\n",
    "        title=f\"{cate}:{feature}\",\n",
    "        title_font_size=24,\n",
    "        xaxis_title=\"Mean SHAP Value (Average Impact on Model Output)\",\n",
    "        xaxis_title_font_size=20, \n",
    "        yaxis_title=\"Features\",\n",
    "        yaxis_title_font_size=21,\n",
    "        template=\"plotly_white\",\n",
    "        font=dict(size=18),  # Increase overall font size\n",
    "        xaxis=dict(\n",
    "            range=model_range,\n",
    "            tickfont=dict(size=18),  # Increase x-axis tick label font size\n",
    "            zeroline=True,  # Keep central reference line\n",
    "            zerolinecolor=\"black\",\n",
    "            zerolinewidth=2,\n",
    "        ),\n",
    "        yaxis=dict(\n",
    "            tickfont=dict(size=18)  # Increase y-axis tick label font size\n",
    "        ),\n",
    "        showlegend=False,  # No legend needed\n",
    "        width=1200,  # Set figure width\n",
    "        height=500,  # Set figure height\n",
    "    )\n",
    "\n",
    "    # Show the plot\n",
    "    fig.show()\n",
    "    # Ensure the \"shap\" directory exists before saving\n",
    "    directory = \"shap\"\n",
    "    os.makedirs(directory, exist_ok=True)  # Create folder if it doesn't exist\n",
    "\n",
    "    # Define save path\n",
    "    save_path = f\"{directory}/{cate}_{feature}_bar_left_plot.png\"\n",
    "\n",
    "    # Save the figure as an image\n",
    "    fig.write_image(save_path)\n",
    "    print(f\"Figure saved successfully at: {save_path}\")\n",
    "    ##############################################################################################\n",
    "        \n",
    "    #### Plot ####\n",
    "    # Compute absolute mean SHAP values for correct sorting\n",
    "    df_mean = df_class_1.abs().mean().reset_index()\n",
    "    df_mean.columns = ['Feature', 'Mean |SHAP Value|']\n",
    "    df_mean = df_mean.sort_values(by=\"Mean |SHAP Value|\", ascending=True)\n",
    "\n",
    "    # Compute actual mean SHAP values for correct bar coloring\n",
    "    df_signed_mean = df_class_1.mean(numeric_only=True).reset_index()\n",
    "    df_signed_mean.columns = ['Feature', 'Mean SHAP Value']\n",
    "\n",
    "    # Merge both to get proper ordering and sign information\n",
    "    df_final = df_mean.merge(df_signed_mean, on=\"Feature\")\n",
    "\n",
    "    # Assign colors: red for positive, blue for negative values\n",
    "    df_final[\"Color\"] = df_final[\"Mean SHAP Value\"].apply(lambda x: \"mediumturquoise\" if x >= 0 else \"crimson\")\n",
    "\n",
    "    # Adjust x values: move positive SHAP values to the negative x-axis\n",
    "    df_final[\"Adjusted SHAP Value\"] = df_final.apply(\n",
    "        lambda row: -row[\"Mean |SHAP Value|\"] if row[\"Mean SHAP Value\"] <= 0 else row[\"Mean |SHAP Value|\"], axis=1\n",
    "    )\n",
    "\n",
    "    # Determine max range for better spacing\n",
    "    max_x = max(df_final[\"Mean |SHAP Value|\"]) * 1.2  # Extend the range by 20% for better spacing\n",
    "\n",
    "    # Creating the horizontal bar plot with correct order\n",
    "    fig = go.Figure()\n",
    "    fig.add_trace(go.Bar(\n",
    "        x=df_final[\"Adjusted SHAP Value\"],\n",
    "        y=df_final[\"Feature\"],\n",
    "        orientation='h',\n",
    "        marker=dict(color=df_final[\"Color\"]),\n",
    "        text=[f\"{v:.3f}\" for v in df_final[\"Mean |SHAP Value|\"]],  # Annotate absolute SHAP values\n",
    "        textposition=\"outside\",  # Move text outside to avoid overlap\n",
    "        textfont=dict(size=16),  # Increase font size for visibility\n",
    "    ))\n",
    "\n",
    "    # Updating layout to match SHAP importance plot style\n",
    "    fig.update_layout(\n",
    "        title=f\"{cate}:{feature}\",\n",
    "        title_font_size=24,\n",
    "        xaxis_title=\"Mean SHAP Value (Average Impact on Model Output)\",\n",
    "        xaxis_title_font_size=20,\n",
    "        yaxis_title=\"Features\",\n",
    "        yaxis_title_font_size=21,\n",
    "        template=\"plotly_white\",\n",
    "        font=dict(size=18),\n",
    "        xaxis=dict(\n",
    "            range=model_range1,  # Extend range to avoid label cutting\n",
    "            tickfont=dict(size=18),\n",
    "            zeroline=True,  # Keep central reference line\n",
    "            zerolinecolor=\"black\",\n",
    "            zerolinewidth=2,\n",
    "        ),\n",
    "        yaxis=dict(\n",
    "            tickfont=dict(size=18),\n",
    "            automargin=True  # Automatically adjust margins\n",
    "        ),\n",
    "        showlegend=False,\n",
    "        width=1400,  # Increase width to fit labels better\n",
    "        height=600,  # Increase height for better spacing\n",
    "        margin=dict(l=200, r=50, t=50, b=50),  # Extend left margin for long feature names\n",
    "    )\n",
    "\n",
    "    # Show the plot\n",
    "    fig.show()\n",
    "    # Ensure the \"shap\" directory exists before saving\n",
    "    directory = \"shap\"\n",
    "    os.makedirs(directory, exist_ok=True)  # Create folder if it doesn't exist\n",
    "\n",
    "    # Define save path\n",
    "    save_path = f\"{directory}/{cate}_{feature}_diverging_plot.png\"\n",
    "\n",
    "    # Save the figure as an image\n",
    "    fig.write_image(save_path)\n",
    "    print(f\"Figure saved successfully at: {save_path}\")"
   ]
  },
  {
   "cell_type": "markdown",
   "metadata": {},
   "source": [
    "KernelExplainer (Model-Agnostic)"
   ]
  },
  {
   "cell_type": "code",
   "execution_count": 229,
   "metadata": {},
   "outputs": [],
   "source": [
    "# # 2. KernelExplainer (Model-Agnostic)\n",
    "# kernel_explainer = shap.KernelExplainer(model.predict, X_train)  # Use a small sample for efficiency\n",
    "# shap_values_kernel = kernel_explainer.shap_values(X_test)"
   ]
  },
  {
   "cell_type": "code",
   "execution_count": 230,
   "metadata": {},
   "outputs": [],
   "source": [
    "# print(shap_values_kernel)"
   ]
  },
  {
   "cell_type": "code",
   "execution_count": 231,
   "metadata": {},
   "outputs": [],
   "source": [
    "# shap.summary_plot(shap_values_kernel, X_test)"
   ]
  },
  {
   "cell_type": "code",
   "execution_count": 232,
   "metadata": {},
   "outputs": [
    {
     "name": "stderr",
     "output_type": "stream",
     "text": [
      "100%|██████████| 153/153 [00:01<00:00, 80.52it/s]"
     ]
    },
    {
     "name": "stdout",
     "output_type": "stream",
     "text": [
      "SHAP values shape: (153, 5)\n",
      "Data in SHAP values:\n",
      "[[ 2.57333333e-01  8.23333333e-02  7.73333333e-02 -2.93333333e-02\n",
      "   7.23333333e-02]\n",
      " [ 2.63000000e-01 -3.70000000e-02  1.93000000e-01  6.80000000e-02\n",
      "  -2.70000000e-02]\n",
      " [-2.45000000e-01 -1.08333333e-01 -7.83333333e-02 -5.33333333e-02\n",
      "  -5.50000000e-02]\n",
      " [ 2.63333333e-01  5.00000000e-03  2.11666667e-01 -3.16666667e-02\n",
      "   1.16666667e-02]\n",
      " [ 9.10000000e-02 -2.39000000e-01 -2.25666667e-01 -9.73333333e-02\n",
      "  -6.90000000e-02]\n",
      " [ 2.63333333e-01  5.00000000e-03  2.11666667e-01 -3.16666667e-02\n",
      "   1.16666667e-02]\n",
      " [ 4.08666667e-01 -2.96666667e-02 -5.80000000e-02  1.97000000e-01\n",
      "  -5.80000000e-02]\n",
      " [ 2.54333333e-01 -4.00000000e-03  2.02666667e-01 -6.73333333e-02\n",
      "   7.43333333e-02]\n",
      " [ 7.56666667e-02 -2.36000000e-01 -2.22666667e-01 -1.16000000e-01\n",
      "  -4.10000000e-02]\n",
      " [ 3.44333333e-01 -6.73333333e-02  2.66666667e-03  2.47666667e-01\n",
      "  -6.73333333e-02]\n",
      " [ 9.40000000e-02 -2.93333333e-02 -3.71000000e-01 -1.44333333e-01\n",
      "  -8.93333333e-02]\n",
      " [ 2.48666667e-01  1.78666667e-01 -2.30000000e-02 -3.13333333e-02\n",
      "   8.70000000e-02]\n",
      " [ 1.72000000e-01  7.70000000e-02  5.86666667e-02  4.03333333e-02\n",
      "   1.12000000e-01]\n",
      " [-1.91000000e-01  4.06666667e-02  4.90000000e-02  4.67333333e-01\n",
      "   9.40000000e-02]\n",
      " [-3.59666667e-01  2.53333333e-02  6.70000000e-02 -7.63333333e-02\n",
      "  -1.96333333e-01]\n",
      " [-3.87666667e-01 -2.66666667e-03  5.90000000e-02 -6.26666667e-02\n",
      "  -1.46000000e-01]\n",
      " [ 2.82000000e-01  8.36666667e-02  1.02000000e-01 -3.00000000e-03\n",
      "  -4.66666667e-03]\n",
      " [-1.73333333e-01  3.66666667e-02  2.21666667e-01  4.95000000e-01\n",
      "  -1.20000000e-01]\n",
      " [-3.04000000e-01 -7.73333333e-02 -5.73333333e-02 -8.23333333e-02\n",
      "  -1.90000000e-02]\n",
      " [ 2.48666667e-01  1.78666667e-01 -2.30000000e-02 -3.13333333e-02\n",
      "   8.70000000e-02]\n",
      " [-2.99666667e-01 -3.18000000e-01 -1.66333333e-01  3.25333333e-01\n",
      "  -8.13333333e-02]\n",
      " [ 2.16333333e-01  5.63333333e-02  4.80000000e-02 -3.62000000e-01\n",
      "   5.01333333e-01]\n",
      " [-3.07666667e-01 -4.10000000e-02 -1.97666667e-01  3.07333333e-01\n",
      "  -3.01000000e-01]\n",
      " [ 1.08666667e-01  2.36666667e-02  3.20000000e-02 -6.89666667e-01\n",
      "  -1.46666667e-02]\n",
      " [ 2.63000000e-01 -4.20000000e-02  2.08000000e-01 -2.53333333e-02\n",
      "   5.63333333e-02]\n",
      " [-3.08333333e-01 -8.83333333e-02 -6.00000000e-02 -1.50000000e-02\n",
      "  -6.83333333e-02]\n",
      " [-2.62333333e-01 -3.90000000e-02 -8.56666667e-02 -1.02333333e-01\n",
      "  -5.06666667e-02]\n",
      " [-1.78000000e-01  1.75333333e-01  5.03333333e-02  5.35333333e-01\n",
      "  -1.23000000e-01]\n",
      " [ 1.72000000e-01  7.70000000e-02  5.86666667e-02  4.03333333e-02\n",
      "   1.12000000e-01]\n",
      " [ 2.48666667e-01  1.78666667e-01 -2.30000000e-02 -3.13333333e-02\n",
      "   8.70000000e-02]\n",
      " [-3.88666667e-01 -1.36666667e-02  6.30000000e-02 -5.86666667e-02\n",
      "  -1.42000000e-01]\n",
      " [-1.58000000e-01  1.70000000e-02 -6.80000000e-02  5.62000000e-01\n",
      "   1.07000000e-01]\n",
      " [ 1.08666667e-01 -1.06333333e-01  1.07000000e-01  4.67000000e-01\n",
      "  -1.16333333e-01]\n",
      " [-3.27333333e-01 -5.06666667e-02 -1.80666667e-01  2.87666667e-01\n",
      "  -2.69000000e-01]\n",
      " [ 2.84000000e-01 -1.26666667e-02  9.06666667e-02 -7.66666667e-03\n",
      "   1.05666667e-01]\n",
      " [ 2.56000000e-01  8.43333333e-02  7.60000000e-02 -3.06666667e-02\n",
      "   7.43333333e-02]\n",
      " [ 2.48666667e-01  1.78666667e-01 -2.30000000e-02 -3.13333333e-02\n",
      "   8.70000000e-02]\n",
      " [ 2.72666667e-01  8.76666667e-02 -9.00000000e-03 -1.23333333e-02\n",
      "   1.21000000e-01]\n",
      " [ 1.04333333e-01  2.26666667e-02  2.76666667e-02 -2.79000000e-01\n",
      "   5.84333333e-01]\n",
      " [ 1.06333333e-01  5.13333333e-02 -3.36666667e-02  3.36333333e-01\n",
      "  -3.33333333e-04]\n",
      " [ 9.40000000e-02 -2.93333333e-02 -3.71000000e-01 -1.44333333e-01\n",
      "  -8.93333333e-02]\n",
      " [-2.14666667e-01 -3.29666667e-01 -6.30000000e-02  1.58666667e-01\n",
      "  -9.13333333e-02]\n",
      " [ 1.05333333e-01  2.20000000e-02 -2.46666667e-02 -6.96333333e-01\n",
      "   5.36666667e-02]\n",
      " [-4.56000000e-01  2.06666667e-02  2.56666667e-02 -1.24333333e-01\n",
      "  -6.00000000e-03]\n",
      " [ 2.48666667e-01  1.78666667e-01 -2.30000000e-02 -3.13333333e-02\n",
      "   8.70000000e-02]\n",
      " [ 1.08666667e-01 -1.06333333e-01  1.07000000e-01  4.67000000e-01\n",
      "  -1.16333333e-01]\n",
      " [ 2.67666667e-01  4.33333333e-03  1.92666667e-01 -5.66666667e-03\n",
      "   1.00000000e-03]\n",
      " [ 2.80666667e-01  8.56666667e-02  1.00666667e-01 -4.33333333e-03\n",
      "  -2.66666667e-03]\n",
      " [ 2.48666667e-01  1.78666667e-01 -2.30000000e-02 -3.13333333e-02\n",
      "   8.70000000e-02]\n",
      " [-2.15333333e-01 -9.20000000e-02 -8.36666667e-02 -6.53333333e-02\n",
      "  -8.36666667e-02]\n",
      " [-2.00333333e-01 -3.18666667e-01 -6.70000000e-02  1.73000000e-01\n",
      "  -1.27000000e-01]\n",
      " [-4.47333333e-01  1.10000000e-02 -4.06666667e-02 -5.66666667e-03\n",
      "  -5.73333333e-02]\n",
      " [-2.17000000e-01 -1.20333333e-01 -9.53333333e-02 -5.36666667e-02\n",
      "  -5.36666667e-02]\n",
      " [ 9.63333333e-02  1.80000000e-02  2.80000000e-02 -7.30333333e-01\n",
      "   4.80000000e-02]\n",
      " [-1.19666667e-01 -4.03000000e-01  4.53333333e-02 -1.39666667e-01\n",
      "   7.70000000e-02]\n",
      " [ 1.22000000e-01  5.03333333e-02 -6.63333333e-02  4.62000000e-01\n",
      "  -1.08000000e-01]\n",
      " [ 7.90000000e-02 -1.06000000e-01 -3.84333333e-01 -1.22666667e-01\n",
      "  -6.00000000e-03]\n",
      " [-2.42333333e-01 -1.37333333e-01 -7.90000000e-02 -5.90000000e-02\n",
      "  -2.23333333e-02]\n",
      " [-1.89333333e-01 -1.46000000e-01 -5.60000000e-02 -4.10000000e-02\n",
      "  -1.07666667e-01]\n",
      " [ 1.08666667e-01  2.36666667e-02  3.20000000e-02 -6.89666667e-01\n",
      "  -1.46666667e-02]\n",
      " [ 2.48666667e-01  1.78666667e-01 -2.30000000e-02 -3.13333333e-02\n",
      "   8.70000000e-02]\n",
      " [-2.16000000e-01 -1.09333333e-01 -9.93333333e-02 -5.76666667e-02\n",
      "  -5.76666667e-02]\n",
      " [ 2.48666667e-01  1.78666667e-01 -2.30000000e-02 -3.13333333e-02\n",
      "   8.70000000e-02]\n",
      " [-1.79333333e-01  3.06666667e-02  2.15666667e-01  4.89000000e-01\n",
      "  -9.60000000e-02]\n",
      " [ 2.57333333e-01  8.23333333e-02  7.73333333e-02 -2.93333333e-02\n",
      "   7.23333333e-02]\n",
      " [ 2.82000000e-01  8.36666667e-02  1.02000000e-01 -3.00000000e-03\n",
      "  -4.66666667e-03]\n",
      " [-2.77333333e-01 -3.06666667e-02 -5.66666667e-03 -6.73333333e-02\n",
      "  -1.59000000e-01]\n",
      " [ 1.08666667e-01 -1.06333333e-01  1.07000000e-01  4.67000000e-01\n",
      "  -1.16333333e-01]\n",
      " [ 2.16333333e-01  5.63333333e-02  4.80000000e-02 -3.62000000e-01\n",
      "   5.01333333e-01]\n",
      " [ 3.44333333e-01 -6.73333333e-02  2.66666667e-03  2.47666667e-01\n",
      "  -6.73333333e-02]\n",
      " [ 6.73333333e-02 -8.26666667e-02 -3.12666667e-01 -1.31000000e-01\n",
      "  -8.10000000e-02]\n",
      " [ 2.56000000e-01  8.43333333e-02  7.60000000e-02 -3.06666667e-02\n",
      "   7.43333333e-02]\n",
      " [-1.79333333e-01  3.06666667e-02  2.15666667e-01  4.89000000e-01\n",
      "  -9.60000000e-02]\n",
      " [-3.12333333e-01 -1.40000000e-02 -2.45666667e-01  3.06000000e-01\n",
      "  -2.74000000e-01]\n",
      " [ 3.44333333e-01 -6.73333333e-02  2.66666667e-03  2.47666667e-01\n",
      "  -6.73333333e-02]\n",
      " [-2.15333333e-01 -1.88666667e-01  2.13333333e-02 -4.36666667e-02\n",
      "  -1.13666667e-01]\n",
      " [-3.87666667e-01 -2.66666667e-03  5.90000000e-02 -6.26666667e-02\n",
      "  -1.46000000e-01]\n",
      " [ 1.06000000e-01  2.43333333e-02  2.93333333e-02  1.96000000e-01\n",
      "   1.04333333e-01]\n",
      " [-2.15333333e-01 -1.88666667e-01  2.13333333e-02 -4.36666667e-02\n",
      "  -1.13666667e-01]\n",
      " [-4.25666667e-01  2.43333333e-02 -7.23333333e-02 -5.06666667e-02\n",
      "  -1.56666667e-02]\n",
      " [-1.90666667e-01 -5.24000000e-01  4.43333333e-02  2.19333333e-01\n",
      "  -8.90000000e-02]\n",
      " [-1.79333333e-01  3.06666667e-02  2.15666667e-01  4.89000000e-01\n",
      "  -9.60000000e-02]\n",
      " [-2.03333333e-01 -3.21666667e-01 -8.66666667e-02  1.70000000e-01\n",
      "  -9.83333333e-02]\n",
      " [-1.83666667e-01  3.13333333e-02 -1.30333333e-01 -1.27000000e-01\n",
      "  -1.30333333e-01]\n",
      " [-3.12333333e-01 -1.40000000e-02 -2.45666667e-01  3.06000000e-01\n",
      "  -2.74000000e-01]\n",
      " [-2.41000000e-01 -2.32666667e-01 -2.43333333e-02 -4.76666667e-02\n",
      "   5.66666667e-03]\n",
      " [ 2.56000000e-01  8.43333333e-02  7.60000000e-02 -3.06666667e-02\n",
      "   7.43333333e-02]\n",
      " [-2.71000000e-01 -3.17666667e-01  1.90000000e-02  2.75666667e-01\n",
      "  -2.46000000e-01]\n",
      " [ 1.04333333e-01  2.26666667e-02  2.76666667e-02 -2.79000000e-01\n",
      "   5.84333333e-01]\n",
      " [ 2.48666667e-01  1.78666667e-01 -2.30000000e-02 -3.13333333e-02\n",
      "   8.70000000e-02]\n",
      " [-2.45333333e-01 -2.03333333e-02 -1.13666667e-01 -4.36666667e-02\n",
      "  -1.17000000e-01]\n",
      " [ 2.56000000e-01  8.43333333e-02  7.60000000e-02 -3.06666667e-02\n",
      "   7.43333333e-02]\n",
      " [ 1.06000000e-01  2.43333333e-02  2.93333333e-02  2.36000000e-01\n",
      "   6.43333333e-02]\n",
      " [ 2.57333333e-01  8.23333333e-02  7.73333333e-02 -2.93333333e-02\n",
      "   7.23333333e-02]\n",
      " [ 2.56000000e-01  8.43333333e-02  7.60000000e-02 -3.06666667e-02\n",
      "   7.43333333e-02]\n",
      " [-3.87666667e-01 -2.66666667e-03  5.90000000e-02 -6.26666667e-02\n",
      "  -1.46000000e-01]\n",
      " [ 2.31333333e-01  1.83000000e-01  4.66666667e-03  2.80000000e-02\n",
      "   1.30000000e-02]\n",
      " [-1.86000000e-01  1.72333333e-01  4.23333333e-02  5.27333333e-01\n",
      "  -9.60000000e-02]\n",
      " [-2.14666667e-01 -3.29666667e-01 -6.30000000e-02  1.58666667e-01\n",
      "  -9.13333333e-02]\n",
      " [ 8.26666667e-02 -8.90000000e-02 -3.15666667e-01 -1.15666667e-01\n",
      "  -1.02333333e-01]\n",
      " [ 2.57333333e-01  8.23333333e-02  7.73333333e-02 -2.93333333e-02\n",
      "   7.23333333e-02]\n",
      " [-2.20333333e-01 -1.60333333e-01 -9.86666667e-02  9.66666667e-03\n",
      "  -7.03333333e-02]\n",
      " [ 2.63666667e-01  7.53333333e-02  6.20000000e-02 -6.33333333e-03\n",
      "   6.53333333e-02]\n",
      " [-4.43666667e-01 -6.86666667e-02  4.46666667e-02 -1.28666667e-01\n",
      "   5.63333333e-02]\n",
      " [ 1.72000000e-01  7.70000000e-02  5.86666667e-02  4.03333333e-02\n",
      "   1.12000000e-01]\n",
      " [ 6.13333333e-02 -9.53333333e-02 -1.60333333e-01 -1.47000000e-01\n",
      "  -1.98666667e-01]\n",
      " [-1.74666667e-01 -2.53000000e-01 -7.63333333e-02 -7.96666667e-02\n",
      "   4.36666667e-02]\n",
      " [ 1.20333333e-01  3.53333333e-02  3.36666667e-02  2.75333333e-01\n",
      "  -4.66666667e-03]\n",
      " [-3.56666667e-02  1.59333333e-01  1.87666667e-01 -8.40000000e-02\n",
      "   2.32666667e-01]\n",
      " [ 8.06666667e-02  1.73333333e-02  2.73333333e-02 -7.34333333e-01\n",
      "   6.90000000e-02]\n",
      " [ 2.48666667e-01  1.78666667e-01 -2.30000000e-02 -3.13333333e-02\n",
      "   8.70000000e-02]\n",
      " [ 1.04333333e-01  2.26666667e-02  2.76666667e-02 -2.79000000e-01\n",
      "   5.84333333e-01]\n",
      " [ 1.72000000e-01  7.70000000e-02  5.86666667e-02  4.03333333e-02\n",
      "   1.12000000e-01]\n",
      " [-1.73000000e-01 -2.86333333e-01 -6.13333333e-02 -7.80000000e-02\n",
      "   5.86666667e-02]\n",
      " [ 2.48666667e-01  1.78666667e-01 -2.30000000e-02 -3.13333333e-02\n",
      "   8.70000000e-02]\n",
      " [ 3.44333333e-01 -6.73333333e-02  2.66666667e-03  2.47666667e-01\n",
      "  -6.73333333e-02]\n",
      " [ 1.84000000e-01  7.23333333e-02  5.56666667e-02  3.56666667e-02\n",
      "   1.12333333e-01]\n",
      " [-4.41666667e-01 -2.33333333e-02  5.50000000e-02 -1.98333333e-01\n",
      "   6.83333333e-02]\n",
      " [-2.07333333e-01 -1.05666667e-01 -1.24000000e-01 -6.73333333e-02\n",
      "  -3.56666667e-02]\n",
      " [ 2.80666667e-01  8.56666667e-02  1.00666667e-01 -4.33333333e-03\n",
      "  -2.66666667e-03]\n",
      " [-1.96666667e-01 -3.16666667e-01 -8.00000000e-02  1.76666667e-01\n",
      "  -1.23333333e-01]\n",
      " [-2.05000000e-01 -4.50000000e-02 -1.18333333e-01 -4.83333333e-02\n",
      "  -1.23333333e-01]\n",
      " [ 2.81666667e-01  2.16666667e-02  9.83333333e-02 -7.66666667e-02\n",
      "   1.35000000e-01]\n",
      " [ 2.16333333e-01  5.63333333e-02  4.80000000e-02 -3.62000000e-01\n",
      "   5.01333333e-01]\n",
      " [ 2.16333333e-01  5.63333333e-02  4.80000000e-02 -3.62000000e-01\n",
      "   5.01333333e-01]\n",
      " [ 1.08666667e-01 -1.06333333e-01  1.07000000e-01  4.67000000e-01\n",
      "  -1.16333333e-01]\n",
      " [ 2.54333333e-01 -4.00000000e-03  2.02666667e-01 -6.73333333e-02\n",
      "   7.43333333e-02]\n",
      " [-1.50333333e-01 -1.58666667e-01 -8.36666667e-02 -6.36666667e-02\n",
      "  -8.36666667e-02]\n",
      " [-3.08333333e-01 -8.83333333e-02 -6.00000000e-02 -1.50000000e-02\n",
      "  -6.83333333e-02]\n",
      " [-4.53333333e-01  2.16666667e-02 -1.83333333e-02 -1.06666667e-01\n",
      "   1.66666667e-02]\n",
      " [ 2.16333333e-01  5.63333333e-02  4.80000000e-02 -3.62000000e-01\n",
      "   5.01333333e-01]\n",
      " [-1.68333333e-01 -5.31666667e-01 -8.33333333e-02  2.31666667e-01\n",
      "   1.16666667e-02]\n",
      " [-1.58000000e-01  1.70000000e-02 -6.80000000e-02  5.62000000e-01\n",
      "   1.07000000e-01]\n",
      " [ 2.40666667e-01 -2.60000000e-02 -8.93333333e-02  1.07333333e-01\n",
      "   2.27333333e-01]\n",
      " [ 4.28333333e-01 -2.00000000e-02 -7.50000000e-02  2.16666667e-01\n",
      "  -9.00000000e-02]\n",
      " [ 1.04333333e-01  2.26666667e-02  2.76666667e-02 -2.79000000e-01\n",
      "   5.84333333e-01]\n",
      " [-4.57666667e-01  2.06666667e-02  2.40000000e-02 -1.26000000e-01\n",
      "  -1.00000000e-03]\n",
      " [ 9.63333333e-02  1.80000000e-02  2.80000000e-02 -7.30333333e-01\n",
      "   4.80000000e-02]\n",
      " [ 2.63333333e-01  5.00000000e-03  2.11666667e-01 -3.16666667e-02\n",
      "   1.16666667e-02]\n",
      " [-1.86000000e-01  1.72333333e-01  4.23333333e-02  5.27333333e-01\n",
      "  -9.60000000e-02]\n",
      " [ 2.54333333e-01 -4.00000000e-03  2.02666667e-01 -6.73333333e-02\n",
      "   7.43333333e-02]\n",
      " [ 2.80666667e-01  8.56666667e-02  1.00666667e-01 -4.33333333e-03\n",
      "  -2.66666667e-03]\n",
      " [ 2.70333333e-01  2.00000000e-03  2.18666667e-01 -2.46666667e-02\n",
      "  -6.33333333e-03]\n",
      " [-2.45333333e-01 -2.03333333e-02 -1.13666667e-01 -4.36666667e-02\n",
      "  -1.17000000e-01]\n",
      " [ 2.63333333e-01  5.00000000e-03  2.11666667e-01 -3.16666667e-02\n",
      "   1.16666667e-02]\n",
      " [-2.14666667e-01 -3.29666667e-01 -6.30000000e-02  1.58666667e-01\n",
      "  -9.13333333e-02]\n",
      " [ 2.63666667e-01  7.53333333e-02  6.20000000e-02 -6.33333333e-03\n",
      "   6.53333333e-02]\n",
      " [ 2.48666667e-01  1.78666667e-01 -2.30000000e-02 -3.13333333e-02\n",
      "   8.70000000e-02]\n",
      " [ 8.56666667e-02 -6.12666667e-01  3.23333333e-02 -1.01000000e-01\n",
      "   5.56666667e-02]\n",
      " [-1.74666667e-01 -2.53000000e-01 -7.63333333e-02 -7.96666667e-02\n",
      "   4.36666667e-02]\n",
      " [-1.73333333e-01  3.66666667e-02  2.21666667e-01  4.95000000e-01\n",
      "  -1.20000000e-01]\n",
      " [-1.56333333e-01  3.53333333e-02 -7.96666667e-02  5.65333333e-01\n",
      "   9.53333333e-02]\n",
      " [-4.41666667e-01 -2.33333333e-02  5.50000000e-02 -1.98333333e-01\n",
      "   6.83333333e-02]]\n",
      "----------------------------------------\n",
      "Absolute Mean SHAP raw:\n",
      "num_sonarQube_BUG_HIGH           0.228279\n",
      "num_sonarQube_CODE_SMELL_HIGH    0.176373\n",
      "num_sonarQube_CODE_SMELL_LOW     0.110828\n",
      "num_sonarQube_BUG_LOW            0.101956\n",
      "num_sonarQube_BUG_BLOCKER        0.090991\n",
      "dtype: float64\n",
      "Mean SHAP raw:\n",
      "num_sonarQube_CODE_SMELL_LOW     0.015943\n",
      "num_sonarQube_CODE_SMELL_HIGH    0.015083\n",
      "num_sonarQube_BUG_HIGH           0.011259\n",
      "num_sonarQube_BUG_BLOCKER        0.003863\n",
      "num_sonarQube_BUG_LOW           -0.024057\n",
      "dtype: float64\n",
      "----------------------------------------\n"
     ]
    },
    {
     "name": "stderr",
     "output_type": "stream",
     "text": [
      "\n"
     ]
    },
    {
     "data": {
      "image/png": "[encoded data removed]",
      "text/plain": [
       "<Figure size 800x350 with 2 Axes>"
      ]
     },
     "metadata": {},
     "output_type": "display_data"
    },
    {
     "name": "stdout",
     "output_type": "stream",
     "text": [
      "   num_sonarQube_BUG_HIGH  num_sonarQube_BUG_LOW  num_sonarQube_BUG_BLOCKER  \\\n",
      "0                0.257333               0.082333                   0.077333   \n",
      "1                0.263000              -0.037000                   0.193000   \n",
      "2               -0.245000              -0.108333                  -0.078333   \n",
      "3                0.263333               0.005000                   0.211667   \n",
      "4                0.091000              -0.239000                  -0.225667   \n",
      "\n",
      "   num_sonarQube_CODE_SMELL_HIGH  num_sonarQube_CODE_SMELL_LOW  \n",
      "0                      -0.029333                      0.072333  \n",
      "1                       0.068000                     -0.027000  \n",
      "2                      -0.053333                     -0.055000  \n",
      "3                      -0.031667                      0.011667  \n",
      "4                      -0.097333                     -0.069000  \n",
      "----------------------------------------\n"
     ]
    },
    {
     "data": {
      "application/vnd.plotly.v1+json": {
       "config": {
        "plotlyServerURL": "https://plot.ly"
       },
       "data": [
        {
         "marker": {
          "color": [
           "mediumturquoise",
           "crimson",
           "mediumturquoise",
           "mediumturquoise",
           "mediumturquoise"
          ]
         },
         "orientation": "h",
         "text": [
          "0.091",
          "0.102",
          "0.111",
          "0.176",
          "0.228"
         ],
         "textposition": "outside",
         "type": "bar",
         "x": {
          "bdata": "M/AGczRLtz9bw6X/0Bm6P/S/52Q3X7w/m8b5LGCTxj8MT0nuPTjNPw==",
          "dtype": "f8"
         },
         "y": [
          "num_sonarQube_BUG_BLOCKER",
          "num_sonarQube_BUG_LOW",
          "num_sonarQube_CODE_SMELL_LOW",
          "num_sonarQube_CODE_SMELL_HIGH",
          "num_sonarQube_BUG_HIGH"
         ]
        }
       ],
       "layout": {
        "font": {
         "size": 18
        },
        "height": 500,
        "showlegend": false,
        "template": {
         "data": {
          "bar": [
           {
            "error_x": {
             "color": "#2a3f5f"
            },
            "error_y": {
             "color": "#2a3f5f"
            },
            "marker": {
             "line": {
              "color": "white",
              "width": 0.5
             },
             "pattern": {
              "fillmode": "overlay",
              "size": 10,
              "solidity": 0.2
             }
            },
            "type": "bar"
           }
          ],
          "barpolar": [
           {
            "marker": {
             "line": {
              "color": "white",
              "width": 0.5
             },
             "pattern": {
              "fillmode": "overlay",
              "size": 10,
              "solidity": 0.2
             }
            },
            "type": "barpolar"
           }
          ],
          "carpet": [
           {
            "aaxis": {
             "endlinecolor": "#2a3f5f",
             "gridcolor": "#C8D4E3",
             "linecolor": "#C8D4E3",
             "minorgridcolor": "#C8D4E3",
             "startlinecolor": "#2a3f5f"
            },
            "baxis": {
             "endlinecolor": "#2a3f5f",
             "gridcolor": "#C8D4E3",
             "linecolor": "#C8D4E3",
             "minorgridcolor": "#C8D4E3",
             "startlinecolor": "#2a3f5f"
            },
            "type": "carpet"
           }
          ],
          "choropleth": [
           {
            "colorbar": {
             "outlinewidth": 0,
             "ticks": ""
            },
            "type": "choropleth"
           }
          ],
          "contour": [
           {
            "colorbar": {
             "outlinewidth": 0,
             "ticks": ""
            },
            "colorscale": [
             [
              0,
              "#0d0887"
             ],
             [
              0.1111111111111111,
              "#46039f"
             ],
             [
              0.2222222222222222,
              "#7201a8"
             ],
             [
              0.3333333333333333,
              "#9c179e"
             ],
             [
              0.4444444444444444,
              "#bd3786"
             ],
             [
              0.5555555555555556,
              "#d8576b"
             ],
             [
              0.6666666666666666,
              "#ed7953"
             ],
             [
              0.7777777777777778,
              "#fb9f3a"
             ],
             [
              0.8888888888888888,
              "#fdca26"
             ],
             [
              1,
              "#f0f921"
             ]
            ],
            "type": "contour"
           }
          ],
          "contourcarpet": [
           {
            "colorbar": {
             "outlinewidth": 0,
             "ticks": ""
            },
            "type": "contourcarpet"
           }
          ],
          "heatmap": [
           {
            "colorbar": {
             "outlinewidth": 0,
             "ticks": ""
            },
            "colorscale": [
             [
              0,
              "#0d0887"
             ],
             [
              0.1111111111111111,
              "#46039f"
             ],
             [
              0.2222222222222222,
              "#7201a8"
             ],
             [
              0.3333333333333333,
              "#9c179e"
             ],
             [
              0.4444444444444444,
              "#bd3786"
             ],
             [
              0.5555555555555556,
              "#d8576b"
             ],
             [
              0.6666666666666666,
              "#ed7953"
             ],
             [
              0.7777777777777778,
              "#fb9f3a"
             ],
             [
              0.8888888888888888,
              "#fdca26"
             ],
             [
              1,
              "#f0f921"
             ]
            ],
            "type": "heatmap"
           }
          ],
          "histogram": [
           {
            "marker": {
             "pattern": {
              "fillmode": "overlay",
              "size": 10,
              "solidity": 0.2
             }
            },
            "type": "histogram"
           }
          ],
          "histogram2d": [
           {
            "colorbar": {
             "outlinewidth": 0,
             "ticks": ""
            },
            "colorscale": [
             [
              0,
              "#0d0887"
             ],
             [
              0.1111111111111111,
              "#46039f"
             ],
             [
              0.2222222222222222,
              "#7201a8"
             ],
             [
              0.3333333333333333,
              "#9c179e"
             ],
             [
              0.4444444444444444,
              "#bd3786"
             ],
             [
              0.5555555555555556,
              "#d8576b"
             ],
             [
              0.6666666666666666,
              "#ed7953"
             ],
             [
              0.7777777777777778,
              "#fb9f3a"
             ],
             [
              0.8888888888888888,
              "#fdca26"
             ],
             [
              1,
              "#f0f921"
             ]
            ],
            "type": "histogram2d"
           }
          ],
          "histogram2dcontour": [
           {
            "colorbar": {
             "outlinewidth": 0,
             "ticks": ""
            },
            "colorscale": [
             [
              0,
              "#0d0887"
             ],
             [
              0.1111111111111111,
              "#46039f"
             ],
             [
              0.2222222222222222,
              "#7201a8"
             ],
             [
              0.3333333333333333,
              "#9c179e"
             ],
             [
              0.4444444444444444,
              "#bd3786"
             ],
             [
              0.5555555555555556,
              "#d8576b"
             ],
             [
              0.6666666666666666,
              "#ed7953"
             ],
             [
              0.7777777777777778,
              "#fb9f3a"
             ],
             [
              0.8888888888888888,
              "#fdca26"
             ],
             [
              1,
              "#f0f921"
             ]
            ],
            "type": "histogram2dcontour"
           }
          ],
          "mesh3d": [
           {
            "colorbar": {
             "outlinewidth": 0,
             "ticks": ""
            },
            "type": "mesh3d"
           }
          ],
          "parcoords": [
           {
            "line": {
             "colorbar": {
              "outlinewidth": 0,
              "ticks": ""
             }
            },
            "type": "parcoords"
           }
          ],
          "pie": [
           {
            "automargin": true,
            "type": "pie"
           }
          ],
          "scatter": [
           {
            "fillpattern": {
             "fillmode": "overlay",
             "size": 10,
             "solidity": 0.2
            },
            "type": "scatter"
           }
          ],
          "scatter3d": [
           {
            "line": {
             "colorbar": {
              "outlinewidth": 0,
              "ticks": ""
             }
            },
            "marker": {
             "colorbar": {
              "outlinewidth": 0,
              "ticks": ""
             }
            },
            "type": "scatter3d"
           }
          ],
          "scattercarpet": [
           {
            "marker": {
             "colorbar": {
              "outlinewidth": 0,
              "ticks": ""
             }
            },
            "type": "scattercarpet"
           }
          ],
          "scattergeo": [
           {
            "marker": {
             "colorbar": {
              "outlinewidth": 0,
              "ticks": ""
             }
            },
            "type": "scattergeo"
           }
          ],
          "scattergl": [
           {
            "marker": {
             "colorbar": {
              "outlinewidth": 0,
              "ticks": ""
             }
            },
            "type": "scattergl"
           }
          ],
          "scattermap": [
           {
            "marker": {
             "colorbar": {
              "outlinewidth": 0,
              "ticks": ""
             }
            },
            "type": "scattermap"
           }
          ],
          "scattermapbox": [
           {
            "marker": {
             "colorbar": {
              "outlinewidth": 0,
              "ticks": ""
             }
            },
            "type": "scattermapbox"
           }
          ],
          "scatterpolar": [
           {
            "marker": {
             "colorbar": {
              "outlinewidth": 0,
              "ticks": ""
             }
            },
            "type": "scatterpolar"
           }
          ],
          "scatterpolargl": [
           {
            "marker": {
             "colorbar": {
              "outlinewidth": 0,
              "ticks": ""
             }
            },
            "type": "scatterpolargl"
           }
          ],
          "scatterternary": [
           {
            "marker": {
             "colorbar": {
              "outlinewidth": 0,
              "ticks": ""
             }
            },
            "type": "scatterternary"
           }
          ],
          "surface": [
           {
            "colorbar": {
             "outlinewidth": 0,
             "ticks": ""
            },
            "colorscale": [
             [
              0,
              "#0d0887"
             ],
             [
              0.1111111111111111,
              "#46039f"
             ],
             [
              0.2222222222222222,
              "#7201a8"
             ],
             [
              0.3333333333333333,
              "#9c179e"
             ],
             [
              0.4444444444444444,
              "#bd3786"
             ],
             [
              0.5555555555555556,
              "#d8576b"
             ],
             [
              0.6666666666666666,
              "#ed7953"
             ],
             [
              0.7777777777777778,
              "#fb9f3a"
             ],
             [
              0.8888888888888888,
              "#fdca26"
             ],
             [
              1,
              "#f0f921"
             ]
            ],
            "type": "surface"
           }
          ],
          "table": [
           {
            "cells": {
             "fill": {
              "color": "#EBF0F8"
             },
             "line": {
              "color": "white"
             }
            },
            "header": {
             "fill": {
              "color": "#C8D4E3"
             },
             "line": {
              "color": "white"
             }
            },
            "type": "table"
           }
          ]
         },
         "layout": {
          "annotationdefaults": {
           "arrowcolor": "#2a3f5f",
           "arrowhead": 0,
           "arrowwidth": 1
          },
          "autotypenumbers": "strict",
          "coloraxis": {
           "colorbar": {
            "outlinewidth": 0,
            "ticks": ""
           }
          },
          "colorscale": {
           "diverging": [
            [
             0,
             "#8e0152"
            ],
            [
             0.1,
             "#c51b7d"
            ],
            [
             0.2,
             "#de77ae"
            ],
            [
             0.3,
             "#f1b6da"
            ],
            [
             0.4,
             "#fde0ef"
            ],
            [
             0.5,
             "#f7f7f7"
            ],
            [
             0.6,
             "#e6f5d0"
            ],
            [
             0.7,
             "#b8e186"
            ],
            [
             0.8,
             "#7fbc41"
            ],
            [
             0.9,
             "#4d9221"
            ],
            [
             1,
             "#276419"
            ]
           ],
           "sequential": [
            [
             0,
             "#0d0887"
            ],
            [
             0.1111111111111111,
             "#46039f"
            ],
            [
             0.2222222222222222,
             "#7201a8"
            ],
            [
             0.3333333333333333,
             "#9c179e"
            ],
            [
             0.4444444444444444,
             "#bd3786"
            ],
            [
             0.5555555555555556,
             "#d8576b"
            ],
            [
             0.6666666666666666,
             "#ed7953"
            ],
            [
             0.7777777777777778,
             "#fb9f3a"
            ],
            [
             0.8888888888888888,
             "#fdca26"
            ],
            [
             1,
             "#f0f921"
            ]
           ],
           "sequentialminus": [
            [
             0,
             "#0d0887"
            ],
            [
             0.1111111111111111,
             "#46039f"
            ],
            [
             0.2222222222222222,
             "#7201a8"
            ],
            [
             0.3333333333333333,
             "#9c179e"
            ],
            [
             0.4444444444444444,
             "#bd3786"
            ],
            [
             0.5555555555555556,
             "#d8576b"
            ],
            [
             0.6666666666666666,
             "#ed7953"
            ],
            [
             0.7777777777777778,
             "#fb9f3a"
            ],
            [
             0.8888888888888888,
             "#fdca26"
            ],
            [
             1,
             "#f0f921"
            ]
           ]
          },
          "colorway": [
           "#636efa",
           "#EF553B",
           "#00cc96",
           "#ab63fa",
           "#FFA15A",
           "#19d3f3",
           "#FF6692",
           "#B6E880",
           "#FF97FF",
           "#FECB52"
          ],
          "font": {
           "color": "#2a3f5f"
          },
          "geo": {
           "bgcolor": "white",
           "lakecolor": "white",
           "landcolor": "white",
           "showlakes": true,
           "showland": true,
           "subunitcolor": "#C8D4E3"
          },
          "hoverlabel": {
           "align": "left"
          },
          "hovermode": "closest",
          "mapbox": {
           "style": "light"
          },
          "paper_bgcolor": "white",
          "plot_bgcolor": "white",
          "polar": {
           "angularaxis": {
            "gridcolor": "#EBF0F8",
            "linecolor": "#EBF0F8",
            "ticks": ""
           },
           "bgcolor": "white",
           "radialaxis": {
            "gridcolor": "#EBF0F8",
            "linecolor": "#EBF0F8",
            "ticks": ""
           }
          },
          "scene": {
           "xaxis": {
            "backgroundcolor": "white",
            "gridcolor": "#DFE8F3",
            "gridwidth": 2,
            "linecolor": "#EBF0F8",
            "showbackground": true,
            "ticks": "",
            "zerolinecolor": "#EBF0F8"
           },
           "yaxis": {
            "backgroundcolor": "white",
            "gridcolor": "#DFE8F3",
            "gridwidth": 2,
            "linecolor": "#EBF0F8",
            "showbackground": true,
            "ticks": "",
            "zerolinecolor": "#EBF0F8"
           },
           "zaxis": {
            "backgroundcolor": "white",
            "gridcolor": "#DFE8F3",
            "gridwidth": 2,
            "linecolor": "#EBF0F8",
            "showbackground": true,
            "ticks": "",
            "zerolinecolor": "#EBF0F8"
           }
          },
          "shapedefaults": {
           "line": {
            "color": "#2a3f5f"
           }
          },
          "ternary": {
           "aaxis": {
            "gridcolor": "#DFE8F3",
            "linecolor": "#A2B1C6",
            "ticks": ""
           },
           "baxis": {
            "gridcolor": "#DFE8F3",
            "linecolor": "#A2B1C6",
            "ticks": ""
           },
           "bgcolor": "white",
           "caxis": {
            "gridcolor": "#DFE8F3",
            "linecolor": "#A2B1C6",
            "ticks": ""
           }
          },
          "title": {
           "x": 0.05
          },
          "xaxis": {
           "automargin": true,
           "gridcolor": "#EBF0F8",
           "linecolor": "#EBF0F8",
           "ticks": "",
           "title": {
            "standoff": 15
           },
           "zerolinecolor": "#EBF0F8",
           "zerolinewidth": 2
          },
          "yaxis": {
           "automargin": true,
           "gridcolor": "#EBF0F8",
           "linecolor": "#EBF0F8",
           "ticks": "",
           "title": {
            "standoff": 15
           },
           "zerolinecolor": "#EBF0F8",
           "zerolinewidth": 2
          }
         }
        },
        "title": {
         "font": {
          "size": 24
         },
         "text": "User guideline:project_quality"
        },
        "width": 1200,
        "xaxis": {
         "range": [
          0,
          0.5
         ],
         "tickfont": {
          "size": 18
         },
         "title": {
          "font": {
           "size": 20
          },
          "text": "Mean SHAP Value (Average Impact on Model Output)"
         },
         "zeroline": true,
         "zerolinecolor": "black",
         "zerolinewidth": 2
        },
        "yaxis": {
         "tickfont": {
          "size": 18
         },
         "title": {
          "font": {
           "size": 21
          },
          "text": "Features"
         }
        }
       }
      }
     },
     "metadata": {},
     "output_type": "display_data"
    },
    {
     "name": "stdout",
     "output_type": "stream",
     "text": [
      "                         Feature  Mean SHAP Value\n",
      "0         num_sonarQube_BUG_HIGH         0.011259\n",
      "1          num_sonarQube_BUG_LOW        -0.024057\n",
      "2      num_sonarQube_BUG_BLOCKER         0.003863\n",
      "3  num_sonarQube_CODE_SMELL_HIGH         0.015083\n",
      "4   num_sonarQube_CODE_SMELL_LOW         0.015943\n"
     ]
    },
    {
     "data": {
      "application/vnd.plotly.v1+json": {
       "config": {
        "plotlyServerURL": "https://plot.ly"
       },
       "data": [
        {
         "marker": {
          "color": [
           "mediumturquoise",
           "crimson",
           "mediumturquoise",
           "mediumturquoise",
           "mediumturquoise"
          ]
         },
         "orientation": "h",
         "text": [
          "0.091",
          "0.102",
          "0.111",
          "0.176",
          "0.228"
         ],
         "textfont": {
          "size": 16
         },
         "textposition": "outside",
         "type": "bar",
         "x": {
          "bdata": "M/AGczRLtz9bw6X/0Bm6v/S/52Q3X7w/m8b5LGCTxj8MT0nuPTjNPw==",
          "dtype": "f8"
         },
         "y": [
          "num_sonarQube_BUG_BLOCKER",
          "num_sonarQube_BUG_LOW",
          "num_sonarQube_CODE_SMELL_LOW",
          "num_sonarQube_CODE_SMELL_HIGH",
          "num_sonarQube_BUG_HIGH"
         ]
        }
       ],
       "layout": {
        "font": {
         "size": 18
        },
        "height": 600,
        "margin": {
         "b": 50,
         "l": 200,
         "r": 50,
         "t": 50
        },
        "showlegend": false,
        "template": {
         "data": {
          "bar": [
           {
            "error_x": {
             "color": "#2a3f5f"
            },
            "error_y": {
             "color": "#2a3f5f"
            },
            "marker": {
             "line": {
              "color": "white",
              "width": 0.5
             },
             "pattern": {
              "fillmode": "overlay",
              "size": 10,
              "solidity": 0.2
             }
            },
            "type": "bar"
           }
          ],
          "barpolar": [
           {
            "marker": {
             "line": {
              "color": "white",
              "width": 0.5
             },
             "pattern": {
              "fillmode": "overlay",
              "size": 10,
              "solidity": 0.2
             }
            },
            "type": "barpolar"
           }
          ],
          "carpet": [
           {
            "aaxis": {
             "endlinecolor": "#2a3f5f",
             "gridcolor": "#C8D4E3",
             "linecolor": "#C8D4E3",
             "minorgridcolor": "#C8D4E3",
             "startlinecolor": "#2a3f5f"
            },
            "baxis": {
             "endlinecolor": "#2a3f5f",
             "gridcolor": "#C8D4E3",
             "linecolor": "#C8D4E3",
             "minorgridcolor": "#C8D4E3",
             "startlinecolor": "#2a3f5f"
            },
            "type": "carpet"
           }
          ],
          "choropleth": [
           {
            "colorbar": {
             "outlinewidth": 0,
             "ticks": ""
            },
            "type": "choropleth"
           }
          ],
          "contour": [
           {
            "colorbar": {
             "outlinewidth": 0,
             "ticks": ""
            },
            "colorscale": [
             [
              0,
              "#0d0887"
             ],
             [
              0.1111111111111111,
              "#46039f"
             ],
             [
              0.2222222222222222,
              "#7201a8"
             ],
             [
              0.3333333333333333,
              "#9c179e"
             ],
             [
              0.4444444444444444,
              "#bd3786"
             ],
             [
              0.5555555555555556,
              "#d8576b"
             ],
             [
              0.6666666666666666,
              "#ed7953"
             ],
             [
              0.7777777777777778,
              "#fb9f3a"
             ],
             [
              0.8888888888888888,
              "#fdca26"
             ],
             [
              1,
              "#f0f921"
             ]
            ],
            "type": "contour"
           }
          ],
          "contourcarpet": [
           {
            "colorbar": {
             "outlinewidth": 0,
             "ticks": ""
            },
            "type": "contourcarpet"
           }
          ],
          "heatmap": [
           {
            "colorbar": {
             "outlinewidth": 0,
             "ticks": ""
            },
            "colorscale": [
             [
              0,
              "#0d0887"
             ],
             [
              0.1111111111111111,
              "#46039f"
             ],
             [
              0.2222222222222222,
              "#7201a8"
             ],
             [
              0.3333333333333333,
              "#9c179e"
             ],
             [
              0.4444444444444444,
              "#bd3786"
             ],
             [
              0.5555555555555556,
              "#d8576b"
             ],
             [
              0.6666666666666666,
              "#ed7953"
             ],
             [
              0.7777777777777778,
              "#fb9f3a"
             ],
             [
              0.8888888888888888,
              "#fdca26"
             ],
             [
              1,
              "#f0f921"
             ]
            ],
            "type": "heatmap"
           }
          ],
          "histogram": [
           {
            "marker": {
             "pattern": {
              "fillmode": "overlay",
              "size": 10,
              "solidity": 0.2
             }
            },
            "type": "histogram"
           }
          ],
          "histogram2d": [
           {
            "colorbar": {
             "outlinewidth": 0,
             "ticks": ""
            },
            "colorscale": [
             [
              0,
              "#0d0887"
             ],
             [
              0.1111111111111111,
              "#46039f"
             ],
             [
              0.2222222222222222,
              "#7201a8"
             ],
             [
              0.3333333333333333,
              "#9c179e"
             ],
             [
              0.4444444444444444,
              "#bd3786"
             ],
             [
              0.5555555555555556,
              "#d8576b"
             ],
             [
              0.6666666666666666,
              "#ed7953"
             ],
             [
              0.7777777777777778,
              "#fb9f3a"
             ],
             [
              0.8888888888888888,
              "#fdca26"
             ],
             [
              1,
              "#f0f921"
             ]
            ],
            "type": "histogram2d"
           }
          ],
          "histogram2dcontour": [
           {
            "colorbar": {
             "outlinewidth": 0,
             "ticks": ""
            },
            "colorscale": [
             [
              0,
              "#0d0887"
             ],
             [
              0.1111111111111111,
              "#46039f"
             ],
             [
              0.2222222222222222,
              "#7201a8"
             ],
             [
              0.3333333333333333,
              "#9c179e"
             ],
             [
              0.4444444444444444,
              "#bd3786"
             ],
             [
              0.5555555555555556,
              "#d8576b"
             ],
             [
              0.6666666666666666,
              "#ed7953"
             ],
             [
              0.7777777777777778,
              "#fb9f3a"
             ],
             [
              0.8888888888888888,
              "#fdca26"
             ],
             [
              1,
              "#f0f921"
             ]
            ],
            "type": "histogram2dcontour"
           }
          ],
          "mesh3d": [
           {
            "colorbar": {
             "outlinewidth": 0,
             "ticks": ""
            },
            "type": "mesh3d"
           }
          ],
          "parcoords": [
           {
            "line": {
             "colorbar": {
              "outlinewidth": 0,
              "ticks": ""
             }
            },
            "type": "parcoords"
           }
          ],
          "pie": [
           {
            "automargin": true,
            "type": "pie"
           }
          ],
          "scatter": [
           {
            "fillpattern": {
             "fillmode": "overlay",
             "size": 10,
             "solidity": 0.2
            },
            "type": "scatter"
           }
          ],
          "scatter3d": [
           {
            "line": {
             "colorbar": {
              "outlinewidth": 0,
              "ticks": ""
             }
            },
            "marker": {
             "colorbar": {
              "outlinewidth": 0,
              "ticks": ""
             }
            },
            "type": "scatter3d"
           }
          ],
          "scattercarpet": [
           {
            "marker": {
             "colorbar": {
              "outlinewidth": 0,
              "ticks": ""
             }
            },
            "type": "scattercarpet"
           }
          ],
          "scattergeo": [
           {
            "marker": {
             "colorbar": {
              "outlinewidth": 0,
              "ticks": ""
             }
            },
            "type": "scattergeo"
           }
          ],
          "scattergl": [
           {
            "marker": {
             "colorbar": {
              "outlinewidth": 0,
              "ticks": ""
             }
            },
            "type": "scattergl"
           }
          ],
          "scattermap": [
           {
            "marker": {
             "colorbar": {
              "outlinewidth": 0,
              "ticks": ""
             }
            },
            "type": "scattermap"
           }
          ],
          "scattermapbox": [
           {
            "marker": {
             "colorbar": {
              "outlinewidth": 0,
              "ticks": ""
             }
            },
            "type": "scattermapbox"
           }
          ],
          "scatterpolar": [
           {
            "marker": {
             "colorbar": {
              "outlinewidth": 0,
              "ticks": ""
             }
            },
            "type": "scatterpolar"
           }
          ],
          "scatterpolargl": [
           {
            "marker": {
             "colorbar": {
              "outlinewidth": 0,
              "ticks": ""
             }
            },
            "type": "scatterpolargl"
           }
          ],
          "scatterternary": [
           {
            "marker": {
             "colorbar": {
              "outlinewidth": 0,
              "ticks": ""
             }
            },
            "type": "scatterternary"
           }
          ],
          "surface": [
           {
            "colorbar": {
             "outlinewidth": 0,
             "ticks": ""
            },
            "colorscale": [
             [
              0,
              "#0d0887"
             ],
             [
              0.1111111111111111,
              "#46039f"
             ],
             [
              0.2222222222222222,
              "#7201a8"
             ],
             [
              0.3333333333333333,
              "#9c179e"
             ],
             [
              0.4444444444444444,
              "#bd3786"
             ],
             [
              0.5555555555555556,
              "#d8576b"
             ],
             [
              0.6666666666666666,
              "#ed7953"
             ],
             [
              0.7777777777777778,
              "#fb9f3a"
             ],
             [
              0.8888888888888888,
              "#fdca26"
             ],
             [
              1,
              "#f0f921"
             ]
            ],
            "type": "surface"
           }
          ],
          "table": [
           {
            "cells": {
             "fill": {
              "color": "#EBF0F8"
             },
             "line": {
              "color": "white"
             }
            },
            "header": {
             "fill": {
              "color": "#C8D4E3"
             },
             "line": {
              "color": "white"
             }
            },
            "type": "table"
           }
          ]
         },
         "layout": {
          "annotationdefaults": {
           "arrowcolor": "#2a3f5f",
           "arrowhead": 0,
           "arrowwidth": 1
          },
          "autotypenumbers": "strict",
          "coloraxis": {
           "colorbar": {
            "outlinewidth": 0,
            "ticks": ""
           }
          },
          "colorscale": {
           "diverging": [
            [
             0,
             "#8e0152"
            ],
            [
             0.1,
             "#c51b7d"
            ],
            [
             0.2,
             "#de77ae"
            ],
            [
             0.3,
             "#f1b6da"
            ],
            [
             0.4,
             "#fde0ef"
            ],
            [
             0.5,
             "#f7f7f7"
            ],
            [
             0.6,
             "#e6f5d0"
            ],
            [
             0.7,
             "#b8e186"
            ],
            [
             0.8,
             "#7fbc41"
            ],
            [
             0.9,
             "#4d9221"
            ],
            [
             1,
             "#276419"
            ]
           ],
           "sequential": [
            [
             0,
             "#0d0887"
            ],
            [
             0.1111111111111111,
             "#46039f"
            ],
            [
             0.2222222222222222,
             "#7201a8"
            ],
            [
             0.3333333333333333,
             "#9c179e"
            ],
            [
             0.4444444444444444,
             "#bd3786"
            ],
            [
             0.5555555555555556,
             "#d8576b"
            ],
            [
             0.6666666666666666,
             "#ed7953"
            ],
            [
             0.7777777777777778,
             "#fb9f3a"
            ],
            [
             0.8888888888888888,
             "#fdca26"
            ],
            [
             1,
             "#f0f921"
            ]
           ],
           "sequentialminus": [
            [
             0,
             "#0d0887"
            ],
            [
             0.1111111111111111,
             "#46039f"
            ],
            [
             0.2222222222222222,
             "#7201a8"
            ],
            [
             0.3333333333333333,
             "#9c179e"
            ],
            [
             0.4444444444444444,
             "#bd3786"
            ],
            [
             0.5555555555555556,
             "#d8576b"
            ],
            [
             0.6666666666666666,
             "#ed7953"
            ],
            [
             0.7777777777777778,
             "#fb9f3a"
            ],
            [
             0.8888888888888888,
             "#fdca26"
            ],
            [
             1,
             "#f0f921"
            ]
           ]
          },
          "colorway": [
           "#636efa",
           "#EF553B",
           "#00cc96",
           "#ab63fa",
           "#FFA15A",
           "#19d3f3",
           "#FF6692",
           "#B6E880",
           "#FF97FF",
           "#FECB52"
          ],
          "font": {
           "color": "#2a3f5f"
          },
          "geo": {
           "bgcolor": "white",
           "lakecolor": "white",
           "landcolor": "white",
           "showlakes": true,
           "showland": true,
           "subunitcolor": "#C8D4E3"
          },
          "hoverlabel": {
           "align": "left"
          },
          "hovermode": "closest",
          "mapbox": {
           "style": "light"
          },
          "paper_bgcolor": "white",
          "plot_bgcolor": "white",
          "polar": {
           "angularaxis": {
            "gridcolor": "#EBF0F8",
            "linecolor": "#EBF0F8",
            "ticks": ""
           },
           "bgcolor": "white",
           "radialaxis": {
            "gridcolor": "#EBF0F8",
            "linecolor": "#EBF0F8",
            "ticks": ""
           }
          },
          "scene": {
           "xaxis": {
            "backgroundcolor": "white",
            "gridcolor": "#DFE8F3",
            "gridwidth": 2,
            "linecolor": "#EBF0F8",
            "showbackground": true,
            "ticks": "",
            "zerolinecolor": "#EBF0F8"
           },
           "yaxis": {
            "backgroundcolor": "white",
            "gridcolor": "#DFE8F3",
            "gridwidth": 2,
            "linecolor": "#EBF0F8",
            "showbackground": true,
            "ticks": "",
            "zerolinecolor": "#EBF0F8"
           },
           "zaxis": {
            "backgroundcolor": "white",
            "gridcolor": "#DFE8F3",
            "gridwidth": 2,
            "linecolor": "#EBF0F8",
            "showbackground": true,
            "ticks": "",
            "zerolinecolor": "#EBF0F8"
           }
          },
          "shapedefaults": {
           "line": {
            "color": "#2a3f5f"
           }
          },
          "ternary": {
           "aaxis": {
            "gridcolor": "#DFE8F3",
            "linecolor": "#A2B1C6",
            "ticks": ""
           },
           "baxis": {
            "gridcolor": "#DFE8F3",
            "linecolor": "#A2B1C6",
            "ticks": ""
           },
           "bgcolor": "white",
           "caxis": {
            "gridcolor": "#DFE8F3",
            "linecolor": "#A2B1C6",
            "ticks": ""
           }
          },
          "title": {
           "x": 0.05
          },
          "xaxis": {
           "automargin": true,
           "gridcolor": "#EBF0F8",
           "linecolor": "#EBF0F8",
           "ticks": "",
           "title": {
            "standoff": 15
           },
           "zerolinecolor": "#EBF0F8",
           "zerolinewidth": 2
          },
          "yaxis": {
           "automargin": true,
           "gridcolor": "#EBF0F8",
           "linecolor": "#EBF0F8",
           "ticks": "",
           "title": {
            "standoff": 15
           },
           "zerolinecolor": "#EBF0F8",
           "zerolinewidth": 2
          }
         }
        },
        "title": {
         "font": {
          "size": 24
         },
         "text": "User guideline:project_quality"
        },
        "width": 1400,
        "xaxis": {
         "range": [
          -0.5,
          0.5
         ],
         "tickfont": {
          "size": 18
         },
         "title": {
          "font": {
           "size": 20
          },
          "text": "Mean SHAP Value (Average Impact on Model Output)"
         },
         "zeroline": true,
         "zerolinecolor": "black",
         "zerolinewidth": 2
        },
        "yaxis": {
         "automargin": true,
         "tickfont": {
          "size": 18
         },
         "title": {
          "font": {
           "size": 21
          },
          "text": "Features"
         }
        }
       }
      }
     },
     "metadata": {},
     "output_type": "display_data"
    },
    {
     "name": "stdout",
     "output_type": "stream",
     "text": [
      "Figure saved successfully at: shap/User guideline_project_quality_diverging_plot.png\n"
     ]
    }
   ],
   "source": [
    "if model_type == \"kernel\" or model_type == \"ada\":\n",
    "    #### Kernel Explainer ####\n",
    "    background = X_train.sample(n=50, random_state=42)  # Sample background data for SHAP\n",
    "    explainer = shap.KernelExplainer(model.predict, background)\n",
    "    shap_values_kernel = explainer.shap_values(X_test, nsamples=100)\n",
    "\n",
    "    # Ensure SHAP values are a NumPy array\n",
    "    shap_values_kernel = np.array(shap_values_kernel)\n",
    "\n",
    "    print(\"SHAP values shape:\", shap_values_kernel.shape)  # Debugging\n",
    "    print(\"Data in SHAP values:\")\n",
    "    print(shap_values_kernel)  # Print data for check\n",
    "    print(\"-\" * 40)\n",
    "    ##############################################################################################\n",
    "\n",
    "    #### Mean and Absolute Mean SHAP values ####\n",
    "    shap_df = pd.DataFrame(shap_values_kernel, columns=X_test.columns)\n",
    "\n",
    "    # Compute absolute mean SHAP values\n",
    "    abs_mean_shap_raw = shap_df.abs().mean(0).sort_values(ascending=False)\n",
    "    print(\"Absolute Mean SHAP raw:\")\n",
    "    print(abs_mean_shap_raw)\n",
    "\n",
    "    # Compute actual mean SHAP values\n",
    "    mean_shap_raw = shap_df.mean(0).sort_values(ascending=False)\n",
    "    print(\"Mean SHAP raw:\")\n",
    "    print(mean_shap_raw)\n",
    "    print(\"-\" * 40)\n",
    "    ##############################################################################################\n",
    "\n",
    "    #### Plot by SHAP ####\n",
    "    custom_cmap = mcolors.LinearSegmentedColormap.from_list(\"pink_skyblue\", [\"mediumturquoise\", \"crimson\"])\n",
    "    shap.summary_plot(shap_values_kernel, X_test, cmap=custom_cmap)  # Create the SHAP summary plot\n",
    "\n",
    "    ##############################################################################################\n",
    "\n",
    "    #### Prepare Data for Custom Plot ####\n",
    "    feature_names = X_test.columns.tolist()  # Get feature names from X_test\n",
    "    df_class_1 = pd.DataFrame(shap_values_kernel, columns=feature_names)\n",
    "\n",
    "    # Display first few rows\n",
    "    print(df_class_1.head())\n",
    "    print(\"-\" * 40)\n",
    "    ##############################################################################################\n",
    "\n",
    "    #### Plot by Me ####\n",
    "    # Compute absolute mean SHAP values for correct sorting\n",
    "    df_mean = df_class_1.abs().mean().reset_index()\n",
    "    df_mean.columns = ['Feature', 'Mean |SHAP Value|']\n",
    "    df_mean = df_mean.sort_values(by=\"Mean |SHAP Value|\", ascending=True)\n",
    "\n",
    "    # Compute actual mean SHAP values for correct bar coloring\n",
    "    df_signed_mean = df_class_1.mean(numeric_only=True).reset_index()\n",
    "    df_signed_mean.columns = ['Feature', 'Mean SHAP Value']\n",
    "\n",
    "    # Merge both to get proper ordering and sign information\n",
    "    df_final = df_mean.merge(df_signed_mean, on=\"Feature\")\n",
    "\n",
    "    # Assign colors: red for positive, blue for negative values\n",
    "    df_final[\"Color\"] = df_final[\"Mean SHAP Value\"].apply(lambda x: \"mediumturquoise\" if x >= 0 else \"crimson\")\n",
    "\n",
    "    # Creating the horizontal bar plot with correct order\n",
    "    fig = go.Figure()\n",
    "    fig.add_trace(go.Bar(\n",
    "        x=df_final[\"Mean |SHAP Value|\"],\n",
    "        y=df_final[\"Feature\"],\n",
    "        orientation='h',\n",
    "        marker=dict(color=df_final[\"Color\"]),\n",
    "        text=[f\"{v:.3f}\" for v in df_final[\"Mean |SHAP Value|\"]],  # Annotate absolute SHAP values\n",
    "        textposition=\"outside\"\n",
    "    ))\n",
    "\n",
    "    # Updating layout to match SHAP importance plot style\n",
    "    fig.update_layout(\n",
    "        title=f\"{cate}:{feature}\",\n",
    "        title_font_size=24,\n",
    "        xaxis_title=\"Mean SHAP Value (Average Impact on Model Output)\",\n",
    "        xaxis_title_font_size=20,\n",
    "        yaxis_title=\"Features\",\n",
    "        yaxis_title_font_size=21,\n",
    "        template=\"plotly_white\",\n",
    "        font=dict(size=18),\n",
    "        xaxis=dict(\n",
    "            range=model_range,\n",
    "            tickfont=dict(size=18),\n",
    "            zeroline=True,  # Keep central reference line\n",
    "            zerolinecolor=\"black\",\n",
    "            zerolinewidth=2,\n",
    "        ),\n",
    "        yaxis=dict(\n",
    "            tickfont=dict(size=18)\n",
    "        ),\n",
    "        showlegend=False,\n",
    "        width=1200,\n",
    "        height=500,\n",
    "    )\n",
    "\n",
    "    # Show the plot\n",
    "    fig.show()\n",
    "\n",
    "    # Ensure the \"shap\" directory exists before saving\n",
    "    # directory = \"shap\"\n",
    "    # os.makedirs(directory, exist_ok=True)\n",
    "\n",
    "    # # Define save path\n",
    "    # save_path = f\"{directory}/{cate}_{feature}_bar_left_plot.png\"\n",
    "\n",
    "    # # Save the figure as an image\n",
    "    # fig.write_image(save_path)\n",
    "    # print(f\"Figure saved successfully at: {save_path}\")\n",
    "    ##############################################################################################\n",
    "    ##############################################################################################\n",
    "        \n",
    "    #### Plot ####\n",
    "    # Compute absolute mean SHAP values for correct sorting\n",
    "    df_mean = df_class_1.abs().mean().reset_index()\n",
    "    df_mean.columns = ['Feature', 'Mean |SHAP Value|']\n",
    "    df_mean = df_mean.sort_values(by=\"Mean |SHAP Value|\", ascending=True)\n",
    "\n",
    "    # Display the data\n",
    "    print(df_signed_mean)\n",
    "    \n",
    "    # Compute actual mean SHAP values for correct bar coloring\n",
    "    df_signed_mean = df_class_1.mean(numeric_only=True).reset_index()\n",
    "    df_signed_mean.columns = ['Feature', 'Mean SHAP Value']\n",
    "\n",
    "    # Merge both to get proper ordering and sign information\n",
    "    df_final = df_mean.merge(df_signed_mean, on=\"Feature\")\n",
    "\n",
    "    # Assign colors: red for positive, blue for negative values\n",
    "    df_final[\"Color\"] = df_final[\"Mean SHAP Value\"].apply(lambda x: \"mediumturquoise\" if x >= 0 else \"crimson\")\n",
    "\n",
    "    # Adjust x values: move positive SHAP values to the negative x-axis\n",
    "    df_final[\"Adjusted SHAP Value\"] = df_final.apply(\n",
    "        lambda row: -row[\"Mean |SHAP Value|\"] if row[\"Mean SHAP Value\"] <= 0 else row[\"Mean |SHAP Value|\"], axis=1\n",
    "    )\n",
    "\n",
    "    # Determine max range for better spacing\n",
    "    max_x = max(df_final[\"Mean |SHAP Value|\"]) * 1.2  # Extend the range by 20% for better spacing\n",
    "\n",
    "    # Creating the horizontal bar plot with correct order\n",
    "    fig = go.Figure()\n",
    "    fig.add_trace(go.Bar(\n",
    "        x=df_final[\"Adjusted SHAP Value\"],\n",
    "        y=df_final[\"Feature\"],\n",
    "        orientation='h',\n",
    "        marker=dict(color=df_final[\"Color\"]),\n",
    "        text=[f\"{v:.3f}\" for v in df_final[\"Mean |SHAP Value|\"]],  # Annotate absolute SHAP values\n",
    "        textposition=\"outside\",  # Move text outside to avoid overlap\n",
    "        textfont=dict(size=16),  # Increase font size for visibility\n",
    "    ))\n",
    "\n",
    "    # Updating layout to match SHAP importance plot style\n",
    "    fig.update_layout(\n",
    "        title=f\"{cate}:{feature}\",\n",
    "        title_font_size=24,\n",
    "        xaxis_title=\"Mean SHAP Value (Average Impact on Model Output)\",\n",
    "        xaxis_title_font_size=20,\n",
    "        yaxis_title=\"Features\",\n",
    "        yaxis_title_font_size=21,\n",
    "        template=\"plotly_white\",\n",
    "        font=dict(size=18),\n",
    "        xaxis=dict(\n",
    "            range=model_range1,  # Extend range to avoid label cutting\n",
    "            tickfont=dict(size=18),\n",
    "            zeroline=True,  # Keep central reference line\n",
    "            zerolinecolor=\"black\",\n",
    "            zerolinewidth=2,\n",
    "        ),\n",
    "        yaxis=dict(\n",
    "            tickfont=dict(size=18),\n",
    "            automargin=True  # Automatically adjust margins\n",
    "        ),\n",
    "        showlegend=False,\n",
    "        width=1400,  # Increase width to fit labels better\n",
    "        height=600,  # Increase height for better spacing\n",
    "        margin=dict(l=200, r=50, t=50, b=50),  # Extend left margin for long feature names\n",
    "    )\n",
    "\n",
    "    # Show the plot\n",
    "    fig.show()\n",
    "    # Ensure the \"shap\" directory exists before saving\n",
    "    directory = \"shap\"\n",
    "    os.makedirs(directory, exist_ok=True)  # Create folder if it doesn't exist\n",
    "\n",
    "    # Define save path\n",
    "    save_path = f\"{directory}/{cate}_{feature}_diverging_plot.png\"\n",
    "\n",
    "    # Save the figure as an image\n",
    "    fig.write_image(save_path)\n",
    "    print(f\"Figure saved successfully at: {save_path}\")"
   ]
  },
  {
   "cell_type": "code",
   "execution_count": 233,
   "metadata": {},
   "outputs": [],
   "source": [
    "# #### Plot by Me ####\n",
    "# # Compute absolute mean SHAP values for correct sorting\n",
    "# df_mean = df_class_1.abs().mean().reset_index()\n",
    "# df_mean.columns = ['Feature', 'Mean |SHAP Value|']\n",
    "# df_mean = df_mean.sort_values(by=\"Mean |SHAP Value|\", ascending=True)\n",
    "\n",
    "# # Compute actual mean SHAP values for correct bar coloring\n",
    "# df_signed_mean = df_class_1.mean(numeric_only=True).reset_index()\n",
    "# df_signed_mean.columns = ['Feature', 'Mean SHAP Value']\n",
    "\n",
    "# # Merge both to get proper ordering and sign information\n",
    "# df_final = df_mean.merge(df_signed_mean, on=\"Feature\")\n",
    "\n",
    "# # Assign colors: red for positive, blue for negative values\n",
    "# df_final[\"Color\"] = df_final[\"Mean SHAP Value\"].apply(lambda x: \"mediumturquoise\" if x >= 0 else \"crimson\")\n",
    "\n",
    "# # Adjust x values: move positive SHAP values to the negative x-axis\n",
    "# df_final[\"Adjusted SHAP Value\"] = df_final.apply(\n",
    "#     lambda row: -row[\"Mean |SHAP Value|\"] if row[\"Mean SHAP Value\"] <= 0 else row[\"Mean |SHAP Value|\"], axis=1\n",
    "# )\n",
    "\n",
    "# # Determine max range for better spacing\n",
    "# max_x = max(df_final[\"Mean |SHAP Value|\"]) * 1.2  # Extend the range by 20% for better spacing\n",
    "\n",
    "# # Creating the horizontal bar plot with correct order\n",
    "# fig = go.Figure()\n",
    "# fig.add_trace(go.Bar(\n",
    "#     x=df_final[\"Adjusted SHAP Value\"],\n",
    "#     y=df_final[\"Feature\"],\n",
    "#     orientation='h',\n",
    "#     marker=dict(color=df_final[\"Color\"]),\n",
    "#     text=[f\"{v:.3f}\" for v in df_final[\"Mean |SHAP Value|\"]],  # Annotate absolute SHAP values\n",
    "#     textposition=\"outside\",  # Move text outside to avoid overlap\n",
    "#     textfont=dict(size=16),  # Increase font size for visibility\n",
    "# ))\n",
    "\n",
    "# # Updating layout to match SHAP importance plot style\n",
    "# fig.update_layout(\n",
    "#     title=f\"{cate}:{feature}\",\n",
    "#     title_font_size=24,\n",
    "#     xaxis_title=\"Mean SHAP Value (Average Impact on Model Output)\",\n",
    "#     xaxis_title_font_size=20,\n",
    "#     yaxis_title=\"Features\",\n",
    "#     yaxis_title_font_size=21,\n",
    "#     template=\"plotly_white\",\n",
    "#     font=dict(size=18),\n",
    "#     xaxis=dict(\n",
    "#         range=[-max_x, max_x],  # Extend range to avoid label cutting\n",
    "#         tickfont=dict(size=18),\n",
    "#         zeroline=True,  # Keep central reference line\n",
    "#         zerolinecolor=\"black\",\n",
    "#         zerolinewidth=2,\n",
    "#     ),\n",
    "#     yaxis=dict(\n",
    "#         tickfont=dict(size=18),\n",
    "#         automargin=True  # Automatically adjust margins\n",
    "#     ),\n",
    "#     showlegend=False,\n",
    "#     width=1400,  # Increase width to fit labels better\n",
    "#     height=600,  # Increase height for better spacing\n",
    "#     margin=dict(l=200, r=50, t=50, b=50),  # Extend left margin for long feature names\n",
    "# )\n",
    "\n",
    "# # Show the plot\n",
    "# fig.show()\n"
   ]
  },
  {
   "cell_type": "code",
   "execution_count": null,
   "metadata": {},
   "outputs": [],
   "source": []
  }
 ],
 "metadata": {
  "kernelspec": {
   "display_name": "Python 3",
   "language": "python",
   "name": "python3"
  },
  "language_info": {
   "codemirror_mode": {
    "name": "ipython",
    "version": 3
   },
   "file_extension": ".py",
   "mimetype": "text/x-python",
   "name": "python",
   "nbconvert_exporter": "python",
   "pygments_lexer": "ipython3",
   "version": "3.13.2"
  }
 },
 "nbformat": 4,
 "nbformat_minor": 2
}
