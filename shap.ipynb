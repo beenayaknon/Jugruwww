{
 "cells": [
  {
   "cell_type": "code",
   "execution_count": 10,
   "metadata": {},
   "outputs": [],
   "source": [
    "from sklearn.ensemble import RandomForestClassifier\n",
    "from sklearn.ensemble import AdaBoostClassifier\n",
    "from sklearn.tree import DecisionTreeClassifier\n",
    "from sklearn.model_selection import train_test_split\n",
    "from sklearn.tree import DecisionTreeClassifier\n",
    "from sklearn.linear_model import SGDClassifier\n",
    "from sklearn.model_selection import train_test_split\n",
    "import pandas as pd\n",
    "import shap\n",
    "import os\n",
    "import plotly.graph_objects as go\n",
    "from shap.plots import waterfall, beeswarm\n",
    "from shap import Explanation, KernelExplainer\n",
    "import numpy as np\n",
    "from matplotlib.colors import LinearSegmentedColormap\n",
    "import matplotlib.colors as mcolors\n",
    "from matplotlib import cm\n",
    "import matplotlib.pyplot as plt\n",
    "from sklearn.base import BaseEstimator\n",
    "from sklearn.metrics import accuracy_score, classification_report, roc_auc_score, r2_score\n",
    "# from xgboost import XGBClassifier\n",
    "from sklearn.ensemble import HistGradientBoostingClassifier\n",
    "from sklearn.neural_network import MLPClassifier\n",
    "from sklearn.svm import SVC\n",
    "from sklearn.discriminant_analysis import LinearDiscriminantAnalysis\n",
    "from sklearn.ensemble import ExtraTreesClassifier\n",
    "from sklearn.naive_bayes import BernoulliNB\n",
    "from sklearn.ensemble import AdaBoostClassifier\n",
    "from sklearn.neighbors import KNeighborsClassifier\n",
    "# from imblearn.over_sampling import SMOTE"
   ]
  },
  {
   "cell_type": "code",
   "execution_count": 11,
   "metadata": {},
   "outputs": [
    {
     "name": "stdout",
     "output_type": "stream",
     "text": [
      "AdaBoostClassifier(algorithm='SAMME',\n",
      "                   estimator=DecisionTreeClassifier(max_depth=10),\n",
      "                   learning_rate=0.010381491760996881, n_estimators=362,\n",
      "                   random_state=1)\n"
     ]
    },
    {
     "name": "stderr",
     "output_type": "stream",
     "text": [
      "c:\\Users\\howto\\AppData\\Local\\Programs\\Python\\Python310\\lib\\site-packages\\sklearn\\utils\\validation.py:1408: DataConversionWarning:\n",
      "\n",
      "A column-vector y was passed when a 1d array was expected. Please change the shape of y to (n_samples, ), for example using ravel().\n",
      "\n",
      "c:\\Users\\howto\\AppData\\Local\\Programs\\Python\\Python310\\lib\\site-packages\\sklearn\\ensemble\\_weight_boosting.py:519: FutureWarning:\n",
      "\n",
      "The parameter 'algorithm' is deprecated in 1.6 and has no effect. It will be removed in version 1.8.\n",
      "\n"
     ]
    },
    {
     "name": "stdout",
     "output_type": "stream",
     "text": [
      "AUC - ROC Score: 0.56\n",
      "Accuracy: 0.5409836065573771\n",
      "Classification report:\n",
      "              precision    recall  f1-score   support\n",
      "\n",
      "           0       0.55      0.62      0.58        63\n",
      "           1       0.53      0.46      0.49        59\n",
      "\n",
      "    accuracy                           0.54       122\n",
      "   macro avg       0.54      0.54      0.54       122\n",
      "weighted avg       0.54      0.54      0.54       122\n",
      "\n"
     ]
    }
   ],
   "source": [
    "\n",
    "feature_types = {\n",
    "    \"project_feature\": [\"num_commits\", \"project_age_days\", \"num_issues\", \"num_pull\", \n",
    "                        \"num_stargazers\", \"num_watchers\", \"num_forks\", \"num_subscribers\", \n",
    "                        \"num_contributors\", \"project_size(kB)\"],\n",
    "    \"security_practice\": [\"ssf0_Binary-Artifacts\", \"ssf1_Branch-Protection\",\n",
    "                          \"ssf3_CII-Best-Practices\", \"ssf7_Dependency-Update-Tool\",\n",
    "                          \"ssf8_Fuzzing\", \"ssf9_License\", \"ssf10_Maintained\", \"ssf13_SAST\",\n",
    "                          \"ssf17_Vulnerabilities\"],\n",
    "    \"project_quality\": ['num_sonarQube_BUG_HIGH', 'num_sonarQube_BUG_MEDIUM', 'num_sonarQube_BUG_LOW', 'num_sonarQube_BUG_BLOCKER',\n",
    "            'num_sonarQube_VULNERABILITY_HIGH', 'num_sonarQube_VULNERABILITY_MEDIUM', 'num_sonarQube_VULNERABILITY_LOW',\n",
    "            'num_sonarQube_VULNERABILITY_BLOCKER', 'num_sonarQube_CODE_SMELL_HIGH', 'num_sonarQube_CODE_SMELL_MEDIUM',\n",
    "            'num_sonarQube_CODE_SMELL_LOW', 'num_sonarQube_CODE_SMELL_BLOCKER'],\n",
    "}\n",
    "\n",
    "# Define features and target\n",
    "# เปลี่ยนฟีเจ้อจรงนี้้ 👇👇👇👇\n",
    "feature = \"project_quality\"\n",
    "# เปลี่ยนcategoryจรงนี้้ 👇👇👇👇\n",
    "cate = \"Generic policy\"\n",
    "# range of the plot\n",
    "model_range = [0, 0.2]\n",
    "model_range1 = [-0.2, 0.2]\n",
    "\n",
    "\n",
    "# Split the dataset into training and testing sets\n",
    "# X_train, X_test, y_train, y_test = train_test_split(X, y, test_size=0.3)\n",
    "X_train = pd.read_csv(f\"auto/{cate}_{feature}_X_train.csv\")\n",
    "X_test = pd.read_csv(f\"auto/{cate}_{feature}_X_test.csv\")\n",
    "y_train = pd.read_csv(f\"auto/{cate}_{feature}_y_train.csv\")\n",
    "y_test = pd.read_csv(f\"auto/{cate}_{feature}_y_test.csv\")\n",
    "        \n",
    "# Train the RandomForestClassifier with given parameters\n",
    "### Generic policy ###\n",
    "if feature == \"project_feature\" and cate == \"Generic policy\":\n",
    "    model = RandomForestClassifier(\n",
    "        max_features=1, min_samples_leaf=6, min_samples_split=7,\n",
    "        n_estimators=512, n_jobs=1, random_state=1, warm_start=True\n",
    "    )\n",
    "    model_type = \"tree\"\n",
    "elif feature == \"security_practice\" and cate == \"Generic policy\":\n",
    "    model = RandomForestClassifier(\n",
    "        bootstrap=False, max_features=1, min_samples_leaf=3,\n",
    "        min_samples_split=14, n_estimators=512, n_jobs=1,\n",
    "        random_state=1, warm_start=True\n",
    "    )\n",
    "    model_type = \"tree\"\n",
    "elif feature == \"project_quality\" and cate == \"Generic policy\":\n",
    "    model = AdaBoostClassifier(algorithm='SAMME',\n",
    "                   estimator=DecisionTreeClassifier(max_depth=10),\n",
    "                   learning_rate=0.010381491760996881, n_estimators=362,\n",
    "                   random_state=1)\n",
    "    model_type = \"ada\"\n",
    "### Reporting mechanism ###\n",
    "elif feature == \"project_feature\" and cate == \"Reporting mechanism\":\n",
    "    model = ExtraTreesClassifier(bootstrap=True, criterion='entropy', max_features=1,\n",
    "                     min_samples_split=7, n_estimators=512, n_jobs=1,\n",
    "                     random_state=1, warm_start=True)\n",
    "    model_type = \"tree\"\n",
    "elif feature == \"security_practice\" and cate == \"Reporting mechanism\":\n",
    "    model = HistGradientBoostingClassifier(early_stopping=True,\n",
    "                               l2_regularization=8.908183652101429e-05,\n",
    "                               learning_rate=0.19911994270380215,\n",
    "                               max_iter=512, max_leaf_nodes=955,\n",
    "                               min_samples_leaf=33, n_iter_no_change=2,\n",
    "                               random_state=1, validation_fraction=None,\n",
    "                               warm_start=True)\n",
    "    model_type = \"hist\"\n",
    "elif feature == \"project_quality\" and cate == \"Reporting mechanism\":\n",
    "    model = KNeighborsClassifier(n_neighbors=2, p=1, weights='distance') ####🥶🥶🥶🥶🥶\n",
    "    model_type = \"kernel\"\n",
    "### Scope of practice ###\n",
    "elif feature == \"project_feature\" and cate == \"Scope of practice\":\n",
    "    model = RandomForestClassifier(max_features=15, min_samples_leaf=5,\n",
    "                       min_samples_split=20, n_estimators=512, n_jobs=1,\n",
    "                       random_state=1, warm_start=True)\n",
    "    model_type = \"tree\"\n",
    "elif feature == \"security_practice\" and cate == \"Scope of practice\":\n",
    "    model = AdaBoostClassifier(estimator=DecisionTreeClassifier(max_depth=9),\n",
    "                   learning_rate=1.9701455892241493, n_estimators=101,\n",
    "                   random_state=1)\n",
    "    model_type = \"ada\"\n",
    "elif feature == \"project_quality\" and cate == \"Scope of practice\":\n",
    "    model = RandomForestClassifier(bootstrap=False, criterion='entropy', max_features=4,\n",
    "                       min_samples_leaf=7, n_estimators=512, n_jobs=1,\n",
    "                       random_state=1, warm_start=True)\n",
    "    model_type = \"tree\"\n",
    "### User guideline ###\n",
    "elif feature == \"project_feature\" and cate == \"User guideline\":\n",
    "    model = ExtraTreesClassifier(criterion='entropy', max_features=2, n_estimators=512,\n",
    "                     n_jobs=1, random_state=1, warm_start=True)\n",
    "    model_type = \"tree\"\n",
    "elif feature == \"security_practice\" and cate == \"User guideline\":\n",
    "    model = HistGradientBoostingClassifier(early_stopping=True,\n",
    "                               l2_regularization=0.1144885415414585,\n",
    "                               learning_rate=0.35651231429733377, \n",
    "                               max_iter=128, max_leaf_nodes=570,\n",
    "                               min_samples_leaf=52, n_iter_no_change=20,\n",
    "                               random_state=1,\n",
    "                               validation_fraction=0.26745137407982933,\n",
    "                               warm_start=True)\n",
    "    model_type = \"hist\"\n",
    "elif feature == \"project_quality\" and cate == \"User guideline\":\n",
    "    model = AdaBoostClassifier(estimator=DecisionTreeClassifier(max_depth=2),\n",
    "                   learning_rate=0.16884660398877008, n_estimators=144,\n",
    "                   random_state=1)\n",
    "    model_type = \"ada\"\n",
    "else:\n",
    "    raise ValueError(\"Invalid feature or category selection.\")\n",
    "\n",
    "print(model)\n",
    "\n",
    "model.fit(X_train, y_train)\n",
    "\n",
    "# AUC\n",
    "# Predict the probabilities for the test set\n",
    "y_probs = model.predict_proba(X_test)[:, 1]\n",
    "# Predict the classes for the test set\n",
    "y_pred = model.predict(X_test)\n",
    "\n",
    "# Calculate the AUC - ROC score\n",
    "roc_auc = roc_auc_score(y_test, y_probs) \n",
    "\n",
    "# Calculate other metrics\n",
    "accuracy = accuracy_score(y_test, y_pred)\n",
    "\n",
    "print(f\"AUC - ROC Score: {roc_auc:.2f}\")\n",
    "\n",
    "accuracy = accuracy_score(y_test, y_pred)\n",
    "report = classification_report(y_pred, y_test)\n",
    "print(f\"Accuracy: {accuracy}\")\n",
    "print(\"Classification report:\")\n",
    "print(report)"
   ]
  },
  {
   "cell_type": "markdown",
   "metadata": {},
   "source": [
    "how to read graph: https://www.aidancooper.co.uk/a-non-technical-guide-to-interpreting-shap-analyses/"
   ]
  },
  {
   "cell_type": "markdown",
   "metadata": {},
   "source": [
    "tree explainer: https://medium.com/analytics-vidhya/shap-part-3-tree-shap-3af9bcd7cd9b"
   ]
  },
  {
   "cell_type": "markdown",
   "metadata": {},
   "source": [
    "shap index 0 or 1: https://github.com/shap/shap/issues/1252"
   ]
  },
  {
   "cell_type": "markdown",
   "metadata": {},
   "source": [
    "readability shap: https://medium.com/towards-data-science/how-to-easily-customize-shap-plots-in-python-fdff9c0483f2"
   ]
  },
  {
   "cell_type": "markdown",
   "metadata": {},
   "source": [
    "TreeExplainer (Optimized for Trees)"
   ]
  },
  {
   "cell_type": "code",
   "execution_count": 12,
   "metadata": {},
   "outputs": [],
   "source": [
    "if model_type == \"tree\":\n",
    "    #### Tree explainer ####\n",
    "    explainer = shap.TreeExplainer(model)\n",
    "    shap_values_tree = explainer.shap_values(X_test)\n",
    "\n",
    "    print(\"Data in SHAP values:\")\n",
    "    print(shap_values_tree) # print data for check\n",
    "\n",
    "    print(\"-\"*40)\n",
    "    ##############################################################################################\n",
    "\n",
    "    #### TMean and Absolute ####\n",
    "    shap_df = pd.DataFrame(shap_values_tree[:, :, 1], columns=X_test.columns)\n",
    "\n",
    "    # Compute and print raw mean SHAP values\n",
    "    abs_mean_shap_raw = shap_df.abs().mean(0).sort_values(ascending=False)\n",
    "    print(\"Absolute Mean SHAP raw:\")\n",
    "    print(abs_mean_shap_raw)\n",
    "    # Compute and print raw mean SHAP values\n",
    "    mean_shap_raw = shap_df.mean(0).sort_values(ascending=False)\n",
    "    print(\"Mean SHAP raw:\")\n",
    "    print(mean_shap_raw)\n",
    "\n",
    "    print(\"-\"*40)\n",
    "    ##############################################################################################\n",
    "\n",
    "    #### Plot by SHAP ####\n",
    "    custom_cmap = mcolors.LinearSegmentedColormap.from_list(\"pink_skyblue\", [\"mediumturquoise\", \"crimson\"])#cmap\n",
    "    shap.summary_plot(shap_values_tree[:, :, 1], X_test, cmap=custom_cmap) # Create the SHAP summary plot\n",
    "    # shap.summary_plot(shap_values_tree[:, :, 1], X_test, plot_type=\"bar\", show=True)\n",
    "    ##############################################################################################\n",
    "\n",
    "    #### get data to plot by me ####\n",
    "    feature_names = X_test.columns.tolist() # Get feature names from X_test\n",
    "\n",
    "    num_samples, num_features, num_classes = shap_values_tree.shape  # Convert SHAP values to a 2D format\n",
    "    reshaped_values = shap_values_tree.reshape(num_samples, num_features * num_classes)\n",
    "\n",
    "    columns = [f\"{feature_names[i]}_Class_{j}\" for i in range(num_features) for j in range(num_classes)] # Create dynamic column names using real feature names\n",
    "\n",
    "    df = pd.DataFrame(reshaped_values, columns=columns)# Convert to DataFrame\n",
    "\n",
    "    # print(df.head()) # Display first few rows\n",
    "\n",
    "    # Select only columns corresponding to Class 1\n",
    "    class_1_columns = [col for col in columns if \"_Class_1\" in col]  # Filter Class 1 columns\n",
    "    df_class_1 = df[class_1_columns]  # Select only Class 1 SHAP values\n",
    "\n",
    "    df_class_1.columns = [col.replace(\"_Class_1\", \"\") for col in df_class_1.columns] # Rename columns to remove \"_Class_1\" suffix for clarity\n",
    "\n",
    "    # Display first few rows\n",
    "    print(df_class_1.head())\n",
    "    print(\"-\"*40)\n",
    "    ##############################################################################################\n",
    "\n",
    "    #### Plot by Me in bar ####\n",
    "    # Compute absolute mean SHAP values for correct sorting\n",
    "    df_mean = df_class_1.abs().mean(numeric_only=True).reset_index()  # Use absolute values for sorting\n",
    "    df_mean.columns = ['Feature', 'Mean |SHAP Value|']\n",
    "    df_mean = df_mean.sort_values(by=\"Mean |SHAP Value|\", ascending=True)  # Sort by absolute impact\n",
    "\n",
    "    # Compute actual mean SHAP values for correct bar coloring\n",
    "    df_signed_mean = df_class_1.mean(numeric_only=True).reset_index()\n",
    "    df_signed_mean.columns = ['Feature', 'Mean SHAP Value']\n",
    "\n",
    "    # Merge both to get proper ordering and sign information\n",
    "    df_final = df_mean.merge(df_signed_mean, on=\"Feature\")\n",
    "\n",
    "    # Assign colors: red for positive, blue for negative values\n",
    "    df_final[\"Color\"] = df_final[\"Mean SHAP Value\"].apply(lambda x: \"mediumturquoise\" if x >= 0 else \"crimson\")\n",
    "\n",
    "    # Creating the horizontal bar plot with correct order\n",
    "    fig = go.Figure()\n",
    "\n",
    "    fig.add_trace(go.Bar(\n",
    "        x=df_final[\"Mean |SHAP Value|\"],\n",
    "        y=df_final[\"Feature\"],\n",
    "        orientation='h',\n",
    "        marker=dict(color=df_final[\"Color\"]),\n",
    "        text=[f\"{v:.3f}\" for v in df_final[\"Mean |SHAP Value|\"]],  # Annotate absolute SHAP values\n",
    "        textposition=\"outside\"\n",
    "    ))\n",
    "\n",
    "    # Updating layout to match SHAP importance plot style\n",
    "    fig.update_layout(\n",
    "\n",
    "        title=f\"{cate}:{feature}\",\n",
    "        title_font_size=24,\n",
    "        xaxis_title=\"Mean SHAP Value (Average Impact on Model Output)\",\n",
    "        xaxis_title_font_size=20, \n",
    "        yaxis_title=\"Features\",\n",
    "        yaxis_title_font_size=21,\n",
    "        template=\"plotly_white\",\n",
    "        font=dict(size=18),  # Increase overall font size\n",
    "        xaxis=dict(\n",
    "            range=model_range,\n",
    "            tickfont=dict(size=18),  # Increase x-axis tick label font size\n",
    "            zeroline=True,  # Keep central reference line\n",
    "            zerolinecolor=\"black\",\n",
    "            zerolinewidth=2,\n",
    "        ),\n",
    "        yaxis=dict(\n",
    "            tickfont=dict(size=18)  # Increase y-axis tick label font size\n",
    "        ),\n",
    "        showlegend=False,  # No legend needed\n",
    "        width=1200,  # Set figure width\n",
    "        height=500,  # Set figure height\n",
    "    )\n",
    "\n",
    "    # Show the plot\n",
    "    fig.show()\n",
    "    # Ensure the \"shap\" directory exists before saving\n",
    "    directory = \"shap\"\n",
    "    os.makedirs(directory, exist_ok=True)  # Create folder if it doesn't exist\n",
    "\n",
    "    # Define save path\n",
    "    save_path = f\"{directory}/{cate}_{feature}_bar_left_plot.png\"\n",
    "\n",
    "    # Save the figure as an image\n",
    "    fig.write_image(save_path)\n",
    "    print(f\"Figure saved successfully at: {save_path}\")\n",
    "    ##############################################################################################\n",
    "\n",
    "    #### Plot tee ajarn jak dai####\n",
    "    # Compute absolute mean SHAP values for correct sorting\n",
    "    df_mean = df_class_1.abs().mean(numeric_only=True).reset_index()\n",
    "    df_mean.columns = ['Feature', 'Mean |SHAP Value|']\n",
    "    df_mean = df_mean.sort_values(by=\"Mean |SHAP Value|\", ascending=False)  # Sort by absolute impact\n",
    "\n",
    "    # Compute actual mean SHAP values for correct bar coloring\n",
    "    df_signed_mean = df_class_1.mean(numeric_only=True).reset_index()\n",
    "    df_signed_mean.columns = ['Feature', 'Mean SHAP Value']\n",
    "\n",
    "    # Merge both to get proper ordering and sign information\n",
    "    df_final = df_mean.merge(df_signed_mean, on=\"Feature\")\n",
    "\n",
    "    # Assign colors based on the sign of the SHAP value\n",
    "    df_final[\"Color\"] = df_final[\"Mean SHAP Value\"].apply(lambda x: \"mediumturquoise\" if x >= 0 else \"crimson\")\n",
    "\n",
    "    # Create the horizontal bar plot with correct order\n",
    "    fig = go.Figure()\n",
    "\n",
    "    # Adding trace for the bar chart\n",
    "    fig.add_trace(go.Bar(\n",
    "        x=df_final[\"Mean SHAP Value\"],  # Using signed SHAP values\n",
    "        y=df_final[\"Feature\"],\n",
    "        orientation='h',\n",
    "        marker=dict(color=df_final[\"Color\"]),\n",
    "        text=[f\"{v:.3f}\" for v in df_final[\"Mean SHAP Value\"]],  # Annotate actual SHAP values\n",
    "        textposition=\"outside\"\n",
    "    ))\n",
    "\n",
    "    # Update layout for a diverging bar chart\n",
    "    fig.update_layout(\n",
    "        title=f\"Impact of Features on Model Output\",\n",
    "        title_font_size=24,\n",
    "        xaxis_title=\"Mean SHAP Value (Average Impact on Model Output)\",\n",
    "        xaxis_title_font_size=20,\n",
    "        yaxis_title=\"Features\",\n",
    "        yaxis_title_font_size=21,\n",
    "        template=\"plotly_white\",\n",
    "        font=dict(size=18),  # Increase overall font size\n",
    "        xaxis=dict(\n",
    "            range=model_range1,\n",
    "            tickfont=dict(size=18),  # Increase x-axis tick label font size\n",
    "            zeroline=True,  # Keep central reference line\n",
    "            zerolinecolor=\"black\",\n",
    "            zerolinewidth=2,\n",
    "        ),\n",
    "        yaxis=dict(\n",
    "            tickfont=dict(size=18)  # Increase y-axis tick label font size\n",
    "        ),\n",
    "        showlegend=False,  # No legend needed\n",
    "        width=1200,  # Set figure width\n",
    "        height=500,  # Set figure height\n",
    "    )\n",
    "\n",
    "    # Show the plot\n",
    "    fig.show()\n",
    "\n",
    "    # Optional: Save the figure as an image\n",
    "    directory = \"shap\"\n",
    "    os.makedirs(directory, exist_ok=True)  # Create folder if it doesn't exist\n",
    "    save_path = f\"{directory}/{cate}_{feature}_diverging_shap_plot.png\"\n",
    "    fig.write_image(save_path)\n",
    "    print(f\"Figure saved successfully at: {save_path}\")\n",
    "    ##############################################################################################\n",
    "\n"
   ]
  },
  {
   "cell_type": "markdown",
   "metadata": {},
   "source": [
    "Tree: HistGradientBoost"
   ]
  },
  {
   "cell_type": "code",
   "execution_count": 13,
   "metadata": {},
   "outputs": [],
   "source": [
    "if model_type == \"hist\":\n",
    "    #### Tree explainer ####\n",
    "    explainer = shap.TreeExplainer(model)\n",
    "    shap_values_tree = explainer.shap_values(X_test)\n",
    "\n",
    "\n",
    "    # Check if SHAP values are a list (Binary classification case)\n",
    "    if isinstance(shap_values_tree, list):  \n",
    "        shap_values_tree = shap_values_tree[1]  # Use Class 1 SHAP values\n",
    "\n",
    "    # Ensure it's a NumPy array\n",
    "    shap_values_tree = np.array(shap_values_tree)\n",
    "\n",
    "    print(\"SHAP values shape:\", shap_values_tree.shape)  # Debugging\n",
    "\n",
    "    print(\"Data in SHAP values:\")\n",
    "    print(shap_values_tree)  # Print data for check\n",
    "\n",
    "    print(\"-\" * 40)\n",
    "    ##############################################################################################\n",
    "\n",
    "    #### Mean and Absolute Mean SHAP values ####\n",
    "    shap_df = pd.DataFrame(shap_values_tree, columns=X_test.columns)\n",
    "\n",
    "    # Compute absolute mean SHAP values\n",
    "    abs_mean_shap_raw = shap_df.abs().mean(0).sort_values(ascending=False)\n",
    "    print(\"Absolute Mean SHAP raw:\")\n",
    "    print(abs_mean_shap_raw)\n",
    "\n",
    "    # Compute actual mean SHAP values\n",
    "    mean_shap_raw = shap_df.mean(0).sort_values(ascending=False)\n",
    "    print(\"Mean SHAP raw:\")\n",
    "    print(mean_shap_raw)\n",
    "\n",
    "    print(\"-\" * 40)\n",
    "    ##############################################################################################\n",
    "\n",
    "    #### Plot by SHAP ####\n",
    "    custom_cmap = mcolors.LinearSegmentedColormap.from_list(\"pink_skyblue\", [\"mediumturquoise\", \"crimson\"])#cmap\n",
    "    shap.summary_plot(shap_values_tree, X_test, cmap=custom_cmap) # Create the SHAP summary plot\n",
    "\n",
    "    ##############################################################################################\n",
    "\n",
    "    #### Prepare Data for Custom Plot ####\n",
    "    feature_names = X_test.columns.tolist()  # Get feature names from X_test\n",
    "\n",
    "    # Convert SHAP values to DataFrame\n",
    "    df_class_1 = pd.DataFrame(shap_values_tree, columns=feature_names)\n",
    "\n",
    "    # Display first few rows\n",
    "    print(df_class_1.head())\n",
    "    print(\"-\" * 40)\n",
    "    ##############################################################################################\n",
    "\n",
    "    #### Plot by Me ####\n",
    "    # Compute absolute mean SHAP values for correct sorting\n",
    "    df_mean = df_class_1.abs().mean().reset_index()\n",
    "    df_mean.columns = ['Feature', 'Mean |SHAP Value|']\n",
    "    df_mean = df_mean.sort_values(by=\"Mean |SHAP Value|\", ascending=True)  # Sort by absolute impact\n",
    "\n",
    "    # Compute actual mean SHAP values for correct bar coloring\n",
    "    df_signed_mean = df_class_1.mean(numeric_only=True).reset_index()\n",
    "    df_signed_mean.columns = ['Feature', 'Mean SHAP Value']\n",
    "\n",
    "    # Merge both to get proper ordering and sign information\n",
    "    df_final = df_mean.merge(df_signed_mean, on=\"Feature\")\n",
    "\n",
    "    # Assign colors: red for positive, blue for negative values\n",
    "    df_final[\"Color\"] = df_final[\"Mean SHAP Value\"].apply(lambda x: \"mediumturquoise\" if x >= 0 else \"crimson\")\n",
    "\n",
    "    # Creating the horizontal bar plot with correct order\n",
    "    fig = go.Figure()\n",
    "\n",
    "    fig.add_trace(go.Bar(\n",
    "        x=df_final[\"Mean |SHAP Value|\"],\n",
    "        y=df_final[\"Feature\"],\n",
    "        orientation='h',\n",
    "        marker=dict(color=df_final[\"Color\"]),\n",
    "        text=[f\"{v:.3f}\" for v in df_final[\"Mean |SHAP Value|\"]],  # Annotate absolute SHAP values\n",
    "        textposition=\"outside\"\n",
    "    ))\n",
    "\n",
    "    # Updating layout to match SHAP importance plot style\n",
    "    fig.update_layout(\n",
    "\n",
    "        title=f\"{cate}:{feature}\",\n",
    "        title_font_size=24,\n",
    "        xaxis_title=\"Mean SHAP Value (Average Impact on Model Output)\",\n",
    "        xaxis_title_font_size=20, \n",
    "        yaxis_title=\"Features\",\n",
    "        yaxis_title_font_size=21,\n",
    "        template=\"plotly_white\",\n",
    "        font=dict(size=18),  # Increase overall font size\n",
    "        xaxis=dict(\n",
    "            range=model_range,\n",
    "            tickfont=dict(size=18),  # Increase x-axis tick label font size\n",
    "            zeroline=True,  # Keep central reference line\n",
    "            zerolinecolor=\"black\",\n",
    "            zerolinewidth=2,\n",
    "        ),\n",
    "        yaxis=dict(\n",
    "            tickfont=dict(size=18)  # Increase y-axis tick label font size\n",
    "        ),\n",
    "        showlegend=False,  # No legend needed\n",
    "        width=1200,  # Set figure width\n",
    "        height=500,  # Set figure height\n",
    "    )\n",
    "\n",
    "    # Show the plot\n",
    "    fig.show()\n",
    "    # Ensure the \"shap\" directory exists before saving\n",
    "    directory = \"shap\"\n",
    "    os.makedirs(directory, exist_ok=True)  # Create folder if it doesn't exist\n",
    "\n",
    "    # Define save path\n",
    "    save_path = f\"{directory}/{cate}_{feature}_bar_left_plot.png\"\n",
    "\n",
    "    # Save the figure as an image\n",
    "    fig.write_image(save_path)\n",
    "    print(f\"Figure saved successfully at: {save_path}\")\n",
    "    ##############################################################################################\n",
    "\n",
    "    #### Plot tee ajarn jak dai####\n",
    "    # Compute absolute mean SHAP values for correct sorting\n",
    "    df_mean = df_class_1.abs().mean(numeric_only=True).reset_index()\n",
    "    df_mean.columns = ['Feature', 'Mean |SHAP Value|']\n",
    "    df_mean = df_mean.sort_values(by=\"Mean |SHAP Value|\", ascending=False)  # Sort by absolute impact\n",
    "\n",
    "    # Compute actual mean SHAP values for correct bar coloring\n",
    "    df_signed_mean = df_class_1.mean(numeric_only=True).reset_index()\n",
    "    df_signed_mean.columns = ['Feature', 'Mean SHAP Value']\n",
    "\n",
    "    # Merge both to get proper ordering and sign information\n",
    "    df_final = df_mean.merge(df_signed_mean, on=\"Feature\")\n",
    "\n",
    "    # Assign colors based on the sign of the SHAP value\n",
    "    df_final[\"Color\"] = df_final[\"Mean SHAP Value\"].apply(lambda x: \"mediumturquoise\" if x >= 0 else \"crimson\")\n",
    "\n",
    "    # Create the horizontal bar plot with correct order\n",
    "    fig = go.Figure()\n",
    "\n",
    "    # Adding trace for the bar chart\n",
    "    fig.add_trace(go.Bar(\n",
    "        x=df_final[\"Mean SHAP Value\"],  # Using signed SHAP values\n",
    "        y=df_final[\"Feature\"],\n",
    "        orientation='h',\n",
    "        marker=dict(color=df_final[\"Color\"]),\n",
    "        text=[f\"{v:.3f}\" for v in df_final[\"Mean SHAP Value\"]],  # Annotate actual SHAP values\n",
    "        textposition=\"outside\"\n",
    "    ))\n",
    "\n",
    "    # Update layout for a diverging bar chart\n",
    "    fig.update_layout(\n",
    "        title=f\"Impact of Features on Model Output\",\n",
    "        title_font_size=24,\n",
    "        xaxis_title=\"Mean SHAP Value (Average Impact on Model Output)\",\n",
    "        xaxis_title_font_size=20,\n",
    "        yaxis_title=\"Features\",\n",
    "        yaxis_title_font_size=21,\n",
    "        template=\"plotly_white\",\n",
    "        font=dict(size=18),  # Increase overall font size\n",
    "        xaxis=dict(\n",
    "            range=model_range1,\n",
    "            tickfont=dict(size=18),  # Increase x-axis tick label font size\n",
    "            zeroline=True,  # Keep central reference line\n",
    "            zerolinecolor=\"black\",\n",
    "            zerolinewidth=2,\n",
    "        ),\n",
    "        yaxis=dict(\n",
    "            tickfont=dict(size=18)  # Increase y-axis tick label font size\n",
    "        ),\n",
    "        showlegend=False,  # No legend needed\n",
    "        width=1200,  # Set figure width\n",
    "        height=500,  # Set figure height\n",
    "    )\n",
    "\n",
    "    # Show the plot\n",
    "    fig.show()\n",
    "\n",
    "    # Optional: Save the figure as an image\n",
    "    directory = \"shap\"\n",
    "    os.makedirs(directory, exist_ok=True)  # Create folder if it doesn't exist\n",
    "    save_path = f\"{directory}/{cate}_{feature}_diverging_shap_plot.png\"\n",
    "    fig.write_image(save_path)\n",
    "    print(f\"Figure saved successfully at: {save_path}\")\n",
    "    ##############################################################################################\n",
    "\n"
   ]
  },
  {
   "cell_type": "markdown",
   "metadata": {},
   "source": [
    "KernelExplainer (Model-Agnostic)"
   ]
  },
  {
   "cell_type": "code",
   "execution_count": 14,
   "metadata": {},
   "outputs": [],
   "source": [
    "# # 2. KernelExplainer (Model-Agnostic)\n",
    "# kernel_explainer = shap.KernelExplainer(model.predict, X_train)  # Use a small sample for efficiency\n",
    "# shap_values_kernel = kernel_explainer.shap_values(X_test)"
   ]
  },
  {
   "cell_type": "code",
   "execution_count": 15,
   "metadata": {},
   "outputs": [],
   "source": [
    "# print(shap_values_kernel)"
   ]
  },
  {
   "cell_type": "code",
   "execution_count": 16,
   "metadata": {},
   "outputs": [],
   "source": [
    "# shap.summary_plot(shap_values_kernel, X_test)"
   ]
  },
  {
   "cell_type": "code",
   "execution_count": 17,
   "metadata": {},
   "outputs": [
    {
     "data": {
      "application/vnd.jupyter.widget-view+json": {
       "model_id": "01c4a3f128c84a37bcbffa92dd6d5a27",
       "version_major": 2,
       "version_minor": 0
      },
      "text/plain": [
       "  0%|          | 0/122 [00:00<?, ?it/s]"
      ]
     },
     "metadata": {},
     "output_type": "display_data"
    },
    {
     "name": "stdout",
     "output_type": "stream",
     "text": [
      "SHAP values shape: (122, 5)\n",
      "Data in SHAP values:\n",
      "[[-0.03333333  0.19333333  0.10666667  0.          0.23333333]\n",
      " [ 0.17        0.07        0.14333333  0.          0.11666667]\n",
      " [ 0.05       -0.3         0.14333333  0.         -0.39333333]\n",
      " [ 0.03666667 -0.53666667  0.08666667  0.         -0.08666667]\n",
      " [-0.00166667 -0.31833333 -0.105       0.         -0.075     ]\n",
      " [-0.08333333  0.15666667  0.21333333  0.          0.21333333]\n",
      " [-0.44833333  0.10166667  0.01166667  0.         -0.165     ]\n",
      " [ 0.04        0.03666667  0.44        0.         -0.01666667]\n",
      " [ 0.03166667 -0.13166667 -0.45833333  0.          0.05833333]\n",
      " [ 0.04166667  0.115       0.155       0.          0.18833333]\n",
      " [-0.18       -0.24       -0.10666667  0.          0.02666667]\n",
      " [-0.02166667  0.14833333  0.25833333  0.          0.115     ]\n",
      " [-0.03666667 -0.02333333 -0.20666667  0.         -0.23333333]\n",
      " [ 0.03666667 -0.53666667  0.08666667  0.         -0.08666667]\n",
      " [-0.00166667 -0.21166667 -0.08833333  0.         -0.19833333]\n",
      " [ 0.15666667 -0.01333333  0.13        0.          0.22666667]\n",
      " [ 0.17        0.07        0.14333333  0.          0.11666667]\n",
      " [-0.21833333  0.065      -0.34166667  0.         -0.005     ]\n",
      " [ 0.085      -0.17166667  0.265       0.          0.32166667]\n",
      " [ 0.025       0.48166667 -0.03166667  0.          0.025     ]\n",
      " [-0.00333333 -0.1        -0.19666667  0.         -0.2       ]\n",
      " [ 0.215       0.22833333 -0.02833333  0.          0.085     ]\n",
      " [ 0.01166667  0.19166667  0.345       0.         -0.04833333]\n",
      " [ 0.065      -0.22833333 -0.09833333  0.         -0.23833333]\n",
      " [-0.185      -0.005      -0.225       0.         -0.085     ]\n",
      " [-0.39833333  0.08833333 -0.225       0.          0.035     ]\n",
      " [ 0.05333333 -0.13        0.15        0.          0.42666667]\n",
      " [ 0.175       0.23166667 -0.09166667  0.          0.185     ]\n",
      " [-0.43833333  0.08833333  0.01166667  0.         -0.16166667]\n",
      " [ 0.06333333  0.15        0.43        0.         -0.14333333]\n",
      " [ 0.17833333  0.10166667  0.015       0.          0.205     ]\n",
      " [ 0.01666667 -0.24       -0.09        0.         -0.18666667]\n",
      " [ 0.05333333  0.03333333  0.37        0.          0.04333333]\n",
      " [ 0.16666667  0.14        0.00666667  0.          0.18666667]\n",
      " [ 0.025      -0.02833333 -0.29166667  0.         -0.205     ]\n",
      " [-0.41666667  0.04        0.12666667  0.         -0.25      ]\n",
      " [ 0.03333333 -0.13666667 -0.45666667  0.          0.06      ]\n",
      " [ 0.17        0.07        0.14333333  0.          0.11666667]\n",
      " [ 0.06333333  0.21666667  0.42666667  0.         -0.20666667]\n",
      " [ 0.04333333  0.03666667  0.43333333  0.         -0.01333333]\n",
      " [-0.155      -0.25833333 -0.045       0.         -0.04166667]\n",
      " [ 0.01166667 -0.03166667  0.44833333  0.          0.07166667]\n",
      " [ 0.09833333  0.07833333  0.19166667  0.          0.13166667]\n",
      " [ 0.02333333 -0.14333333 -0.41666667  0.          0.03666667]\n",
      " [ 0.025      -0.02833333 -0.29166667  0.         -0.205     ]\n",
      " [ 0.          0.28333333  0.17        0.          0.04666667]\n",
      " [-0.005      -0.23833333 -0.14166667  0.         -0.115     ]\n",
      " [-0.37333333 -0.28333333  0.19333333  0.         -0.03666667]\n",
      " [ 0.455       0.01833333  0.07833333  0.         -0.05166667]\n",
      " [-0.175      -0.06833333 -0.20166667  0.         -0.055     ]\n",
      " [ 0.17833333  0.10166667  0.015       0.          0.205     ]\n",
      " [ 0.02666667 -0.49333333  0.18666667  0.         -0.22      ]\n",
      " [ 0.045       0.02166667  0.255       0.          0.17833333]\n",
      " [ 0.62166667 -0.075       0.025       0.         -0.07166667]\n",
      " [-0.00333333 -0.24333333 -0.13333333  0.         -0.12      ]\n",
      " [-0.00666667 -0.00333333 -0.23        0.         -0.26      ]\n",
      " [ 0.          0.28333333  0.17        0.          0.04666667]\n",
      " [ 0.02666667 -0.49333333  0.18666667  0.         -0.22      ]\n",
      " [ 0.015      -0.32166667 -0.095       0.         -0.09833333]\n",
      " [ 0.07833333  0.08833333  0.11166667  0.          0.22166667]\n",
      " [ 0.00166667 -0.205      -0.21833333  0.         -0.07833333]\n",
      " [ 0.17        0.07        0.14333333  0.          0.11666667]\n",
      " [ 0.04833333  0.14166667  0.165       0.          0.145     ]\n",
      " [ 0.02333333 -0.24       -0.27333333  0.         -0.01      ]\n",
      " [ 0.05       -0.3         0.14333333  0.         -0.39333333]\n",
      " [ 0.17        0.07        0.14333333  0.          0.11666667]\n",
      " [ 0.06833333  0.08166667  0.365       0.         -0.015     ]\n",
      " [ 0.09833333  0.11166667  0.13833333  0.          0.15166667]\n",
      " [ 0.02166667  0.05833333  0.11166667  0.          0.30833333]\n",
      " [ 0.02166667  0.20833333  0.035       0.          0.235     ]\n",
      " [ 0.04833333  0.155       0.175       0.          0.12166667]\n",
      " [-0.02       -0.15333333 -0.16666667  0.         -0.16      ]\n",
      " [ 0.17        0.07        0.14333333  0.          0.11666667]\n",
      " [ 0.05033333 -0.37133333  0.08366667 -0.00466667 -0.258     ]\n",
      " [-0.41666667  0.04        0.12666667  0.         -0.25      ]\n",
      " [-0.11333333 -0.10333333 -0.24666667  0.         -0.03666667]\n",
      " [-0.43833333  0.08833333  0.01166667  0.         -0.16166667]\n",
      " [ 0.02833333 -0.15833333 -0.29833333  0.         -0.07166667]\n",
      " [ 0.19833333  0.39166667  0.12166667  0.         -0.21166667]\n",
      " [-0.43       -0.30666667  0.12        0.          0.11666667]\n",
      " [-0.14       -0.14666667  0.00666667  0.         -0.22      ]\n",
      " [ 0.17        0.07        0.14333333  0.          0.11666667]\n",
      " [ 0.06333333  0.15        0.43        0.         -0.14333333]\n",
      " [-0.32       -0.05333333 -0.06666667  0.         -0.06      ]\n",
      " [-0.13        0.13        0.49666667  0.          0.00333333]\n",
      " [ 0.07        0.27333333  0.05666667  0.          0.1       ]\n",
      " [-0.03       -0.02       -0.19333333  0.         -0.25666667]\n",
      " [ 0.17        0.07        0.14333333  0.          0.11666667]\n",
      " [-0.48        0.04333333  0.21666667  0.         -0.28      ]\n",
      " [ 0.00866667 -0.258      -0.07966667 -0.003      -0.168     ]\n",
      " [ 0.36666667  0.          0.01666667  0.          0.11666667]\n",
      " [ 0.00166667 -0.19166667 -0.17166667  0.         -0.13833333]\n",
      " [ 0.10666667  0.17666667  0.23333333  0.         -0.01666667]\n",
      " [ 0.05833333 -0.15166667  0.175       0.          0.41833333]\n",
      " [-0.00666667  0.07666667  0.24333333  0.          0.18666667]\n",
      " [-0.02166667 -0.05833333 -0.305       0.         -0.115     ]\n",
      " [-0.12833333  0.015      -0.075       0.         -0.31166667]\n",
      " [-0.02166667 -0.05833333 -0.24166667  0.         -0.17833333]\n",
      " [-0.4         0.04333333 -0.22        0.          0.07666667]\n",
      " [ 0.02333333  0.01333333 -0.22666667  0.         -0.31      ]\n",
      " [ 0.00833333 -0.31833333 -0.125       0.         -0.065     ]\n",
      " [ 0.05833333 -0.15166667  0.175       0.          0.41833333]\n",
      " [ 0.00333333 -0.03666667 -0.29        0.         -0.17666667]\n",
      " [ 0.02166667 -0.25833333 -0.14166667  0.         -0.12166667]\n",
      " [-0.02666667  0.07666667  0.25333333  0.          0.19666667]\n",
      " [-0.04833333 -0.315      -0.09833333  0.         -0.03833333]\n",
      " [ 0.02666667 -0.15333333 -0.5         0.          0.12666667]\n",
      " [ 0.08        0.14        0.03666667  0.          0.24333333]\n",
      " [ 0.03666667 -0.05        0.49666667  0.          0.01666667]\n",
      " [ 0.17        0.07        0.14333333  0.          0.11666667]\n",
      " [ 0.025      -0.02833333 -0.29166667  0.         -0.205     ]\n",
      " [ 0.025      -0.02833333 -0.29166667  0.         -0.205     ]\n",
      " [ 0.455       0.01833333  0.07833333  0.         -0.05166667]\n",
      " [-0.53666667  0.03333333  0.00333333  0.          0.        ]\n",
      " [ 0.25833333  0.04833333  0.16166667  0.          0.03166667]\n",
      " [ 0.62166667 -0.075       0.025       0.         -0.07166667]\n",
      " [ 0.075       0.15833333  0.12833333  0.          0.13833333]\n",
      " [-0.37333333 -0.28333333  0.19333333  0.         -0.03666667]\n",
      " [ 0.15166667  0.165       0.135       0.          0.04833333]\n",
      " [ 0.00833333 -0.025      -0.22166667  0.         -0.26166667]\n",
      " [ 0.00833333  0.105      -0.11166667  0.         -0.50166667]\n",
      " [ 0.00833333 -0.025      -0.22166667  0.         -0.26166667]]\n",
      "----------------------------------------\n",
      "Absolute Mean SHAP raw:\n",
      "num_sonarQube_BUG_LOW              0.183320\n",
      "num_sonarQube_CODE_SMELL_MEDIUM    0.148833\n",
      "num_sonarQube_BUG_MEDIUM           0.146320\n",
      "num_sonarQube_BUG_HIGH             0.125388\n",
      "num_sonarQube_VULNERABILITY_LOW    0.000063\n",
      "dtype: float64\n",
      "Mean SHAP raw:\n",
      "num_sonarQube_BUG_LOW              0.024746\n",
      "num_sonarQube_BUG_HIGH             0.006262\n",
      "num_sonarQube_VULNERABILITY_LOW   -0.000063\n",
      "num_sonarQube_CODE_SMELL_MEDIUM   -0.020582\n",
      "num_sonarQube_BUG_MEDIUM          -0.026757\n",
      "dtype: float64\n",
      "----------------------------------------\n"
     ]
    },
    {
     "data": {
      "image/png": "[encoded data removed]",
      "text/plain": [
       "<Figure size 800x350 with 2 Axes>"
      ]
     },
     "metadata": {},
     "output_type": "display_data"
    },
    {
     "name": "stdout",
     "output_type": "stream",
     "text": [
      "   num_sonarQube_BUG_HIGH  num_sonarQube_BUG_MEDIUM  num_sonarQube_BUG_LOW  \\\n",
      "0               -0.033333                  0.193333               0.106667   \n",
      "1                0.170000                  0.070000               0.143333   \n",
      "2                0.050000                 -0.300000               0.143333   \n",
      "3                0.036667                 -0.536667               0.086667   \n",
      "4               -0.001667                 -0.318333              -0.105000   \n",
      "\n",
      "   num_sonarQube_VULNERABILITY_LOW  num_sonarQube_CODE_SMELL_MEDIUM  \n",
      "0                              0.0                         0.233333  \n",
      "1                              0.0                         0.116667  \n",
      "2                              0.0                        -0.393333  \n",
      "3                              0.0                        -0.086667  \n",
      "4                              0.0                        -0.075000  \n",
      "----------------------------------------\n"
     ]
    },
    {
     "data": {
      "application/vnd.plotly.v1+json": {
       "config": {
        "plotlyServerURL": "https://plot.ly"
       },
       "data": [
        {
         "marker": {
          "color": [
           "crimson",
           "mediumturquoise",
           "crimson",
           "crimson",
           "mediumturquoise"
          ]
         },
         "orientation": "h",
         "text": [
          "0.000",
          "0.125",
          "0.146",
          "0.149",
          "0.183"
         ],
         "textposition": "outside",
         "type": "bar",
         "x": [
          0.00006284153005464516,
          0.12538797814207653,
          0.14631967213114766,
          0.14883333333333335,
          0.18331967213114758
         ],
         "y": [
          "num_sonarQube_VULNERABILITY_LOW",
          "num_sonarQube_BUG_HIGH",
          "num_sonarQube_BUG_MEDIUM",
          "num_sonarQube_CODE_SMELL_MEDIUM",
          "num_sonarQube_BUG_LOW"
         ]
        }
       ],
       "layout": {
        "font": {
         "size": 18
        },
        "height": 500,
        "showlegend": false,
        "template": {
         "data": {
          "bar": [
           {
            "error_x": {
             "color": "#2a3f5f"
            },
            "error_y": {
             "color": "#2a3f5f"
            },
            "marker": {
             "line": {
              "color": "white",
              "width": 0.5
             },
             "pattern": {
              "fillmode": "overlay",
              "size": 10,
              "solidity": 0.2
             }
            },
            "type": "bar"
           }
          ],
          "barpolar": [
           {
            "marker": {
             "line": {
              "color": "white",
              "width": 0.5
             },
             "pattern": {
              "fillmode": "overlay",
              "size": 10,
              "solidity": 0.2
             }
            },
            "type": "barpolar"
           }
          ],
          "carpet": [
           {
            "aaxis": {
             "endlinecolor": "#2a3f5f",
             "gridcolor": "#C8D4E3",
             "linecolor": "#C8D4E3",
             "minorgridcolor": "#C8D4E3",
             "startlinecolor": "#2a3f5f"
            },
            "baxis": {
             "endlinecolor": "#2a3f5f",
             "gridcolor": "#C8D4E3",
             "linecolor": "#C8D4E3",
             "minorgridcolor": "#C8D4E3",
             "startlinecolor": "#2a3f5f"
            },
            "type": "carpet"
           }
          ],
          "choropleth": [
           {
            "colorbar": {
             "outlinewidth": 0,
             "ticks": ""
            },
            "type": "choropleth"
           }
          ],
          "contour": [
           {
            "colorbar": {
             "outlinewidth": 0,
             "ticks": ""
            },
            "colorscale": [
             [
              0,
              "#0d0887"
             ],
             [
              0.1111111111111111,
              "#46039f"
             ],
             [
              0.2222222222222222,
              "#7201a8"
             ],
             [
              0.3333333333333333,
              "#9c179e"
             ],
             [
              0.4444444444444444,
              "#bd3786"
             ],
             [
              0.5555555555555556,
              "#d8576b"
             ],
             [
              0.6666666666666666,
              "#ed7953"
             ],
             [
              0.7777777777777778,
              "#fb9f3a"
             ],
             [
              0.8888888888888888,
              "#fdca26"
             ],
             [
              1,
              "#f0f921"
             ]
            ],
            "type": "contour"
           }
          ],
          "contourcarpet": [
           {
            "colorbar": {
             "outlinewidth": 0,
             "ticks": ""
            },
            "type": "contourcarpet"
           }
          ],
          "heatmap": [
           {
            "colorbar": {
             "outlinewidth": 0,
             "ticks": ""
            },
            "colorscale": [
             [
              0,
              "#0d0887"
             ],
             [
              0.1111111111111111,
              "#46039f"
             ],
             [
              0.2222222222222222,
              "#7201a8"
             ],
             [
              0.3333333333333333,
              "#9c179e"
             ],
             [
              0.4444444444444444,
              "#bd3786"
             ],
             [
              0.5555555555555556,
              "#d8576b"
             ],
             [
              0.6666666666666666,
              "#ed7953"
             ],
             [
              0.7777777777777778,
              "#fb9f3a"
             ],
             [
              0.8888888888888888,
              "#fdca26"
             ],
             [
              1,
              "#f0f921"
             ]
            ],
            "type": "heatmap"
           }
          ],
          "heatmapgl": [
           {
            "colorbar": {
             "outlinewidth": 0,
             "ticks": ""
            },
            "colorscale": [
             [
              0,
              "#0d0887"
             ],
             [
              0.1111111111111111,
              "#46039f"
             ],
             [
              0.2222222222222222,
              "#7201a8"
             ],
             [
              0.3333333333333333,
              "#9c179e"
             ],
             [
              0.4444444444444444,
              "#bd3786"
             ],
             [
              0.5555555555555556,
              "#d8576b"
             ],
             [
              0.6666666666666666,
              "#ed7953"
             ],
             [
              0.7777777777777778,
              "#fb9f3a"
             ],
             [
              0.8888888888888888,
              "#fdca26"
             ],
             [
              1,
              "#f0f921"
             ]
            ],
            "type": "heatmapgl"
           }
          ],
          "histogram": [
           {
            "marker": {
             "pattern": {
              "fillmode": "overlay",
              "size": 10,
              "solidity": 0.2
             }
            },
            "type": "histogram"
           }
          ],
          "histogram2d": [
           {
            "colorbar": {
             "outlinewidth": 0,
             "ticks": ""
            },
            "colorscale": [
             [
              0,
              "#0d0887"
             ],
             [
              0.1111111111111111,
              "#46039f"
             ],
             [
              0.2222222222222222,
              "#7201a8"
             ],
             [
              0.3333333333333333,
              "#9c179e"
             ],
             [
              0.4444444444444444,
              "#bd3786"
             ],
             [
              0.5555555555555556,
              "#d8576b"
             ],
             [
              0.6666666666666666,
              "#ed7953"
             ],
             [
              0.7777777777777778,
              "#fb9f3a"
             ],
             [
              0.8888888888888888,
              "#fdca26"
             ],
             [
              1,
              "#f0f921"
             ]
            ],
            "type": "histogram2d"
           }
          ],
          "histogram2dcontour": [
           {
            "colorbar": {
             "outlinewidth": 0,
             "ticks": ""
            },
            "colorscale": [
             [
              0,
              "#0d0887"
             ],
             [
              0.1111111111111111,
              "#46039f"
             ],
             [
              0.2222222222222222,
              "#7201a8"
             ],
             [
              0.3333333333333333,
              "#9c179e"
             ],
             [
              0.4444444444444444,
              "#bd3786"
             ],
             [
              0.5555555555555556,
              "#d8576b"
             ],
             [
              0.6666666666666666,
              "#ed7953"
             ],
             [
              0.7777777777777778,
              "#fb9f3a"
             ],
             [
              0.8888888888888888,
              "#fdca26"
             ],
             [
              1,
              "#f0f921"
             ]
            ],
            "type": "histogram2dcontour"
           }
          ],
          "mesh3d": [
           {
            "colorbar": {
             "outlinewidth": 0,
             "ticks": ""
            },
            "type": "mesh3d"
           }
          ],
          "parcoords": [
           {
            "line": {
             "colorbar": {
              "outlinewidth": 0,
              "ticks": ""
             }
            },
            "type": "parcoords"
           }
          ],
          "pie": [
           {
            "automargin": true,
            "type": "pie"
           }
          ],
          "scatter": [
           {
            "fillpattern": {
             "fillmode": "overlay",
             "size": 10,
             "solidity": 0.2
            },
            "type": "scatter"
           }
          ],
          "scatter3d": [
           {
            "line": {
             "colorbar": {
              "outlinewidth": 0,
              "ticks": ""
             }
            },
            "marker": {
             "colorbar": {
              "outlinewidth": 0,
              "ticks": ""
             }
            },
            "type": "scatter3d"
           }
          ],
          "scattercarpet": [
           {
            "marker": {
             "colorbar": {
              "outlinewidth": 0,
              "ticks": ""
             }
            },
            "type": "scattercarpet"
           }
          ],
          "scattergeo": [
           {
            "marker": {
             "colorbar": {
              "outlinewidth": 0,
              "ticks": ""
             }
            },
            "type": "scattergeo"
           }
          ],
          "scattergl": [
           {
            "marker": {
             "colorbar": {
              "outlinewidth": 0,
              "ticks": ""
             }
            },
            "type": "scattergl"
           }
          ],
          "scattermapbox": [
           {
            "marker": {
             "colorbar": {
              "outlinewidth": 0,
              "ticks": ""
             }
            },
            "type": "scattermapbox"
           }
          ],
          "scatterpolar": [
           {
            "marker": {
             "colorbar": {
              "outlinewidth": 0,
              "ticks": ""
             }
            },
            "type": "scatterpolar"
           }
          ],
          "scatterpolargl": [
           {
            "marker": {
             "colorbar": {
              "outlinewidth": 0,
              "ticks": ""
             }
            },
            "type": "scatterpolargl"
           }
          ],
          "scatterternary": [
           {
            "marker": {
             "colorbar": {
              "outlinewidth": 0,
              "ticks": ""
             }
            },
            "type": "scatterternary"
           }
          ],
          "surface": [
           {
            "colorbar": {
             "outlinewidth": 0,
             "ticks": ""
            },
            "colorscale": [
             [
              0,
              "#0d0887"
             ],
             [
              0.1111111111111111,
              "#46039f"
             ],
             [
              0.2222222222222222,
              "#7201a8"
             ],
             [
              0.3333333333333333,
              "#9c179e"
             ],
             [
              0.4444444444444444,
              "#bd3786"
             ],
             [
              0.5555555555555556,
              "#d8576b"
             ],
             [
              0.6666666666666666,
              "#ed7953"
             ],
             [
              0.7777777777777778,
              "#fb9f3a"
             ],
             [
              0.8888888888888888,
              "#fdca26"
             ],
             [
              1,
              "#f0f921"
             ]
            ],
            "type": "surface"
           }
          ],
          "table": [
           {
            "cells": {
             "fill": {
              "color": "#EBF0F8"
             },
             "line": {
              "color": "white"
             }
            },
            "header": {
             "fill": {
              "color": "#C8D4E3"
             },
             "line": {
              "color": "white"
             }
            },
            "type": "table"
           }
          ]
         },
         "layout": {
          "annotationdefaults": {
           "arrowcolor": "#2a3f5f",
           "arrowhead": 0,
           "arrowwidth": 1
          },
          "autotypenumbers": "strict",
          "coloraxis": {
           "colorbar": {
            "outlinewidth": 0,
            "ticks": ""
           }
          },
          "colorscale": {
           "diverging": [
            [
             0,
             "#8e0152"
            ],
            [
             0.1,
             "#c51b7d"
            ],
            [
             0.2,
             "#de77ae"
            ],
            [
             0.3,
             "#f1b6da"
            ],
            [
             0.4,
             "#fde0ef"
            ],
            [
             0.5,
             "#f7f7f7"
            ],
            [
             0.6,
             "#e6f5d0"
            ],
            [
             0.7,
             "#b8e186"
            ],
            [
             0.8,
             "#7fbc41"
            ],
            [
             0.9,
             "#4d9221"
            ],
            [
             1,
             "#276419"
            ]
           ],
           "sequential": [
            [
             0,
             "#0d0887"
            ],
            [
             0.1111111111111111,
             "#46039f"
            ],
            [
             0.2222222222222222,
             "#7201a8"
            ],
            [
             0.3333333333333333,
             "#9c179e"
            ],
            [
             0.4444444444444444,
             "#bd3786"
            ],
            [
             0.5555555555555556,
             "#d8576b"
            ],
            [
             0.6666666666666666,
             "#ed7953"
            ],
            [
             0.7777777777777778,
             "#fb9f3a"
            ],
            [
             0.8888888888888888,
             "#fdca26"
            ],
            [
             1,
             "#f0f921"
            ]
           ],
           "sequentialminus": [
            [
             0,
             "#0d0887"
            ],
            [
             0.1111111111111111,
             "#46039f"
            ],
            [
             0.2222222222222222,
             "#7201a8"
            ],
            [
             0.3333333333333333,
             "#9c179e"
            ],
            [
             0.4444444444444444,
             "#bd3786"
            ],
            [
             0.5555555555555556,
             "#d8576b"
            ],
            [
             0.6666666666666666,
             "#ed7953"
            ],
            [
             0.7777777777777778,
             "#fb9f3a"
            ],
            [
             0.8888888888888888,
             "#fdca26"
            ],
            [
             1,
             "#f0f921"
            ]
           ]
          },
          "colorway": [
           "#636efa",
           "#EF553B",
           "#00cc96",
           "#ab63fa",
           "#FFA15A",
           "#19d3f3",
           "#FF6692",
           "#B6E880",
           "#FF97FF",
           "#FECB52"
          ],
          "font": {
           "color": "#2a3f5f"
          },
          "geo": {
           "bgcolor": "white",
           "lakecolor": "white",
           "landcolor": "white",
           "showlakes": true,
           "showland": true,
           "subunitcolor": "#C8D4E3"
          },
          "hoverlabel": {
           "align": "left"
          },
          "hovermode": "closest",
          "mapbox": {
           "style": "light"
          },
          "paper_bgcolor": "white",
          "plot_bgcolor": "white",
          "polar": {
           "angularaxis": {
            "gridcolor": "#EBF0F8",
            "linecolor": "#EBF0F8",
            "ticks": ""
           },
           "bgcolor": "white",
           "radialaxis": {
            "gridcolor": "#EBF0F8",
            "linecolor": "#EBF0F8",
            "ticks": ""
           }
          },
          "scene": {
           "xaxis": {
            "backgroundcolor": "white",
            "gridcolor": "#DFE8F3",
            "gridwidth": 2,
            "linecolor": "#EBF0F8",
            "showbackground": true,
            "ticks": "",
            "zerolinecolor": "#EBF0F8"
           },
           "yaxis": {
            "backgroundcolor": "white",
            "gridcolor": "#DFE8F3",
            "gridwidth": 2,
            "linecolor": "#EBF0F8",
            "showbackground": true,
            "ticks": "",
            "zerolinecolor": "#EBF0F8"
           },
           "zaxis": {
            "backgroundcolor": "white",
            "gridcolor": "#DFE8F3",
            "gridwidth": 2,
            "linecolor": "#EBF0F8",
            "showbackground": true,
            "ticks": "",
            "zerolinecolor": "#EBF0F8"
           }
          },
          "shapedefaults": {
           "line": {
            "color": "#2a3f5f"
           }
          },
          "ternary": {
           "aaxis": {
            "gridcolor": "#DFE8F3",
            "linecolor": "#A2B1C6",
            "ticks": ""
           },
           "baxis": {
            "gridcolor": "#DFE8F3",
            "linecolor": "#A2B1C6",
            "ticks": ""
           },
           "bgcolor": "white",
           "caxis": {
            "gridcolor": "#DFE8F3",
            "linecolor": "#A2B1C6",
            "ticks": ""
           }
          },
          "title": {
           "x": 0.05
          },
          "xaxis": {
           "automargin": true,
           "gridcolor": "#EBF0F8",
           "linecolor": "#EBF0F8",
           "ticks": "",
           "title": {
            "standoff": 15
           },
           "zerolinecolor": "#EBF0F8",
           "zerolinewidth": 2
          },
          "yaxis": {
           "automargin": true,
           "gridcolor": "#EBF0F8",
           "linecolor": "#EBF0F8",
           "ticks": "",
           "title": {
            "standoff": 15
           },
           "zerolinecolor": "#EBF0F8",
           "zerolinewidth": 2
          }
         }
        },
        "title": {
         "font": {
          "size": 24
         },
         "text": "Generic policy:project_quality"
        },
        "width": 1200,
        "xaxis": {
         "range": [
          0,
          0.2
         ],
         "tickfont": {
          "size": 18
         },
         "title": {
          "font": {
           "size": 20
          },
          "text": "Mean SHAP Value (Average Impact on Model Output)"
         },
         "zeroline": true,
         "zerolinecolor": "black",
         "zerolinewidth": 2
        },
        "yaxis": {
         "tickfont": {
          "size": 18
         },
         "title": {
          "font": {
           "size": 21
          },
          "text": "Features"
         }
        }
       }
      }
     },
     "metadata": {},
     "output_type": "display_data"
    }
   ],
   "source": [
    "if model_type == \"kernel\" or model_type == \"ada\":\n",
    "    #### Kernel Explainer ####\n",
    "    background = X_train.sample(n=50, random_state=42)  # Sample background data for SHAP\n",
    "    explainer = shap.KernelExplainer(model.predict, background)\n",
    "    shap_values_kernel = explainer.shap_values(X_test, nsamples=100)\n",
    "\n",
    "    # Ensure SHAP values are a NumPy array\n",
    "    shap_values_kernel = np.array(shap_values_kernel)\n",
    "\n",
    "    print(\"SHAP values shape:\", shap_values_kernel.shape)  # Debugging\n",
    "    print(\"Data in SHAP values:\")\n",
    "    print(shap_values_kernel)  # Print data for check\n",
    "    print(\"-\" * 40)\n",
    "    ##############################################################################################\n",
    "\n",
    "    #### Mean and Absolute Mean SHAP values ####\n",
    "    shap_df = pd.DataFrame(shap_values_kernel, columns=X_test.columns)\n",
    "\n",
    "    # Compute absolute mean SHAP values\n",
    "    abs_mean_shap_raw = shap_df.abs().mean(0).sort_values(ascending=False)\n",
    "    print(\"Absolute Mean SHAP raw:\")\n",
    "    print(abs_mean_shap_raw)\n",
    "\n",
    "    # Compute actual mean SHAP values\n",
    "    mean_shap_raw = shap_df.mean(0).sort_values(ascending=False)\n",
    "    print(\"Mean SHAP raw:\")\n",
    "    print(mean_shap_raw)\n",
    "    print(\"-\" * 40)\n",
    "    ##############################################################################################\n",
    "\n",
    "    #### Plot by SHAP ####\n",
    "    custom_cmap = mcolors.LinearSegmentedColormap.from_list(\"pink_skyblue\", [\"mediumturquoise\", \"crimson\"])\n",
    "    shap.summary_plot(shap_values_kernel, X_test, cmap=custom_cmap)  # Create the SHAP summary plot\n",
    "\n",
    "    ##############################################################################################\n",
    "\n",
    "    #### Prepare Data for Custom Plot ####\n",
    "    feature_names = X_test.columns.tolist()  # Get feature names from X_test\n",
    "    df_class_1 = pd.DataFrame(shap_values_kernel, columns=feature_names)\n",
    "\n",
    "    # Display first few rows\n",
    "    print(df_class_1.head())\n",
    "    print(\"-\" * 40)\n",
    "    ##############################################################################################\n",
    "\n",
    "    #### Plot by Me ####\n",
    "    # Compute absolute mean SHAP values for correct sorting\n",
    "    df_mean = df_class_1.abs().mean().reset_index()\n",
    "    df_mean.columns = ['Feature', 'Mean |SHAP Value|']\n",
    "    df_mean = df_mean.sort_values(by=\"Mean |SHAP Value|\", ascending=True)\n",
    "\n",
    "    # Compute actual mean SHAP values for correct bar coloring\n",
    "    df_signed_mean = df_class_1.mean(numeric_only=True).reset_index()\n",
    "    df_signed_mean.columns = ['Feature', 'Mean SHAP Value']\n",
    "\n",
    "    # Merge both to get proper ordering and sign information\n",
    "    df_final = df_mean.merge(df_signed_mean, on=\"Feature\")\n",
    "\n",
    "    # Assign colors: red for positive, blue for negative values\n",
    "    df_final[\"Color\"] = df_final[\"Mean SHAP Value\"].apply(lambda x: \"mediumturquoise\" if x >= 0 else \"crimson\")\n",
    "\n",
    "    # Creating the horizontal bar plot with correct order\n",
    "    fig = go.Figure()\n",
    "    fig.add_trace(go.Bar(\n",
    "        x=df_final[\"Mean |SHAP Value|\"],\n",
    "        y=df_final[\"Feature\"],\n",
    "        orientation='h',\n",
    "        marker=dict(color=df_final[\"Color\"]),\n",
    "        text=[f\"{v:.3f}\" for v in df_final[\"Mean |SHAP Value|\"]],  # Annotate absolute SHAP values\n",
    "        textposition=\"outside\"\n",
    "    ))\n",
    "\n",
    "    # Updating layout to match SHAP importance plot style\n",
    "    fig.update_layout(\n",
    "        title=f\"{cate}:{feature}\",\n",
    "        title_font_size=24,\n",
    "        xaxis_title=\"Mean SHAP Value (Average Impact on Model Output)\",\n",
    "        xaxis_title_font_size=20,\n",
    "        yaxis_title=\"Features\",\n",
    "        yaxis_title_font_size=21,\n",
    "        template=\"plotly_white\",\n",
    "        font=dict(size=18),\n",
    "        xaxis=dict(\n",
    "            range=model_range,\n",
    "            tickfont=dict(size=18),\n",
    "            zeroline=True,  # Keep central reference line\n",
    "            zerolinecolor=\"black\",\n",
    "            zerolinewidth=2,\n",
    "        ),\n",
    "        yaxis=dict(\n",
    "            tickfont=dict(size=18)\n",
    "        ),\n",
    "        showlegend=False,\n",
    "        width=1200,\n",
    "        height=500,\n",
    "    )\n",
    "\n",
    "    # Show the plot\n",
    "    fig.show()\n",
    "\n",
    "    # Ensure the \"shap\" directory exists before saving\n",
    "    # directory = \"shap\"\n",
    "    # os.makedirs(directory, exist_ok=True)\n",
    "\n",
    "    # # Define save path\n",
    "    # save_path = f\"{directory}/{cate}_{feature}_bar_left_plot.png\"\n",
    "\n",
    "    # # Save the figure as an image\n",
    "    # fig.write_image(save_path)\n",
    "    # print(f\"Figure saved successfully at: {save_path}\")\n",
    "    ##############################################################################################"
   ]
  },
  {
   "cell_type": "code",
   "execution_count": 29,
   "metadata": {},
   "outputs": [
    {
     "data": {
      "application/vnd.plotly.v1+json": {
       "config": {
        "plotlyServerURL": "https://plot.ly"
       },
       "data": [
        {
         "marker": {
          "color": [
           "crimson",
           "mediumturquoise",
           "crimson",
           "crimson",
           "mediumturquoise"
          ]
         },
         "orientation": "h",
         "text": [
          "0.000",
          "0.125",
          "0.146",
          "0.149",
          "0.183"
         ],
         "textfont": {
          "size": 16
         },
         "textposition": "outside",
         "type": "bar",
         "x": [
          -0.00006284153005464516,
          0.12538797814207653,
          -0.14631967213114766,
          -0.14883333333333335,
          0.18331967213114758
         ],
         "y": [
          "num_sonarQube_VULNERABILITY_LOW",
          "num_sonarQube_BUG_HIGH",
          "num_sonarQube_BUG_MEDIUM",
          "num_sonarQube_CODE_SMELL_MEDIUM",
          "num_sonarQube_BUG_LOW"
         ]
        }
       ],
       "layout": {
        "font": {
         "size": 18
        },
        "height": 600,
        "margin": {
         "b": 50,
         "l": 200,
         "r": 50,
         "t": 50
        },
        "showlegend": false,
        "template": {
         "data": {
          "bar": [
           {
            "error_x": {
             "color": "#2a3f5f"
            },
            "error_y": {
             "color": "#2a3f5f"
            },
            "marker": {
             "line": {
              "color": "white",
              "width": 0.5
             },
             "pattern": {
              "fillmode": "overlay",
              "size": 10,
              "solidity": 0.2
             }
            },
            "type": "bar"
           }
          ],
          "barpolar": [
           {
            "marker": {
             "line": {
              "color": "white",
              "width": 0.5
             },
             "pattern": {
              "fillmode": "overlay",
              "size": 10,
              "solidity": 0.2
             }
            },
            "type": "barpolar"
           }
          ],
          "carpet": [
           {
            "aaxis": {
             "endlinecolor": "#2a3f5f",
             "gridcolor": "#C8D4E3",
             "linecolor": "#C8D4E3",
             "minorgridcolor": "#C8D4E3",
             "startlinecolor": "#2a3f5f"
            },
            "baxis": {
             "endlinecolor": "#2a3f5f",
             "gridcolor": "#C8D4E3",
             "linecolor": "#C8D4E3",
             "minorgridcolor": "#C8D4E3",
             "startlinecolor": "#2a3f5f"
            },
            "type": "carpet"
           }
          ],
          "choropleth": [
           {
            "colorbar": {
             "outlinewidth": 0,
             "ticks": ""
            },
            "type": "choropleth"
           }
          ],
          "contour": [
           {
            "colorbar": {
             "outlinewidth": 0,
             "ticks": ""
            },
            "colorscale": [
             [
              0,
              "#0d0887"
             ],
             [
              0.1111111111111111,
              "#46039f"
             ],
             [
              0.2222222222222222,
              "#7201a8"
             ],
             [
              0.3333333333333333,
              "#9c179e"
             ],
             [
              0.4444444444444444,
              "#bd3786"
             ],
             [
              0.5555555555555556,
              "#d8576b"
             ],
             [
              0.6666666666666666,
              "#ed7953"
             ],
             [
              0.7777777777777778,
              "#fb9f3a"
             ],
             [
              0.8888888888888888,
              "#fdca26"
             ],
             [
              1,
              "#f0f921"
             ]
            ],
            "type": "contour"
           }
          ],
          "contourcarpet": [
           {
            "colorbar": {
             "outlinewidth": 0,
             "ticks": ""
            },
            "type": "contourcarpet"
           }
          ],
          "heatmap": [
           {
            "colorbar": {
             "outlinewidth": 0,
             "ticks": ""
            },
            "colorscale": [
             [
              0,
              "#0d0887"
             ],
             [
              0.1111111111111111,
              "#46039f"
             ],
             [
              0.2222222222222222,
              "#7201a8"
             ],
             [
              0.3333333333333333,
              "#9c179e"
             ],
             [
              0.4444444444444444,
              "#bd3786"
             ],
             [
              0.5555555555555556,
              "#d8576b"
             ],
             [
              0.6666666666666666,
              "#ed7953"
             ],
             [
              0.7777777777777778,
              "#fb9f3a"
             ],
             [
              0.8888888888888888,
              "#fdca26"
             ],
             [
              1,
              "#f0f921"
             ]
            ],
            "type": "heatmap"
           }
          ],
          "heatmapgl": [
           {
            "colorbar": {
             "outlinewidth": 0,
             "ticks": ""
            },
            "colorscale": [
             [
              0,
              "#0d0887"
             ],
             [
              0.1111111111111111,
              "#46039f"
             ],
             [
              0.2222222222222222,
              "#7201a8"
             ],
             [
              0.3333333333333333,
              "#9c179e"
             ],
             [
              0.4444444444444444,
              "#bd3786"
             ],
             [
              0.5555555555555556,
              "#d8576b"
             ],
             [
              0.6666666666666666,
              "#ed7953"
             ],
             [
              0.7777777777777778,
              "#fb9f3a"
             ],
             [
              0.8888888888888888,
              "#fdca26"
             ],
             [
              1,
              "#f0f921"
             ]
            ],
            "type": "heatmapgl"
           }
          ],
          "histogram": [
           {
            "marker": {
             "pattern": {
              "fillmode": "overlay",
              "size": 10,
              "solidity": 0.2
             }
            },
            "type": "histogram"
           }
          ],
          "histogram2d": [
           {
            "colorbar": {
             "outlinewidth": 0,
             "ticks": ""
            },
            "colorscale": [
             [
              0,
              "#0d0887"
             ],
             [
              0.1111111111111111,
              "#46039f"
             ],
             [
              0.2222222222222222,
              "#7201a8"
             ],
             [
              0.3333333333333333,
              "#9c179e"
             ],
             [
              0.4444444444444444,
              "#bd3786"
             ],
             [
              0.5555555555555556,
              "#d8576b"
             ],
             [
              0.6666666666666666,
              "#ed7953"
             ],
             [
              0.7777777777777778,
              "#fb9f3a"
             ],
             [
              0.8888888888888888,
              "#fdca26"
             ],
             [
              1,
              "#f0f921"
             ]
            ],
            "type": "histogram2d"
           }
          ],
          "histogram2dcontour": [
           {
            "colorbar": {
             "outlinewidth": 0,
             "ticks": ""
            },
            "colorscale": [
             [
              0,
              "#0d0887"
             ],
             [
              0.1111111111111111,
              "#46039f"
             ],
             [
              0.2222222222222222,
              "#7201a8"
             ],
             [
              0.3333333333333333,
              "#9c179e"
             ],
             [
              0.4444444444444444,
              "#bd3786"
             ],
             [
              0.5555555555555556,
              "#d8576b"
             ],
             [
              0.6666666666666666,
              "#ed7953"
             ],
             [
              0.7777777777777778,
              "#fb9f3a"
             ],
             [
              0.8888888888888888,
              "#fdca26"
             ],
             [
              1,
              "#f0f921"
             ]
            ],
            "type": "histogram2dcontour"
           }
          ],
          "mesh3d": [
           {
            "colorbar": {
             "outlinewidth": 0,
             "ticks": ""
            },
            "type": "mesh3d"
           }
          ],
          "parcoords": [
           {
            "line": {
             "colorbar": {
              "outlinewidth": 0,
              "ticks": ""
             }
            },
            "type": "parcoords"
           }
          ],
          "pie": [
           {
            "automargin": true,
            "type": "pie"
           }
          ],
          "scatter": [
           {
            "fillpattern": {
             "fillmode": "overlay",
             "size": 10,
             "solidity": 0.2
            },
            "type": "scatter"
           }
          ],
          "scatter3d": [
           {
            "line": {
             "colorbar": {
              "outlinewidth": 0,
              "ticks": ""
             }
            },
            "marker": {
             "colorbar": {
              "outlinewidth": 0,
              "ticks": ""
             }
            },
            "type": "scatter3d"
           }
          ],
          "scattercarpet": [
           {
            "marker": {
             "colorbar": {
              "outlinewidth": 0,
              "ticks": ""
             }
            },
            "type": "scattercarpet"
           }
          ],
          "scattergeo": [
           {
            "marker": {
             "colorbar": {
              "outlinewidth": 0,
              "ticks": ""
             }
            },
            "type": "scattergeo"
           }
          ],
          "scattergl": [
           {
            "marker": {
             "colorbar": {
              "outlinewidth": 0,
              "ticks": ""
             }
            },
            "type": "scattergl"
           }
          ],
          "scattermapbox": [
           {
            "marker": {
             "colorbar": {
              "outlinewidth": 0,
              "ticks": ""
             }
            },
            "type": "scattermapbox"
           }
          ],
          "scatterpolar": [
           {
            "marker": {
             "colorbar": {
              "outlinewidth": 0,
              "ticks": ""
             }
            },
            "type": "scatterpolar"
           }
          ],
          "scatterpolargl": [
           {
            "marker": {
             "colorbar": {
              "outlinewidth": 0,
              "ticks": ""
             }
            },
            "type": "scatterpolargl"
           }
          ],
          "scatterternary": [
           {
            "marker": {
             "colorbar": {
              "outlinewidth": 0,
              "ticks": ""
             }
            },
            "type": "scatterternary"
           }
          ],
          "surface": [
           {
            "colorbar": {
             "outlinewidth": 0,
             "ticks": ""
            },
            "colorscale": [
             [
              0,
              "#0d0887"
             ],
             [
              0.1111111111111111,
              "#46039f"
             ],
             [
              0.2222222222222222,
              "#7201a8"
             ],
             [
              0.3333333333333333,
              "#9c179e"
             ],
             [
              0.4444444444444444,
              "#bd3786"
             ],
             [
              0.5555555555555556,
              "#d8576b"
             ],
             [
              0.6666666666666666,
              "#ed7953"
             ],
             [
              0.7777777777777778,
              "#fb9f3a"
             ],
             [
              0.8888888888888888,
              "#fdca26"
             ],
             [
              1,
              "#f0f921"
             ]
            ],
            "type": "surface"
           }
          ],
          "table": [
           {
            "cells": {
             "fill": {
              "color": "#EBF0F8"
             },
             "line": {
              "color": "white"
             }
            },
            "header": {
             "fill": {
              "color": "#C8D4E3"
             },
             "line": {
              "color": "white"
             }
            },
            "type": "table"
           }
          ]
         },
         "layout": {
          "annotationdefaults": {
           "arrowcolor": "#2a3f5f",
           "arrowhead": 0,
           "arrowwidth": 1
          },
          "autotypenumbers": "strict",
          "coloraxis": {
           "colorbar": {
            "outlinewidth": 0,
            "ticks": ""
           }
          },
          "colorscale": {
           "diverging": [
            [
             0,
             "#8e0152"
            ],
            [
             0.1,
             "#c51b7d"
            ],
            [
             0.2,
             "#de77ae"
            ],
            [
             0.3,
             "#f1b6da"
            ],
            [
             0.4,
             "#fde0ef"
            ],
            [
             0.5,
             "#f7f7f7"
            ],
            [
             0.6,
             "#e6f5d0"
            ],
            [
             0.7,
             "#b8e186"
            ],
            [
             0.8,
             "#7fbc41"
            ],
            [
             0.9,
             "#4d9221"
            ],
            [
             1,
             "#276419"
            ]
           ],
           "sequential": [
            [
             0,
             "#0d0887"
            ],
            [
             0.1111111111111111,
             "#46039f"
            ],
            [
             0.2222222222222222,
             "#7201a8"
            ],
            [
             0.3333333333333333,
             "#9c179e"
            ],
            [
             0.4444444444444444,
             "#bd3786"
            ],
            [
             0.5555555555555556,
             "#d8576b"
            ],
            [
             0.6666666666666666,
             "#ed7953"
            ],
            [
             0.7777777777777778,
             "#fb9f3a"
            ],
            [
             0.8888888888888888,
             "#fdca26"
            ],
            [
             1,
             "#f0f921"
            ]
           ],
           "sequentialminus": [
            [
             0,
             "#0d0887"
            ],
            [
             0.1111111111111111,
             "#46039f"
            ],
            [
             0.2222222222222222,
             "#7201a8"
            ],
            [
             0.3333333333333333,
             "#9c179e"
            ],
            [
             0.4444444444444444,
             "#bd3786"
            ],
            [
             0.5555555555555556,
             "#d8576b"
            ],
            [
             0.6666666666666666,
             "#ed7953"
            ],
            [
             0.7777777777777778,
             "#fb9f3a"
            ],
            [
             0.8888888888888888,
             "#fdca26"
            ],
            [
             1,
             "#f0f921"
            ]
           ]
          },
          "colorway": [
           "#636efa",
           "#EF553B",
           "#00cc96",
           "#ab63fa",
           "#FFA15A",
           "#19d3f3",
           "#FF6692",
           "#B6E880",
           "#FF97FF",
           "#FECB52"
          ],
          "font": {
           "color": "#2a3f5f"
          },
          "geo": {
           "bgcolor": "white",
           "lakecolor": "white",
           "landcolor": "white",
           "showlakes": true,
           "showland": true,
           "subunitcolor": "#C8D4E3"
          },
          "hoverlabel": {
           "align": "left"
          },
          "hovermode": "closest",
          "mapbox": {
           "style": "light"
          },
          "paper_bgcolor": "white",
          "plot_bgcolor": "white",
          "polar": {
           "angularaxis": {
            "gridcolor": "#EBF0F8",
            "linecolor": "#EBF0F8",
            "ticks": ""
           },
           "bgcolor": "white",
           "radialaxis": {
            "gridcolor": "#EBF0F8",
            "linecolor": "#EBF0F8",
            "ticks": ""
           }
          },
          "scene": {
           "xaxis": {
            "backgroundcolor": "white",
            "gridcolor": "#DFE8F3",
            "gridwidth": 2,
            "linecolor": "#EBF0F8",
            "showbackground": true,
            "ticks": "",
            "zerolinecolor": "#EBF0F8"
           },
           "yaxis": {
            "backgroundcolor": "white",
            "gridcolor": "#DFE8F3",
            "gridwidth": 2,
            "linecolor": "#EBF0F8",
            "showbackground": true,
            "ticks": "",
            "zerolinecolor": "#EBF0F8"
           },
           "zaxis": {
            "backgroundcolor": "white",
            "gridcolor": "#DFE8F3",
            "gridwidth": 2,
            "linecolor": "#EBF0F8",
            "showbackground": true,
            "ticks": "",
            "zerolinecolor": "#EBF0F8"
           }
          },
          "shapedefaults": {
           "line": {
            "color": "#2a3f5f"
           }
          },
          "ternary": {
           "aaxis": {
            "gridcolor": "#DFE8F3",
            "linecolor": "#A2B1C6",
            "ticks": ""
           },
           "baxis": {
            "gridcolor": "#DFE8F3",
            "linecolor": "#A2B1C6",
            "ticks": ""
           },
           "bgcolor": "white",
           "caxis": {
            "gridcolor": "#DFE8F3",
            "linecolor": "#A2B1C6",
            "ticks": ""
           }
          },
          "title": {
           "x": 0.05
          },
          "xaxis": {
           "automargin": true,
           "gridcolor": "#EBF0F8",
           "linecolor": "#EBF0F8",
           "ticks": "",
           "title": {
            "standoff": 15
           },
           "zerolinecolor": "#EBF0F8",
           "zerolinewidth": 2
          },
          "yaxis": {
           "automargin": true,
           "gridcolor": "#EBF0F8",
           "linecolor": "#EBF0F8",
           "ticks": "",
           "title": {
            "standoff": 15
           },
           "zerolinecolor": "#EBF0F8",
           "zerolinewidth": 2
          }
         }
        },
        "title": {
         "font": {
          "size": 24
         },
         "text": "Generic policy:project_quality"
        },
        "width": 1400,
        "xaxis": {
         "range": [
          -0.2199836065573771,
          0.2199836065573771
         ],
         "tickfont": {
          "size": 18
         },
         "title": {
          "font": {
           "size": 20
          },
          "text": "Mean SHAP Value (Average Impact on Model Output)"
         },
         "zeroline": true,
         "zerolinecolor": "black",
         "zerolinewidth": 2
        },
        "yaxis": {
         "automargin": true,
         "tickfont": {
          "size": 18
         },
         "title": {
          "font": {
           "size": 21
          },
          "text": "Features"
         }
        }
       }
      }
     },
     "metadata": {},
     "output_type": "display_data"
    }
   ],
   "source": [
    "#### Plot by Me ####\n",
    "# Compute absolute mean SHAP values for correct sorting\n",
    "df_mean = df_class_1.abs().mean().reset_index()\n",
    "df_mean.columns = ['Feature', 'Mean |SHAP Value|']\n",
    "df_mean = df_mean.sort_values(by=\"Mean |SHAP Value|\", ascending=True)\n",
    "\n",
    "# Compute actual mean SHAP values for correct bar coloring\n",
    "df_signed_mean = df_class_1.mean(numeric_only=True).reset_index()\n",
    "df_signed_mean.columns = ['Feature', 'Mean SHAP Value']\n",
    "\n",
    "# Merge both to get proper ordering and sign information\n",
    "df_final = df_mean.merge(df_signed_mean, on=\"Feature\")\n",
    "\n",
    "# Assign colors: red for positive, blue for negative values\n",
    "df_final[\"Color\"] = df_final[\"Mean SHAP Value\"].apply(lambda x: \"mediumturquoise\" if x >= 0 else \"crimson\")\n",
    "\n",
    "# Adjust x values: move positive SHAP values to the negative x-axis\n",
    "df_final[\"Adjusted SHAP Value\"] = df_final.apply(\n",
    "    lambda row: -row[\"Mean |SHAP Value|\"] if row[\"Mean SHAP Value\"] <= 0 else row[\"Mean |SHAP Value|\"], axis=1\n",
    ")\n",
    "\n",
    "# Determine max range for better spacing\n",
    "max_x = max(df_final[\"Mean |SHAP Value|\"]) * 1.2  # Extend the range by 20% for better spacing\n",
    "\n",
    "# Creating the horizontal bar plot with correct order\n",
    "fig = go.Figure()\n",
    "fig.add_trace(go.Bar(\n",
    "    x=df_final[\"Adjusted SHAP Value\"],\n",
    "    y=df_final[\"Feature\"],\n",
    "    orientation='h',\n",
    "    marker=dict(color=df_final[\"Color\"]),\n",
    "    text=[f\"{v:.3f}\" for v in df_final[\"Mean |SHAP Value|\"]],  # Annotate absolute SHAP values\n",
    "    textposition=\"outside\",  # Move text outside to avoid overlap\n",
    "    textfont=dict(size=16),  # Increase font size for visibility\n",
    "))\n",
    "\n",
    "# Updating layout to match SHAP importance plot style\n",
    "fig.update_layout(\n",
    "    title=f\"{cate}:{feature}\",\n",
    "    title_font_size=24,\n",
    "    xaxis_title=\"Mean SHAP Value (Average Impact on Model Output)\",\n",
    "    xaxis_title_font_size=20,\n",
    "    yaxis_title=\"Features\",\n",
    "    yaxis_title_font_size=21,\n",
    "    template=\"plotly_white\",\n",
    "    font=dict(size=18),\n",
    "    xaxis=dict(\n",
    "        range=[-max_x, max_x],  # Extend range to avoid label cutting\n",
    "        tickfont=dict(size=18),\n",
    "        zeroline=True,  # Keep central reference line\n",
    "        zerolinecolor=\"black\",\n",
    "        zerolinewidth=2,\n",
    "    ),\n",
    "    yaxis=dict(\n",
    "        tickfont=dict(size=18),\n",
    "        automargin=True  # Automatically adjust margins\n",
    "    ),\n",
    "    showlegend=False,\n",
    "    width=1400,  # Increase width to fit labels better\n",
    "    height=600,  # Increase height for better spacing\n",
    "    margin=dict(l=200, r=50, t=50, b=50),  # Extend left margin for long feature names\n",
    ")\n",
    "\n",
    "# Show the plot\n",
    "fig.show()\n"
   ]
  },
  {
   "cell_type": "code",
   "execution_count": null,
   "metadata": {},
   "outputs": [],
   "source": []
  }
 ],
 "metadata": {
  "kernelspec": {
   "display_name": "Python 3",
   "language": "python",
   "name": "python3"
  },
  "language_info": {
   "codemirror_mode": {
    "name": "ipython",
    "version": 3
   },
   "file_extension": ".py",
   "mimetype": "text/x-python",
   "name": "python",
   "nbconvert_exporter": "python",
   "pygments_lexer": "ipython3",
   "version": "3.10.0"
  }
 },
 "nbformat": 4,
 "nbformat_minor": 2
}
