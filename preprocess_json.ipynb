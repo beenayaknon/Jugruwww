{
 "cells": [
  {
   "cell_type": "code",
   "execution_count": 4,
   "metadata": {},
   "outputs": [],
   "source": [
    "import pandas as pd\n",
    "import random\n",
    "from sklearn.model_selection import train_test_split\n",
    "import json\n",
    "from collections import Counter"
   ]
  },
  {
   "cell_type": "code",
   "execution_count": 3,
   "metadata": {},
   "outputs": [],
   "source": [
    "with open('datset/haveMD_302.json', 'r') as f:\n",
    "    data = json.load(f)\n",
    "\n",
    "df = pd.DataFrame(data)\n",
    "\n",
    "categories_of_interest = {\"Generic policy\", \"Reporting mechanism\", \"Scope of practice\", \"User guideline\"}\n",
    "\n",
    "# Filter rows where `SecurityPolicy_content_category` contains any of the categories of interest\n",
    "df_filtered = df[df['SecurityPolicy_content_category'].apply(\n",
    "    lambda x: any(category in categories_of_interest for category in x)\n",
    ")].copy()\n",
    "\n",
    "\n",
    "def assign_random_category(categories, valid_categories):\n",
    "    categories = list(set(categories) & valid_categories)\n",
    "    if categories:\n",
    "        return random.choice(categories)\n",
    "    return None\n",
    "\n",
    "df_filtered['assigned_category'] = df_filtered['SecurityPolicy_content_category'].apply(\n",
    "    lambda x: assign_random_category(x, categories_of_interest))\n",
    "\n",
    "df_filtered = df_filtered[df_filtered['assigned_category'].notnull()]\n",
    "\n",
    "# stratified train-test split 70-30\n",
    "train_df, temp_df = train_test_split(\n",
    "    df_filtered, test_size=0.3, stratify=df_filtered['assigned_category'], random_state=42\n",
    ")\n",
    "\n",
    "# split temp_df into val and test sets 20-10\n",
    "validation_df, test_df = train_test_split(\n",
    "    temp_df, test_size=(1/3), stratify=temp_df['assigned_category'], random_state=42\n",
    ")\n",
    "\n",
    "train_df = train_df.drop(columns=['assigned_category'])\n",
    "validation_df = validation_df.drop(columns=['assigned_category'])\n",
    "test_df = test_df.drop(columns=['assigned_category'])\n",
    "\n",
    "def save_json_without_escape(filepath, dataframe):\n",
    "    with open(filepath, 'w') as f:\n",
    "        json.dump(dataframe.to_dict(orient='records'), f, ensure_ascii=False, indent=4)\n",
    "\n",
    "save_json_without_escape('train.json', train_df)\n",
    "save_json_without_escape('validation.json', validation_df)\n",
    "save_json_without_escape('test.json', test_df)\n"
   ]
  },
  {
   "cell_type": "code",
   "execution_count": 5,
   "metadata": {},
   "outputs": [
    {
     "name": "stdout",
     "output_type": "stream",
     "text": [
      "\n",
      "Train Dataset: Total Packages = 196\n",
      "Category Counts in Train Dataset:\n",
      "Reporting mechanism: 195\n",
      "Generic policy: 148\n",
      "Scope of practice: 87\n",
      "User guideline: 84\n",
      "History of vulnerability: 4\n",
      "Information on maintainer: 3\n",
      "Projects practice: 15\n",
      "Additional information: 7\n",
      "\n",
      "Validation Dataset: Total Packages = 56\n",
      "Category Counts in Validation Dataset:\n",
      "Reporting mechanism: 58\n",
      "Generic policy: 43\n",
      "Scope of practice: 26\n",
      "User guideline: 17\n",
      "History of vulnerability: 2\n",
      "Projects practice: 4\n",
      "\n",
      "Test Dataset: Total Packages = 28\n",
      "Category Counts in Test Dataset:\n",
      "Reporting mechanism: 29\n",
      "Generic policy: 19\n",
      "User guideline: 12\n",
      "Scope of practice: 13\n",
      "History of vulnerability: 2\n",
      "Information on maintainer: 1\n",
      "Projects practice: 1\n"
     ]
    }
   ],
   "source": [
    "def read_json(filepath):\n",
    "    with open(filepath, 'r') as f:\n",
    "        return pd.DataFrame(json.load(f))\n",
    "\n",
    "train_df = read_json('train.json')\n",
    "validation_df = read_json('validation.json')\n",
    "test_df = read_json('test.json')\n",
    "\n",
    "datasets = {\"Train\": train_df, \"Validation\": validation_df, \"Test\": test_df}\n",
    "\n",
    "# Process each set\n",
    "for dataset_name, dataset in datasets.items():\n",
    "    # Total number of packages\n",
    "    total_packages = len(dataset)\n",
    "    print(f\"\\n{dataset_name} Dataset: Total Packages = {total_packages}\")\n",
    "    \n",
    "    # Count packages for each category\n",
    "    category_counts = Counter(\n",
    "        category for categories in dataset['SecurityPolicy_content_category'] for category in categories\n",
    "    )\n",
    "    print(f\"Category Counts in {dataset_name} Dataset:\")\n",
    "    for category, count in category_counts.items():\n",
    "        print(f\"{category}: {count}\")"
   ]
  }
 ],
 "metadata": {
  "kernelspec": {
   "display_name": "base",
   "language": "python",
   "name": "python3"
  },
  "language_info": {
   "codemirror_mode": {
    "name": "ipython",
    "version": 3
   },
   "file_extension": ".py",
   "mimetype": "text/x-python",
   "name": "python",
   "nbconvert_exporter": "python",
   "pygments_lexer": "ipython3",
   "version": "3.11.5"
  }
 },
 "nbformat": 4,
 "nbformat_minor": 2
}
