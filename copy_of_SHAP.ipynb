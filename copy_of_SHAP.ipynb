{
 "cells": [
  {
   "cell_type": "markdown",
   "metadata": {},
   "source": [
    "Shap value for project features and content categories\n",
    "\n",
    "guidelines:\n",
    "\n",
    "SHAP intro: https://shap.readthedocs.io/en/latest/example_notebooks/overviews/An%20introduction%20to%20explainable%20AI%20with%20Shapley%20values.html\n",
    "\n",
    "SHAP with Random forest: https://www.kaggle.com/code/vikumsw/explaining-random-forest-model-with-shapely-values\n",
    "\n",
    "SHAP with XGboost: https://shap.readthedocs.io/en/latest/example_notebooks/tabular_examples/tree_based_models/Basic%20SHAP%20Interaction%20Value%20Example%20in%20XGBoost.html\n",
    "\n",
    "SHAP with catboost: https://shap.readthedocs.io/en/latest/example_notebooks/tabular_examples/tree_based_models/Catboost%20tutorial.html\n",
    "\n",
    "SHAP with LightGBM: https://shap.readthedocs.io/en/latest/example_notebooks/tabular_examples/tree_based_models/Census%20income%20classification%20with%20LightGBM.html\n",
    "\n"
   ]
  },
  {
   "cell_type": "code",
   "execution_count": 1,
   "metadata": {},
   "outputs": [],
   "source": [
    "import pandas as pd\n",
    "import shap\n",
    "import matplotlib.pyplot as plt\n",
    "from sklearn.model_selection import train_test_split, StratifiedShuffleSplit\n",
    "from sklearn.svm import LinearSVC\n",
    "from sklearn.ensemble import RandomForestClassifier\n",
    "from xgboost import XGBClassifier, DMatrix\n",
    "from lightgbm import LGBMClassifier, Dataset, train as lgb_train\n",
    "from catboost import CatBoostClassifier, CatBoostRegressor\n",
    "\n",
    "import json\n",
    "from matplotlib.colors import LinearSegmentedColormap\n",
    "from sklearn.metrics import classification_report"
   ]
  },
  {
   "cell_type": "code",
   "execution_count": 2,
   "metadata": {},
   "outputs": [],
   "source": [
    "def select_model(model_name):\n",
    "    \"\"\"Selects and returns the specified model.\"\"\"\n",
    "    models = {\n",
    "        'LinearSVC': LinearSVC(),\n",
    "        'RandomForest': RandomForestClassifier(),\n",
    "        'XGBoost': XGBClassifier(n_estimators=2, max_depth=2, learning_rate=2.5, objective='binary:logistic', use_label_encoder=False, eval_metric='logloss'),\n",
    "        'LightGBM': LGBMClassifier(),\n",
    "        # 'CatBoost': CatBoostClassifier(verbose=0)\n",
    "    }\n",
    "    return models.get(model_name, RandomForestClassifier())  # Default to RandomForest if model not found\n",
    "\n",
    "def select_explainer(model_name, model, X_train):\n",
    "    \"\"\"Selects the appropriate SHAP explainer based on the model.\"\"\"\n",
    "    if model_name in ['LinearSVC', 'RandomForest']:\n",
    "        return shap.KernelExplainer(model.predict, X_train)\n",
    "    elif model_name in ['XGBoost', 'LightGBM', 'CatBoost']:\n",
    "        return shap.TreeExplainer(model)\n",
    "    else:\n",
    "        raise ValueError(f\"No SHAP explainer defined for model: {model_name}\")\n",
    "\n",
    "def target_category_filter(categories, target_category):\n",
    "    \"\"\"Returns 1 if the target category is in the list, else 0.\"\"\"\n",
    "    return 1 if isinstance(categories, list) and target_category in categories else 0\n"
   ]
  },
  {
   "cell_type": "code",
   "execution_count": 3,
   "metadata": {},
   "outputs": [],
   "source": [
    "def preprocess_data(data, target_column):\n",
    "    \"\"\"Preprocesses the data and splits it into train, test, and validation sets with stratified sampling.\"\"\"\n",
    "    X = data.drop(columns=[target_column])\n",
    "    y = data[target_column]\n",
    "\n",
    "    # train and temp (70% train, 30% temp)\n",
    "    stratified_split = StratifiedShuffleSplit(n_splits=1, test_size=0.3, random_state=42)\n",
    "    for train_index, temp_index in stratified_split.split(X, y):\n",
    "        X_train, X_temp = X.iloc[train_index], X.iloc[temp_index]\n",
    "        y_train, y_temp = y.iloc[train_index], y.iloc[temp_index]\n",
    "\n",
    "    # test and validation (30% of 20%)\n",
    "    stratified_split = StratifiedShuffleSplit(n_splits=1, test_size=0.3, random_state=42)\n",
    "    for test_index, val_index in stratified_split.split(X_temp, y_temp):\n",
    "        X_test, X_val = X_temp.iloc[test_index], X_temp.iloc[val_index]\n",
    "        y_test, y_val = y_temp.iloc[test_index], y_temp.iloc[val_index]\n",
    "\n",
    "    return X_train, X_test, X_val, y_train, y_test, y_val"
   ]
  },
  {
   "cell_type": "code",
   "execution_count": null,
   "metadata": {},
   "outputs": [],
   "source": [
    "# Change your file location here na\n",
    "with open('dataset/AllPackages_rename_2025.json', 'r', encoding='utf-8') as file:\n",
    "    raw_data = json.load(file)\n",
    "    \n",
    "selected_columns = ['SecurityPolicy_content_category', 'num_commits', 'num_contributors', 'num_issues', 'num_pull', 'project_age_days', 'num_stargazers']\n",
    "data = []\n",
    "for item in raw_data:\n",
    "    filtered_item = {key: item[key] for key in selected_columns if key in item}\n",
    "    data.append(filtered_item)\n",
    "\n",
    "data = pd.DataFrame(data)\n",
    "data.head()"
   ]
  },
  {
   "cell_type": "code",
   "execution_count": null,
   "metadata": {},
   "outputs": [],
   "source": [
    "# Select target category and model\n",
    "target_category = 'User guideline'  # Choose from: 'Generic policy', 'Reporting mechanism', 'Scope of practice', 'User guideline'\n",
    "model_name = 'XGBoost'  # Choose from: 'LinearSVC', 'RandomForest', 'XGBoost', 'LightGBM', 'CatBoost'\n",
    "\n",
    "data['SecurityPolicy_content_category'] = data['SecurityPolicy_content_category'].apply(lambda x: target_category_filter(x, target_category))\n",
    "\n",
    "# Preprocess data\n",
    "target_column = 'SecurityPolicy_content_category'\n",
    "X_train, X_test, X_val, y_train, y_test, y_val = preprocess_data(data, target_column)\n",
    "\n",
    "# Select model\n",
    "model = select_model(model_name)\n",
    "\n",
    "# Train the model\n",
    "model.fit(X_train, y_train)\n",
    "\n",
    "# Select the appropriate SHAP explainer\n",
    "explainer = select_explainer(model_name, model, X_train)\n",
    "shap_values = explainer.shap_values(X_test) if model_name in ['XGBoost', 'LightGBM', 'CatBoost'] else explainer(X_test)\n",
    "\n",
    "# print report\n",
    "y_pred = model.predict(X_test)\n",
    "print(\"Classification Report:\")\n",
    "print(classification_report(y_test, y_pred))\n",
    "\n",
    "# Visualize feature importance\n",
    "cmap = LinearSegmentedColormap.from_list(\"custom\", [\"#f3baba\", \"#006C6C\"])\n",
    "shap.summary_plot(shap_values, X_test, cmap=cmap)"
   ]
  }
 ],
 "metadata": {
  "kernelspec": {
   "display_name": "base",
   "language": "python",
   "name": "python3"
  },
  "language_info": {
   "codemirror_mode": {
    "name": "ipython",
    "version": 3
   },
   "file_extension": ".py",
   "mimetype": "text/x-python",
   "name": "python",
   "nbconvert_exporter": "python",
   "pygments_lexer": "ipython3",
   "version": "3.11.5"
  }
 },
 "nbformat": 4,
 "nbformat_minor": 2
}
